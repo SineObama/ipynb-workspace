{
 "cells": [
  {
   "cell_type": "code",
   "execution_count": 1,
   "metadata": {
    "collapsed": true
   },
   "outputs": [],
   "source": [
    "import numpy as np\n",
    "import Queue"
   ]
  },
  {
   "cell_type": "code",
   "execution_count": 2,
   "metadata": {
    "collapsed": false
   },
   "outputs": [],
   "source": [
    "class State(object):\n",
    "    def __init__(self, array, parent, depth, value):\n",
    "        self.array = array\n",
    "        self.parent = parent\n",
    "        self.depth = depth\n",
    "        self.value = value\n",
    "    def __hash__(self):\n",
    "        a = self.array.reshape(9)\n",
    "        rtn = a[0]\n",
    "        for i in range(1, 9):\n",
    "            rtn *= 9\n",
    "            rtn += a[i]\n",
    "        return rtn\n",
    "    def __cmp__(self, o):\n",
    "        return self.value - o.value"
   ]
  },
  {
   "cell_type": "code",
   "execution_count": 3,
   "metadata": {
    "collapsed": false
   },
   "outputs": [],
   "source": [
    "def Astar(origin, target, func):\n",
    "    directs = [(0,1), (0,-1), (-1,0), (1,0)]\n",
    "    opened = Queue.PriorityQueue()\n",
    "    closed = {}\n",
    "    found = False\n",
    "    opened.put(State(origin, None, 0, func(origin, target, 0)))\n",
    "    while not opened.empty():\n",
    "        state = opened.get(0)\n",
    "        closed[state] = True\n",
    "        if (state.array == target).all():\n",
    "            found = True\n",
    "            break\n",
    "        pos = np.where(state.array == 0)\n",
    "        for direct in directs:\n",
    "            newPos = (pos[0][0] + direct[0], pos[1][0] + direct[1])\n",
    "            if newPos[0] > -1 and newPos[0] < 3 and newPos[1] > -1 and newPos[1] < 3:\n",
    "                newArray = state.array.copy()\n",
    "                newArray[pos[0][0], pos[1][0]] = newArray[newPos[0], newPos[1]]\n",
    "                newArray[newPos[0], newPos[1]] = 0\n",
    "                newState = State(newArray, state, state.depth+1, func(newArray, target, state.depth+1))\n",
    "                if not closed.has_key(newState):\n",
    "                    opened.put(newState)\n",
    "    if not found:\n",
    "        state = None\n",
    "    rtn = []\n",
    "    while state is not None:\n",
    "        rtn.insert(0, state.array)\n",
    "        state = state.parent\n",
    "    return rtn"
   ]
  },
  {
   "cell_type": "code",
   "execution_count": 4,
   "metadata": {
    "collapsed": true
   },
   "outputs": [],
   "source": [
    "def func(state, target, depth):\n",
    "    '''函数F根据当前状态和目标状态、当前步数/深度估值'''\n",
    "    return depth + 9 - (state == target).sum()"
   ]
  },
  {
   "cell_type": "code",
   "execution_count": 5,
   "metadata": {
    "collapsed": true
   },
   "outputs": [],
   "source": [
    "t0 = np.array([2,3,6,1,0,5,4,7,8]).reshape(3,3)\n",
    "t = np.array([1,2,3,0,5,6,4,7,8]).reshape(3,3)\n",
    "tt = np.array([1,2,3,4,5,6,0,7,8]).reshape(3,3)\n",
    "ttt = np.array([1,2,3,4,5,6,7,0,8]).reshape(3,3)\n",
    "target = np.array([1,2,3,4,5,6,7,8,0]).reshape(3,3)"
   ]
  },
  {
   "cell_type": "code",
   "execution_count": 6,
   "metadata": {
    "collapsed": false
   },
   "outputs": [
    {
     "data": {
      "text/plain": [
       "[array([[2, 3, 6],\n",
       "        [1, 0, 5],\n",
       "        [4, 7, 8]]), array([[2, 3, 6],\n",
       "        [1, 5, 0],\n",
       "        [4, 7, 8]]), array([[2, 3, 0],\n",
       "        [1, 5, 6],\n",
       "        [4, 7, 8]]), array([[2, 0, 3],\n",
       "        [1, 5, 6],\n",
       "        [4, 7, 8]]), array([[0, 2, 3],\n",
       "        [1, 5, 6],\n",
       "        [4, 7, 8]]), array([[1, 2, 3],\n",
       "        [0, 5, 6],\n",
       "        [4, 7, 8]]), array([[1, 2, 3],\n",
       "        [4, 5, 6],\n",
       "        [0, 7, 8]]), array([[1, 2, 3],\n",
       "        [4, 5, 6],\n",
       "        [7, 0, 8]]), array([[1, 2, 3],\n",
       "        [4, 5, 6],\n",
       "        [7, 8, 0]])]"
      ]
     },
     "execution_count": 6,
     "metadata": {},
     "output_type": "execute_result"
    }
   ],
   "source": [
    "Astar(t0, target, func)"
   ]
  },
  {
   "cell_type": "code",
   "execution_count": 7,
   "metadata": {
    "collapsed": false
   },
   "outputs": [
    {
     "data": {
      "text/plain": [
       "[array([[1, 2, 3],\n",
       "        [0, 5, 6],\n",
       "        [4, 7, 8]]), array([[1, 2, 3],\n",
       "        [4, 5, 6],\n",
       "        [0, 7, 8]]), array([[1, 2, 3],\n",
       "        [4, 5, 6],\n",
       "        [7, 0, 8]]), array([[1, 2, 3],\n",
       "        [4, 5, 6],\n",
       "        [7, 8, 0]])]"
      ]
     },
     "execution_count": 7,
     "metadata": {},
     "output_type": "execute_result"
    }
   ],
   "source": [
    "Astar(t, target, func)"
   ]
  },
  {
   "cell_type": "code",
   "execution_count": 8,
   "metadata": {
    "collapsed": false
   },
   "outputs": [
    {
     "data": {
      "text/plain": [
       "[array([[1, 2, 3],\n",
       "        [4, 5, 6],\n",
       "        [0, 7, 8]]), array([[1, 2, 3],\n",
       "        [4, 5, 6],\n",
       "        [7, 0, 8]]), array([[1, 2, 3],\n",
       "        [4, 5, 6],\n",
       "        [7, 8, 0]])]"
      ]
     },
     "execution_count": 8,
     "metadata": {},
     "output_type": "execute_result"
    }
   ],
   "source": [
    "Astar(tt, target, func)"
   ]
  },
  {
   "cell_type": "code",
   "execution_count": 9,
   "metadata": {
    "collapsed": false
   },
   "outputs": [
    {
     "data": {
      "text/plain": [
       "[array([[1, 2, 3],\n",
       "        [4, 5, 6],\n",
       "        [7, 0, 8]]), array([[1, 2, 3],\n",
       "        [4, 5, 6],\n",
       "        [7, 8, 0]])]"
      ]
     },
     "execution_count": 9,
     "metadata": {},
     "output_type": "execute_result"
    }
   ],
   "source": [
    "Astar(ttt, target, func)"
   ]
  }
 ],
 "metadata": {
  "kernelspec": {
   "display_name": "Python 2",
   "language": "python",
   "name": "python2"
  },
  "language_info": {
   "codemirror_mode": {
    "name": "ipython",
    "version": 2
   },
   "file_extension": ".py",
   "mimetype": "text/x-python",
   "name": "python",
   "nbconvert_exporter": "python",
   "pygments_lexer": "ipython2",
   "version": "2.7.13"
  }
 },
 "nbformat": 4,
 "nbformat_minor": 2
}

{
 "cells": [
  {
   "cell_type": "code",
   "execution_count": null,
   "metadata": {
    "collapsed": true
   },
   "outputs": [],
   "source": [
    "import re\n",
    "import sys\n",
    "import time"
   ]
  },
  {
   "cell_type": "code",
   "execution_count": null,
   "metadata": {
    "collapsed": true
   },
   "outputs": [],
   "source": [
    "def stamps2str(stamps, fm):\n",
    "    timeArray = time.localtime(stamps)\n",
    "    return time.strftime(fm, timeArray)"
   ]
  },
  {
   "cell_type": "code",
   "execution_count": null,
   "metadata": {
    "collapsed": false
   },
   "outputs": [],
   "source": [
    "with open('output.txt', 'w') as f, open(sys.argv[1], 'r') as fi:\n",
    "    rex = re.compile('<A HREF=\"(.*?)\" ADD_DATE=\"(.*?)\" ICON=\".*?\">(.*?)</A>')\n",
    "    for line in fi:\n",
    "        i = re.findall(rex, line)\n",
    "        if len(i) == 0:\n",
    "            continue\n",
    "        i = i[0]\n",
    "        f.write(i[0])\n",
    "        f.write('\\t')\n",
    "        stamps = int(i[1])\n",
    "        if stamps >= 0:\n",
    "            f.write(stamps2str(stamps, \"%Y/%m/%d\"))\n",
    "        f.write('\\t')\n",
    "        if stamps >= 0:\n",
    "            f.write(stamps2str(stamps, \"%H:%M:%S\"))\n",
    "        f.write('\\t')\n",
    "        f.write(i[2])\n",
    "        f.write('\\n')"
   ]
  }
 ],
 "metadata": {
  "kernelspec": {
   "display_name": "Python 2",
   "language": "python",
   "name": "python2"
  },
  "language_info": {
   "codemirror_mode": {
    "name": "ipython",
    "version": 2
   },
   "file_extension": ".py",
   "mimetype": "text/x-python",
   "name": "python",
   "nbconvert_exporter": "python",
   "pygments_lexer": "ipython2",
   "version": "2.7.13"
  }
 },
 "nbformat": 4,
 "nbformat_minor": 2
}

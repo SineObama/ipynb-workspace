{
 "cells": [
  {
   "cell_type": "markdown",
   "metadata": {},
   "source": [
    "作者：绿洲元\n",
    "链接：https://www.zhihu.com/question/275901829/answer/1574659804\n",
    "来源：知乎\n",
    "著作权归作者所有。商业转载请联系作者获得授权，非商业转载请注明出处。"
   ]
  },
  {
   "cell_type": "markdown",
   "metadata": {},
   "source": [
    "写了一个python脚本下载全部表情包\n",
    "\n",
    "访问API获取表情包信息\n",
    "在登录的状态下访问 http://api.bilibili.com/x/emote/setting/panel?business=reply ，返回的json另存为 emoji.json\n",
    "\n",
    "运行脚本"
   ]
  },
  {
   "cell_type": "code",
   "execution_count": 1,
   "metadata": {},
   "outputs": [],
   "source": [
    "import json\n",
    "import os\n",
    "from concurrent.futures import ThreadPoolExecutor\n",
    "from functools import partial\n",
    "from time import sleep\n",
    "\n",
    "import requests\n",
    "from tqdm import tqdm\n",
    "\n",
    "\n",
    "def mkdir(path):\n",
    "    if os.path.exists(path) is not True:\n",
    "        os.makedirs(path)\n",
    "\n",
    "\n",
    "def download_pic(url, path):\n",
    "    resp = requests.get(url)\n",
    "    with open(path, 'wb') as code:\n",
    "        code.write(resp.content)\n",
    "\n",
    "\n",
    "def download_emoji(emoji, save_path):\n",
    "    emoji_name = emoji['text']\n",
    "    emoji_name = emoji_name[1:-1]\n",
    "    path = os.path.join(save_path, f'{emoji_name}.png')\n",
    "    download_pic(emoji['url'], path)\n",
    "\n",
    "\n",
    "def download_package(package, path):\n",
    "    package_name = package['text']\n",
    "    save_path = os.path.join(path, package_name)\n",
    "    mkdir(save_path)\n",
    "    all_emote = set(map(lambda e: e['text'][1:-1], package['emote']))\n",
    "    downloaded_emote = set(map(lambda e: e[:-4], os.listdir(save_path)))\n",
    "    download_emote_name = all_emote - downloaded_emote\n",
    "    if len(download_emote_name) == 0:\n",
    "        return\n",
    "    going_to_download_emote = filter(lambda e: e['text'][1:-1] in download_emote_name, package['emote'])\n",
    "    with ThreadPoolExecutor() as executor:\n",
    "        executor.map(partial(download_emoji, save_path=save_path), going_to_download_emote)\n",
    "    sleep(3)\n"
   ]
  },
  {
   "cell_type": "code",
   "execution_count": 3,
   "metadata": {},
   "outputs": [
    {
     "name": "stderr",
     "output_type": "stream",
     "text": [
      "坎公骑冠剑: 100%|█████████████████████████████████████████████████████████████████████████| 205/205 [11:05<00:00,  3.15s/it]\n"
     ]
    }
   ],
   "source": [
    "with open('emoji.json', 'r', encoding='utf-8') as fp:\n",
    "    emojis = json.load(fp)\n",
    "emoji_packages = emojis['data']['all_packages']\n",
    "package_path = 'bilibili_emoji'\n",
    "bar = tqdm(emoji_packages)\n",
    "for p in bar:\n",
    "    if p['text'] == '颜文字':\n",
    "        continue\n",
    "    bar.set_description(p['text'])\n",
    "    download_package(p, package_path)"
   ]
  },
  {
   "cell_type": "code",
   "execution_count": 2,
   "metadata": {},
   "outputs": [
    {
     "name": "stderr",
     "output_type": "stream",
     "text": [
      "\r",
      "  0%|                                                                                          | 0/205 [00:00<?, ?it/s]"
     ]
    }
   ],
   "source": [
    "with open('emoji.json', 'r', encoding='utf-8') as fp:\n",
    "    emojis = json.load(fp)\n",
    "emoji_packages = emojis['data']['all_packages']\n",
    "package_path = 'bilibili_emoji'\n",
    "bar = tqdm(emoji_packages)\n"
   ]
  },
  {
   "cell_type": "code",
   "execution_count": 8,
   "metadata": {},
   "outputs": [
    {
     "name": "stdout",
     "output_type": "stream",
     "text": [
      "<filter object at 0x000001CBC01BDC88>\n"
     ]
    }
   ],
   "source": [
    "for p in bar:\n",
    "    if p['text'] == '颜文字':\n",
    "        continue\n",
    "#     bar.set_description(p['text'])\n",
    "    \n",
    "    package=p\n",
    "    path=package_path\n",
    "    package_name = package['text']\n",
    "    save_path = os.path.join(path, package_name)\n",
    "    mkdir(save_path)\n",
    "    all_emote = set(map(lambda e: e['text'][1:-1], package['emote']))\n",
    "    downloaded_emote = set(map(lambda e: e[:-4], os.listdir(save_path)))\n",
    "    download_emote_name = all_emote - downloaded_emote\n",
    "    going_to_download_emote = filter(lambda e: e['text'][1:-1] in all_emote, package['emote'])\n",
    "    print(going_to_download_emote)\n",
    "#     with ThreadPoolExecutor() as executor:\n",
    "#         executor.map(partial(download_emoji, save_path=save_path), going_to_download_emote)\n",
    "#     sleep(3)\n",
    "    break\n"
   ]
  }
 ],
 "metadata": {
  "kernelspec": {
   "display_name": "Python 3",
   "language": "python",
   "name": "python3"
  },
  "language_info": {
   "codemirror_mode": {
    "name": "ipython",
    "version": 3
   },
   "file_extension": ".py",
   "mimetype": "text/x-python",
   "name": "python",
   "nbconvert_exporter": "python",
   "pygments_lexer": "ipython3",
   "version": "3.7.2"
  }
 },
 "nbformat": 4,
 "nbformat_minor": 2
}

{
 "cells": [
  {
   "cell_type": "code",
   "execution_count": null,
   "id": "a9fdb66c",
   "metadata": {},
   "outputs": [],
   "source": [
    "# 重定向修复：将已下载的html网页中（被站内“包装”隐藏起来）的链接解开一层重定向，替换为重定向后的地址，以适应资源库无法访问的情况，避免失联"
   ]
  },
  {
   "cell_type": "code",
   "execution_count": null,
   "id": "b78aa079",
   "metadata": {},
   "outputs": [],
   "source": [
    "import html\n",
    "import requests\n",
    "import time\n",
    "from sine.utils import *\n",
    "from multiprocessing.pool import ThreadPool"
   ]
  },
  {
   "cell_type": "code",
   "execution_count": null,
   "id": "dd14250e",
   "metadata": {},
   "outputs": [],
   "source": [
    "output_file = 'D:\\\\Downloads\\\\Jay的资源库 - 公众号：无与伦比的Jay同学2.html'\n",
    "with open('D:\\\\Downloads\\\\Jay的资源库 - 公众号：无与伦比的Jay同学.html', 'r', encoding='utf-8') as f:\n",
    "    txt = f.read()"
   ]
  },
  {
   "cell_type": "code",
   "execution_count": null,
   "id": "780e0904",
   "metadata": {},
   "outputs": [],
   "source": [
    "def isUrlNeedDeal(oldhref):\n",
    "    '''重定向链接初步筛选。本站定制'''\n",
    "    return oldhref.find('index.php') > 0"
   ]
  },
  {
   "cell_type": "code",
   "execution_count": null,
   "id": "316e270a",
   "metadata": {},
   "outputs": [],
   "source": [
    "# 以本文形式处理，识别出链接元素及其后的url地址，后续做替换\n",
    "split_str='<a href=\"'\n",
    "group = txt.split(split_str)"
   ]
  },
  {
   "cell_type": "code",
   "execution_count": null,
   "id": "7b167055",
   "metadata": {},
   "outputs": [],
   "source": [
    "HEADERS = {\n",
    "    'accept-encoding': 'gzip, deflate, br',\n",
    "    'accept-language': 'zh-CN,zh;q=0.9',\n",
    "    'pragma': 'no-cache',\n",
    "    'cache-control': 'no-cache',\n",
    "    'upgrade-insecure-requests': '1',\n",
    "    'user-agent': \"Mozilla/5.0 (iPhone; CPU iPhone OS 11_0 like Mac OS X) AppleWebKit/604.1.38 (KHTML, like Gecko) Version/11.0 Mobile/15A372 Safari/604.1\",\n",
    "}\n",
    "def get_real_address(url):\n",
    "    '''处理302重定向请求'''\n",
    "    res = requests.get(url, headers=HEADERS, allow_redirects=False)\n",
    "    return res.headers['Location'] if res.status_code == 302 else None"
   ]
  },
  {
   "cell_type": "code",
   "execution_count": null,
   "id": "533e4624",
   "metadata": {},
   "outputs": [],
   "source": [
    "hrefs = []\n",
    "for i in range(1, len(group)):\n",
    "    href = group[i].split('\"', 1)\n",
    "    hrefs.append(href[0])"
   ]
  },
  {
   "cell_type": "code",
   "execution_count": null,
   "id": "12c1f142",
   "metadata": {},
   "outputs": [],
   "source": [
    "hsize = len(hrefs)\n",
    "bar = PredictableProcessBar(total=hsize, unit='个', smoothing=0)\n",
    "def download_302(i, bar):\n",
    "    oldgroup = group[i + 1]\n",
    "    oldhref = hrefs[i]\n",
    "    if isUrlNeedDeal(oldhref):\n",
    "        newhref = get_real_address(html.unescape(oldhref))\n",
    "        if newhref != None:\n",
    "            group[i + 1] = oldgroup.replace(oldhref, newhref)\n",
    "            hrefs[i] = newhref\n",
    "    bar.update(1)\n",
    "with ThreadPool(20) as executor, PredictableProcessBar(total=hsize) as bar:\n",
    "    for i in range(hsize):\n",
    "        executor.apply_async(download_302, args=(i, bar), callback=None)\n",
    "    executor.close()\n",
    "    executor.join()\n",
    "    bar.display()\n",
    "    time.sleep(1)\n",
    "    bar.display()"
   ]
  },
  {
   "cell_type": "code",
   "execution_count": null,
   "id": "32483c9e",
   "metadata": {},
   "outputs": [],
   "source": [
    "newtxt = split_str.join(group)"
   ]
  },
  {
   "cell_type": "code",
   "execution_count": null,
   "id": "62d13592",
   "metadata": {},
   "outputs": [],
   "source": [
    "with open(output_file, 'w', encoding='utf-8') as f:\n",
    "    f.write(newtxt)"
   ]
  }
 ],
 "metadata": {
  "kernelspec": {
   "display_name": "Python 3 (ipykernel)",
   "language": "python",
   "name": "python3"
  },
  "language_info": {
   "codemirror_mode": {
    "name": "ipython",
    "version": 3
   },
   "file_extension": ".py",
   "mimetype": "text/x-python",
   "name": "python",
   "nbconvert_exporter": "python",
   "pygments_lexer": "ipython3",
   "version": "3.10.1"
  }
 },
 "nbformat": 4,
 "nbformat_minor": 5
}

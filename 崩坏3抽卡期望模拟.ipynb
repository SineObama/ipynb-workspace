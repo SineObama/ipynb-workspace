{
 "cells": [
  {
   "cell_type": "code",
   "execution_count": 1,
   "id": "ecc5aca0",
   "metadata": {},
   "outputs": [],
   "source": [
    "# 基础概率与保底\n",
    "i1=0.02479\n",
    "i2=0.0124\n",
    "bd=50\n",
    "it=i1+i2*3\n",
    "import random\n",
    "import copy"
   ]
  },
  {
   "cell_type": "code",
   "execution_count": 2,
   "id": "b3ae241c",
   "metadata": {},
   "outputs": [],
   "source": [
    "# 模拟：情况，水位，模拟次数\n",
    "def moni(bag, lv, count):\n",
    "    gai = {'g1':0, 'g2':[0]*bag['q2'], 'g0':0, 'c0':0}\n",
    "    for i in range(count):\n",
    "        gaii = {'g1':0, 'g2':[], 'g0':0, 'c0':0}\n",
    "        monione(copy.deepcopy(bag), lv, gaii)\n",
    "        # 叠加结果\n",
    "        gai['g1'] += gaii['g1']\n",
    "        for j in range(bag['q2']):\n",
    "            gai['g2'][j] += gaii['g2'][j]\n",
    "        gai['g0'] += gaii['g0']\n",
    "        gai['c0'] += gaii['c0']\n",
    "    # 算平均\n",
    "    gai['g1'] /= count\n",
    "    for j in range(len(gai['g2'])):\n",
    "        gai['g2'][j] /= count\n",
    "    gai['g0'] /= count\n",
    "    gai['c0'] /= count\n",
    "    return gai"
   ]
  },
  {
   "cell_type": "code",
   "execution_count": 9,
   "id": "4c91be74",
   "metadata": {},
   "outputs": [],
   "source": [
    "# 模拟一次：情况，水位，概率结果\n",
    "def monione(bag, lv, gai):\n",
    "    # 递归模拟一次抽卡直到出货（保底）\n",
    "    if (bag['q1'] == 0 and bag['q2'] == 0):\n",
    "        if gai['g0'] <= bag['c']:\n",
    "            # 在预计抽数范围内\n",
    "            gai['c0'] += 1\n",
    "        return\n",
    "    # 当前出货概率总和\n",
    "    itn = bag['q1'] * i1 + bag['q2'] * i2\n",
    "    for i in range(lv, bd):\n",
    "        if (random.random() < itn):\n",
    "            break\n",
    "    submit(bag, i + 1, gai, itn)\n",
    "  \n",
    "# 保存一次概率结果并继续递归抽卡\n",
    "def submit(bag, i, gai, itn):\n",
    "    gai['g0'] += i\n",
    "    # 分情况是出了武器还是圣痕\n",
    "    if (bag['q1'] > 0 and random.random() < i1 / itn):\n",
    "        bag['q1'] -= 1\n",
    "        gai['g1'] = i\n",
    "        monione(bag, 0, gai)\n",
    "    else:\n",
    "        bag['q2'] -= 1\n",
    "        gai['g2'].append(i)\n",
    "        monione(bag, 0, gai)"
   ]
  },
  {
   "cell_type": "code",
   "execution_count": 11,
   "id": "7d0c06a0",
   "metadata": {},
   "outputs": [
    {
     "data": {
      "text/plain": [
       "{'g1': 19.24168,\n",
       " 'g2': [18.3975, 25.67576, 36.01621],\n",
       " 'g0': 99.33115,\n",
       " 'c0': 0.50155}"
      ]
     },
     "execution_count": 11,
     "metadata": {},
     "output_type": "execute_result"
    }
   ],
   "source": [
    "# 当前情况：缺少的武器和圣痕数量，预计有多少抽\n",
    "bag={'q1':1, 'q2':3, 'c':99}\n",
    "# 概率结果：武器抽数期望，若干圣痕依次的抽数期望，预计抽数能抽到的概率\n",
    "moni(bag, 0, 100000)"
   ]
  },
  {
   "cell_type": "code",
   "execution_count": 13,
   "id": "affdf68d",
   "metadata": {},
   "outputs": [
    {
     "data": {
      "text/plain": [
       "{'g1': 21.72754, 'g2': [23.68127, 35.03627], 'g0': 80.44508, 'c0': 0.50878}"
      ]
     },
     "execution_count": 13,
     "metadata": {},
     "output_type": "execute_result"
    }
   ],
   "source": [
    "bag={'q1':1, 'q2':2, 'c':80}\n",
    "moni(bag, 0, 100000)"
   ]
  },
  {
   "cell_type": "code",
   "execution_count": 15,
   "id": "55efa039",
   "metadata": {},
   "outputs": [
    {
     "data": {
      "text/plain": [
       "{'g1': 24.93959, 'g2': [32.52233], 'g0': 57.46192, 'c0': 0.50045}"
      ]
     },
     "execution_count": 15,
     "metadata": {},
     "output_type": "execute_result"
    }
   ],
   "source": [
    "bag={'q1':1, 'q2':1, 'c':57}\n",
    "moni(bag, 0, 100000)"
   ]
  },
  {
   "cell_type": "code",
   "execution_count": 17,
   "id": "79fcf68b",
   "metadata": {},
   "outputs": [
    {
     "data": {
      "text/plain": [
       "{'g1': 0.0,\n",
       " 'g2': [22.83363, 28.90192, 37.42752],\n",
       " 'g0': 89.16307,\n",
       " 'c0': 0.49765}"
      ]
     },
     "execution_count": 17,
     "metadata": {},
     "output_type": "execute_result"
    }
   ],
   "source": [
    "bag={'q1':0, 'q2':3, 'c':89}\n",
    "moni(bag, 0, 100000)"
   ]
  },
  {
   "cell_type": "code",
   "execution_count": 19,
   "id": "d116afcf",
   "metadata": {},
   "outputs": [
    {
     "data": {
      "text/plain": [
       "{'g1': 0.0, 'g2': [28.84188, 37.48948], 'g0': 66.33136, 'c0': 0.2117}"
      ]
     },
     "execution_count": 19,
     "metadata": {},
     "output_type": "execute_result"
    }
   ],
   "source": [
    "bag={'q1':0, 'q2':2, 'c':50}\n",
    "moni(bag, 0, 100000)"
   ]
  }
 ],
 "metadata": {
  "kernelspec": {
   "display_name": "Python 3 (ipykernel)",
   "language": "python",
   "name": "python3"
  },
  "language_info": {
   "codemirror_mode": {
    "name": "ipython",
    "version": 3
   },
   "file_extension": ".py",
   "mimetype": "text/x-python",
   "name": "python",
   "nbconvert_exporter": "python",
   "pygments_lexer": "ipython3",
   "version": "3.10.1"
  }
 },
 "nbformat": 4,
 "nbformat_minor": 5
}

{
 "cells": [
  {
   "cell_type": "code",
   "execution_count": 136,
   "metadata": {
    "collapsed": true
   },
   "outputs": [],
   "source": [
    "from sine.properties import *"
   ]
  },
  {
   "cell_type": "code",
   "execution_count": 16,
   "metadata": {
    "collapsed": true
   },
   "outputs": [],
   "source": [
    "import re"
   ]
  },
  {
   "cell_type": "code",
   "execution_count": 236,
   "metadata": {
    "collapsed": false
   },
   "outputs": [],
   "source": [
    "r = re.compile(r'(?:^|(?<=\\r|\\n))[ \\t\\f]*(?:(?=\\\\[^\\r\\n])|[^#! \\t\\f\\r\\n\\\\])[\\s\\S]*?(?<!\\\\)(?:\\\\\\\\)*(?=\\r\\n|\\r|(?<!\\r)\\n)')"
   ]
  },
  {
   "cell_type": "code",
   "execution_count": 240,
   "metadata": {
    "collapsed": false
   },
   "outputs": [
    {
     "data": {
      "text/plain": [
       "[]"
      ]
     },
     "execution_count": 240,
     "metadata": {},
     "output_type": "execute_result"
    }
   ],
   "source": [
    "re.findall(r, 'a\\\\\\n')"
   ]
  },
  {
   "cell_type": "code",
   "execution_count": 153,
   "metadata": {
    "collapsed": false
   },
   "outputs": [],
   "source": [
    "r2=re.compile(r'(?:^|(?<=\\r|\\n))[ \\t\\f]*')"
   ]
  },
  {
   "cell_type": "code",
   "execution_count": 154,
   "metadata": {
    "collapsed": false
   },
   "outputs": [],
   "source": [
    "r3=re.compile(r'\\\\(?:\\r\\n|\\n|\\r)')"
   ]
  },
  {
   "cell_type": "code",
   "execution_count": 155,
   "metadata": {
    "collapsed": false
   },
   "outputs": [],
   "source": [
    "r4=re.compile(r'((?<!\\\\)(?:\\\\\\\\)*)\\\\$')"
   ]
  },
  {
   "cell_type": "code",
   "execution_count": 246,
   "metadata": {
    "collapsed": false
   },
   "outputs": [],
   "source": [
    "r5=re.compile(r'^([^ \\t\\f]*?(?:|[ \\t\\f]*(?:\\\\\\\\)+(?=:|=)))[ \\t\\f]*(?::|=)[ \\t\\f]*([\\s\\S]*)$')"
   ]
  },
  {
   "cell_type": "code",
   "execution_count": 242,
   "metadata": {
    "collapsed": true
   },
   "outputs": [],
   "source": [
    "f = open('clock.properties', 'r')"
   ]
  },
  {
   "cell_type": "code",
   "execution_count": 243,
   "metadata": {
    "collapsed": false
   },
   "outputs": [],
   "source": [
    "s = f.read()"
   ]
  },
  {
   "cell_type": "code",
   "execution_count": 245,
   "metadata": {
    "collapsed": false
   },
   "outputs": [
    {
     "data": {
      "text/plain": [
       "['warning_pause=1',\n",
       " 'taskbar_flash=1',\n",
       " 'screen_flash_mode=0111101111',\n",
       " 'alarm_last=30',\n",
       " 'alarm_interval=300',\n",
       " 'default_remindAhead=0',\n",
       " 'default_sound=default',\n",
       " 'format=%Y-%m-%d %H:%M:%S %%8rep %%3warn %%3idx %%3state %%msg',\n",
       " 'flash_format=%Y-%m-%d %H:%M:%S %%msg',\n",
       " 'warn=!!!',\n",
       " 'state.ON=ON',\n",
       " 'state.OFF=OFF',\n",
       " 'datafile=clocks.txt']"
      ]
     },
     "execution_count": 245,
     "metadata": {},
     "output_type": "execute_result"
    }
   ],
   "source": [
    "lines=re.findall(r, s)\n",
    "lines"
   ]
  },
  {
   "cell_type": "code",
   "execution_count": 247,
   "metadata": {
    "collapsed": false
   },
   "outputs": [
    {
     "name": "stdout",
     "output_type": "stream",
     "text": [
      "warning_pause=1\n",
      "taskbar_flash=1\n",
      "screen_flash_mode=0111101111\n",
      "alarm_last=30\n",
      "alarm_interval=300\n",
      "default_remindAhead=0\n",
      "default_sound=default\n",
      "format=%Y-%m-%d %H:%M:%S %%8rep %%3warn %%3idx %%3state %%msg\n",
      "flash_format=%Y-%m-%d %H:%M:%S %%msg\n",
      "warn=!!!\n",
      "state.ON=ON\n",
      "state.OFF=OFF\n",
      "datafile=clocks.txt\n"
     ]
    },
    {
     "data": {
      "text/plain": [
       "['warning_pause=1',\n",
       " 'taskbar_flash=1',\n",
       " 'screen_flash_mode=0111101111',\n",
       " 'alarm_last=30',\n",
       " 'alarm_interval=300',\n",
       " 'default_remindAhead=0',\n",
       " 'default_sound=default',\n",
       " 'format=%Y-%m-%d %H:%M:%S %%8rep %%3warn %%3idx %%3state %%msg',\n",
       " 'flash_format=%Y-%m-%d %H:%M:%S %%msg',\n",
       " 'warn=!!!',\n",
       " 'state.ON=ON',\n",
       " 'state.OFF=OFF',\n",
       " 'datafile=clocks.txt']"
      ]
     },
     "execution_count": 247,
     "metadata": {},
     "output_type": "execute_result"
    }
   ],
   "source": [
    "pairs = []\n",
    "for line in lines:\n",
    "    s = re.sub(r2, '', line)\n",
    "    s = re.sub(r3, '', s)\n",
    "    s = re.sub(r4, lambda x:x.group(1), s)\n",
    "    pairs.append(s)\n",
    "pairs"
   ]
  },
  {
   "cell_type": "code",
   "execution_count": 249,
   "metadata": {
    "collapsed": false
   },
   "outputs": [
    {
     "data": {
      "text/plain": [
       "{u'alarm_interval': u'300',\n",
       " u'alarm_last': u'30',\n",
       " u'datafile': u'clocks.txt',\n",
       " u'default_remindAhead': u'0',\n",
       " u'default_sound': u'default',\n",
       " u'flash_format': u'%Y-%m-%d %H:%M:%S %%msg',\n",
       " u'format': u'%Y-%m-%d %H:%M:%S %%8rep %%3warn %%3idx %%3state %%msg',\n",
       " u'screen_flash_mode': u'0111101111',\n",
       " u'state.OFF': u'OFF',\n",
       " u'state.ON': u'ON',\n",
       " u'taskbar_flash': u'1',\n",
       " u'warn': u'!!!',\n",
       " u'warning_pause': u'1'}"
      ]
     },
     "execution_count": 249,
     "metadata": {},
     "output_type": "execute_result"
    }
   ],
   "source": [
    "d = {}\n",
    "for pair in pairs:\n",
    "    m = re.search(r5, pair)\n",
    "    d[m.group(1).decode('unicode-escape')] = m.group(2).decode('unicode-escape')\n",
    "d"
   ]
  }
 ],
 "metadata": {
  "kernelspec": {
   "display_name": "Python 2",
   "language": "python",
   "name": "python2"
  },
  "language_info": {
   "codemirror_mode": {
    "name": "ipython",
    "version": 2
   },
   "file_extension": ".py",
   "mimetype": "text/x-python",
   "name": "python",
   "nbconvert_exporter": "python",
   "pygments_lexer": "ipython2",
   "version": "2.7.13"
  }
 },
 "nbformat": 4,
 "nbformat_minor": 2
}

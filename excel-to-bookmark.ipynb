{
 "cells": [
  {
   "cell_type": "code",
   "execution_count": null,
   "id": "7df1c346",
   "metadata": {},
   "outputs": [],
   "source": [
    "# 从资源收录表格【https://spcqwserdvymm.com.vika.cn/share/shryNwH3HRgvzMTaZVAGx/fodkuzz5eaw0w】拷贝下来的数据存在excel中\n",
    "# 本代码读取excel文件并制作html文件用于导入浏览器收藏夹，文件结构是每个表对应输出一个目录"
   ]
  },
  {
   "cell_type": "code",
   "execution_count": 2,
   "id": "0206216f",
   "metadata": {},
   "outputs": [
    {
     "name": "stdout",
     "output_type": "stream",
     "text": [
      "All sheets: ['论坛网站', '蓝奏云分享站', '自建云盘分享站', '优质导航网站', '优质Notion站点', '永硕E盘资源站', '播客频道', '电子书籍搜索站点', '独立播客站', '设计新媒体类网站', 'bilibili频道up主推荐', 'Youtube频道推荐', 'TikTok达人推荐', 'TG频道推荐', '教程类资源', '源码类资源', '模板素材类资源', '影视类资源', '书籍类资源', 'RSS Feed', '脚本类资源', '软件类资源', 'Adobe、CG类软件', '科学上网【一】', '科学上网【二】', '网盘搜索指南']\n"
     ]
    }
   ],
   "source": [
    "import xlrd  # 导入库\n",
    "# 打开文件\n",
    "xlsx = xlrd.open_workbook('Efficiency-follow.xls')\n",
    "# 查看所有sheet列表\n",
    "# print('All sheets: %s' % xlsx.sheet_names())"
   ]
  },
  {
   "cell_type": "code",
   "execution_count": 22,
   "id": "b9a940c3",
   "metadata": {},
   "outputs": [],
   "source": [
    "def is_number(s):\n",
    "    try:\n",
    "        float(s)\n",
    "        return True\n",
    "    except ValueError:\n",
    "        pass"
   ]
  },
  {
   "cell_type": "code",
   "execution_count": 36,
   "id": "f96ac2a1",
   "metadata": {
    "collapsed": true
   },
   "outputs": [
    {
     "name": "stdout",
     "output_type": "stream",
     "text": [
      "www.MP4FAN.org\n",
      "jubt.top\n",
      "\n",
      "15935916112com.ysepan.com\n",
      "\n",
      "\n",
      "\n",
      "t.me/tvbox002\n",
      "t.me/fxxkmkd_channel\n",
      "t.me/dzsfx\n",
      "magnet:?xt=urn:btih:cfc155f993ceed916cbfd61b01792be66fed291a&dn=月薪2.3万，自学AE和CAD设计全完整视频教程，拼28万年薪目标\n",
      "crqn\n",
      "Windows 11 专业版序列号 / 密钥：VK7JG-NPHTM-C97JM-9MPGT-3V66T\n",
      "我用阿里云盘分享了「无版权音乐」，你可以不限速下载🚀 复制这段内容打开「阿里云盘」App 即可获取 链接：https://www.aliyundrive.com/s/3qhVTN5aJcC\n",
      "\n",
      "magnet:?xt=urn:btih:816430bacd15462c5bbfa4ef422be2c2b46be945\n",
      "magnet:?xt=urn:btih:61945f99341164f9591bff3aed74df2b12dd2f0f\n",
      "magnet:?xt=urn:btih:61945f99341164f9591bff3aed74df2b12dd2f0f\n",
      "第一部分: https://www.aliyundrive.com/s/56pVsPjegLX\n",
      "第二部分: https://www.aliyundrive.com/s/ucPEAAmFicZ\n",
      "第三部分: https://www.aliyundrive.com/s/CA4Z8Shujyj\n",
      "fq88.app\n",
      "自由之梦\n",
      "不良人\n",
      "huaxinCLU/NodeSpider\n",
      "pojiezhiyuanjun/freev2\n",
      "全自动一键安装：bash <(curl -L -s git.io/a.sh)\n",
      "开源地址：https://github.com/dylanbai8/onekey_caddy_proxy\n",
      "下载:https://noise.lanzoui.com/iD1yTs9cvhc 密码:bvab（备注：https://proxypool.fly.dev/clash/proxies）\n",
      "curl -s -L https://git.io/v2ray.sh\n",
      "C4D模型素材\n",
      "\n",
      "\n",
      "\n"
     ]
    }
   ],
   "source": [
    "# 默认格式是第一列标题，第二列链接，后面是其他备注，如果有分数就放在最后一行\n",
    "bookmarks_data=[]\n",
    "for sheet in xlsx.sheets():\n",
    "    ncols=sheet.ncols\n",
    "    if is_number(sheet.row_values(0)[-1]):\n",
    "        ncols=ncols-1\n",
    "    rows=[]\n",
    "    for i in range(sheet.nrows):\n",
    "        row=sheet.row_values(i)\n",
    "        href=str(row[1]).strip()\n",
    "        if not href.startswith('http'):\n",
    "            continue\n",
    "        title=''\n",
    "        if len(row)>ncols:\n",
    "            title=title+'【'+str(row[ncols])+'】' # 分数放在前面\n",
    "        title=title+str(row[0])\n",
    "        for j in range(2,ncols):\n",
    "            title=title+'=='+str(row[j])\n",
    "        rows.append({'title':title,'href':href})\n",
    "    folder={'is_folder':True,'title':sheet.name,'children':rows}\n",
    "    bookmarks_data.append(folder)"
   ]
  },
  {
   "cell_type": "code",
   "execution_count": 30,
   "id": "19fe1a83",
   "metadata": {},
   "outputs": [],
   "source": [
    "out0=open('tmp_bookmarks.json', 'w',encoding= 'utf-8')\n",
    "out0.write(str(bookmarks_data))\n",
    "out0.close()"
   ]
  },
  {
   "cell_type": "code",
   "execution_count": 31,
   "id": "56860855",
   "metadata": {},
   "outputs": [],
   "source": [
    "import time, datetime"
   ]
  },
  {
   "cell_type": "code",
   "execution_count": 35,
   "id": "02df972c",
   "metadata": {},
   "outputs": [],
   "source": [
    "# 字符类型的时间\n",
    "tss1 = '2022-03-06 20:40:00'\n",
    "# 转为时间数组\n",
    "timeArray = time.strptime(tss1, \"%Y-%m-%d %H:%M:%S\")\n",
    "# 绝对秒\n",
    "timestamp = int(time.mktime(timeArray))"
   ]
  },
  {
   "cell_type": "code",
   "execution_count": 67,
   "id": "c30699ac",
   "metadata": {},
   "outputs": [],
   "source": [
    "out=open('tmp_bookmarks.html', 'w',encoding= 'utf-8')"
   ]
  },
  {
   "cell_type": "code",
   "execution_count": 68,
   "id": "a57a244c",
   "metadata": {},
   "outputs": [
    {
     "data": {
      "text/plain": [
       "262"
      ]
     },
     "execution_count": 68,
     "metadata": {},
     "output_type": "execute_result"
    }
   ],
   "source": [
    "out.write('''<!DOCTYPE NETSCAPE-Bookmark-file-1>\n",
    "<!-- This is an automatically generated file.\n",
    "     It will be read and overwritten.\n",
    "     DO NOT EDIT! -->\n",
    "<META HTTP-EQUIV=\"Content-Type\" CONTENT=\"text/html; charset=UTF-8\">\n",
    "<TITLE>Bookmarks</TITLE>\n",
    "<H1>Bookmarks</H1>\n",
    "<DL><p>\n",
    "''')"
   ]
  },
  {
   "cell_type": "code",
   "execution_count": 69,
   "id": "72b54767",
   "metadata": {},
   "outputs": [
    {
     "data": {
      "text/plain": [
       "9"
      ]
     },
     "execution_count": 69,
     "metadata": {},
     "output_type": "execute_result"
    }
   ],
   "source": [
    "out.write('<DT><H3 ADD_DATE=\"%d\" LAST_MODIFIED=\"%d\">%s</H3>\\n' % (timestamp, timestamp, 'ext'))\n",
    "out.write('<DL><p>\\n')\n",
    "for folder_data in bookmarks_data:\n",
    "    out.write('<DT><H3 ADD_DATE=\"%d\" LAST_MODIFIED=\"%d\">%s</H3>\\n' % (timestamp, timestamp, folder_data['title']))\n",
    "    out.write('<DL><p>\\n')\n",
    "    for item in folder_data['children']:\n",
    "        out.write('<DT><A HREF=\"%s\" ADD_DATE=\"%d\">%s</A>\\n' % (item['href'], timestamp, 'e|'+item['title']))\n",
    "    out.write('</DL><p>\\n')\n",
    "out.write('</DL><p>\\n')"
   ]
  },
  {
   "cell_type": "code",
   "execution_count": 70,
   "id": "1b911831",
   "metadata": {},
   "outputs": [
    {
     "data": {
      "text/plain": [
       "9"
      ]
     },
     "execution_count": 70,
     "metadata": {},
     "output_type": "execute_result"
    }
   ],
   "source": [
    "out.write('</DL><p>\\n')"
   ]
  },
  {
   "cell_type": "code",
   "execution_count": 71,
   "id": "696a7f69",
   "metadata": {},
   "outputs": [],
   "source": [
    "out.close()"
   ]
  },
  {
   "cell_type": "code",
   "execution_count": null,
   "id": "19eaabb0",
   "metadata": {},
   "outputs": [],
   "source": []
  }
 ],
 "metadata": {
  "kernelspec": {
   "display_name": "Python 3 (ipykernel)",
   "language": "python",
   "name": "python3"
  },
  "language_info": {
   "codemirror_mode": {
    "name": "ipython",
    "version": 3
   },
   "file_extension": ".py",
   "mimetype": "text/x-python",
   "name": "python",
   "nbconvert_exporter": "python",
   "pygments_lexer": "ipython3",
   "version": "3.10.1"
  }
 },
 "nbformat": 4,
 "nbformat_minor": 5
}

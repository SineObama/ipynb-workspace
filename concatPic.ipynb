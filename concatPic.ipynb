{
 "cells": [
  {
   "cell_type": "code",
   "execution_count": 4,
   "metadata": {
    "collapsed": true
   },
   "outputs": [],
   "source": [
    "import math"
   ]
  },
  {
   "cell_type": "code",
   "execution_count": 1,
   "metadata": {
    "collapsed": true
   },
   "outputs": [],
   "source": [
    "data = [(100, 200), (150, 100)]"
   ]
  },
  {
   "cell_type": "code",
   "execution_count": 7,
   "metadata": {
    "collapsed": true
   },
   "outputs": [],
   "source": [
    "count = len(data)"
   ]
  },
  {
   "cell_type": "code",
   "execution_count": 8,
   "metadata": {
    "collapsed": true
   },
   "outputs": [],
   "source": [
    "side = int(math.ceil(count ** 0.5))"
   ]
  },
  {
   "cell_type": "code",
   "execution_count": 9,
   "metadata": {
    "collapsed": true
   },
   "outputs": [],
   "source": [
    "maxw = 0\n",
    "maxh = 0\n",
    "for i in range(1, count + 1):\n",
    "    pic = data[i - 1]\n",
    "    if maxw < pic[0]:\n",
    "        maxw = pic[0]\n",
    "    if maxh < pic[1]:\n",
    "        maxh = pic[1]"
   ]
  },
  {
   "cell_type": "code",
   "execution_count": 12,
   "metadata": {
    "collapsed": false
   },
   "outputs": [
    {
     "data": {
      "text/plain": [
       "200"
      ]
     },
     "execution_count": 12,
     "metadata": {},
     "output_type": "execute_result"
    }
   ],
   "source": [
    "# only here\n",
    "maxw = float(maxw)\n",
    "maxh = float(maxh)"
   ]
  },
  {
   "cell_type": "code",
   "execution_count": 14,
   "metadata": {
    "collapsed": true
   },
   "outputs": [],
   "source": [
    "def resize(pic, w, h):\n",
    "    if w == -1:\n",
    "        return (pic[0] * h / pic[1], h)\n",
    "    return (w, pic[1] * w / pic[0])"
   ]
  },
  {
   "cell_type": "code",
   "execution_count": 15,
   "metadata": {
    "collapsed": false
   },
   "outputs": [
    {
     "data": {
      "text/plain": [
       "(200, 400)"
      ]
     },
     "execution_count": 15,
     "metadata": {},
     "output_type": "execute_result"
    }
   ],
   "source": [
    "resize((100, 200), -1, 400)"
   ]
  },
  {
   "cell_type": "code",
   "execution_count": 16,
   "metadata": {
    "collapsed": false
   },
   "outputs": [
    {
     "data": {
      "text/plain": [
       "(100, 50)"
      ]
     },
     "execution_count": 16,
     "metadata": {},
     "output_type": "execute_result"
    }
   ],
   "source": [
    "resize((200, 100), 100, -1)"
   ]
  },
  {
   "cell_type": "code",
   "execution_count": 6,
   "metadata": {
    "collapsed": false
   },
   "outputs": [
    {
     "data": {
      "text/plain": [
       "2"
      ]
     },
     "execution_count": 6,
     "metadata": {},
     "output_type": "execute_result"
    }
   ],
   "source": [
    "mingap = 0\n",
    "maxrh0 = 0\n",
    "image = (0, 0)\n",
    "for i in range(1, side + 1):\n",
    "    row = (0, 0)\n",
    "    maxrh = 0\n",
    "    gap0 = 0\n",
    "    for j in range(1, side + 1):\n",
    "        index = (i - 1) * side + j\n",
    "        if count < index:\n",
    "            continue\n",
    "        pic = data[index]\n",
    "        w = pic[0] / maxw\n",
    "        h = pic[1] / maxh\n",
    "        if w > h:\n",
    "            pic2 = resize(pic, maxw, -1)\n",
    "        else:\n",
    "            pic2 = resize(pic, -1, maxh)\n",
    "        if maxrh < pic2[1]:\n",
    "            maxrh = pic2[1]\n",
    "        gap = maxw - pic2[0]\n",
    "        finalGap = mingap + gap0\n",
    "        concatHor(row, pic2, finalGap)\n",
    "        gap0 = gap\n",
    "    finalGap = mingap + maxh - maxrh0\n",
    "    concatVer(image, row,  finalGap)\n",
    "    maxrh0 = maxrh"
   ]
  }
 ],
 "metadata": {
  "kernelspec": {
   "display_name": "Python 2",
   "language": "python",
   "name": "python2"
  },
  "language_info": {
   "codemirror_mode": {
    "name": "ipython",
    "version": 2
   },
   "file_extension": ".py",
   "mimetype": "text/x-python",
   "name": "python",
   "nbconvert_exporter": "python",
   "pygments_lexer": "ipython2",
   "version": "2.7.13"
  }
 },
 "nbformat": 4,
 "nbformat_minor": 2
}

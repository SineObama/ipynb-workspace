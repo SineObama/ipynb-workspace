{
 "cells": [
  {
   "cell_type": "code",
   "execution_count": 1,
   "metadata": {
    "collapsed": false
   },
   "outputs": [],
   "source": [
    "#!/usr/bin/env python\n",
    "# Module     : SysTrayIcon.py\n",
    "# Synopsis   : Windows System tray icon.\n",
    "# Programmer : Simon Brunning - simon@brunningonline.net\n",
    "# Date       : 11 April 2005\n",
    "# Notes      : Based on (i.e. ripped off from) Mark Hammond's\n",
    "#              win32gui_taskbar.py and win32gui_menu.py demos from PyWin32\n",
    "'''TODO\n",
    "\n",
    "For now, the demo at the bottom shows how to use it...'''\n",
    "         \n",
    "import os\n",
    "import sys\n",
    "import win32api\n",
    "import win32con\n",
    "import win32gui_struct\n",
    "try:\n",
    "    import winxpgui as win32gui\n",
    "except ImportError:\n",
    "    import win32gui\n",
    "\n",
    "class SysTrayIcon(object):\n",
    "    '''TODO'''\n",
    "    QUIT = 'QUIT'\n",
    "    SPECIAL_ACTIONS = [QUIT]\n",
    "    \n",
    "    FIRST_ID = 1023\n",
    "    \n",
    "    def __init__(self,\n",
    "                 icon,\n",
    "                 hover_text,\n",
    "                 static_options,\n",
    "                 left_click_callback=None,\n",
    "                 addition_menu_callback=None,\n",
    "                 on_quit=None,\n",
    "                 default_menu_index=None,\n",
    "                 window_class_name=None,):\n",
    "        \n",
    "        self.icon = icon\n",
    "        self.hover_text = hover_text\n",
    "        self.on_quit = on_quit\n",
    "        self.LCC = left_click_callback\n",
    "        self.AMC = addition_menu_callback\n",
    "        \n",
    "        static_options = static_options + (('Quit', None, self.QUIT),)\n",
    "        self._next_action_id = self.FIRST_ID\n",
    "        self.static_actions = dict()\n",
    "        self.static_options = self._add_ids_to_menu_options(list(static_options), self.static_actions)\n",
    "        \n",
    "        \n",
    "        self.default_menu_index = (default_menu_index or 0)\n",
    "        self.window_class_name = window_class_name or \"SysTrayIconPy\"\n",
    "        \n",
    "        message_map = {win32gui.RegisterWindowMessage(\"TaskbarCreated\"): self.restart,\n",
    "                       win32con.WM_DESTROY: self.destroy,\n",
    "                       win32con.WM_COMMAND: self.command,\n",
    "                       win32con.WM_USER+20 : self.notify,}\n",
    "        if not SysTrayIcon.__dict__.has_key('classAtom'):\n",
    "            # Register the Window class.\n",
    "            window_class = win32gui.WNDCLASS()\n",
    "            SysTrayIcon.hinst = window_class.hInstance = win32gui.GetModuleHandle(None)\n",
    "            window_class.lpszClassName = self.window_class_name\n",
    "            window_class.style = win32con.CS_VREDRAW | win32con.CS_HREDRAW;\n",
    "            window_class.hCursor = win32gui.LoadCursor(0, win32con.IDC_ARROW)\n",
    "            window_class.hbrBackground = win32con.COLOR_WINDOW\n",
    "            window_class.lpfnWndProc = message_map # could also specify a wndproc.\n",
    "            SysTrayIcon.classAtom = win32gui.RegisterClass(window_class)\n",
    "        # Create the Window.\n",
    "        style = win32con.WS_OVERLAPPED | win32con.WS_SYSMENU\n",
    "        self.hwnd = win32gui.CreateWindow(SysTrayIcon.classAtom,\n",
    "                                          self.window_class_name,\n",
    "                                          style,\n",
    "                                          0,\n",
    "                                          0,\n",
    "                                          win32con.CW_USEDEFAULT,\n",
    "                                          win32con.CW_USEDEFAULT,\n",
    "                                          0,\n",
    "                                          0,\n",
    "                                          SysTrayIcon.hinst,\n",
    "                                          None)\n",
    "        win32gui.UpdateWindow(self.hwnd)\n",
    "        self.notify_id = None\n",
    "        self.refresh_icon()\n",
    "\n",
    "    def _add_ids_to_menu_options(self, menu_options, menu_actions_by_id):\n",
    "        result = []\n",
    "        for menu_option in menu_options:\n",
    "            option_text, option_icon, option_action = menu_option\n",
    "            if callable(option_action) or option_action in self.SPECIAL_ACTIONS:\n",
    "                menu_actions_by_id[self._next_action_id] = option_action\n",
    "                result.append(menu_option + (self._next_action_id,))\n",
    "            elif non_string_iterable(option_action):\n",
    "                result.append((option_text,\n",
    "                               option_icon,\n",
    "                               self._add_ids_to_menu_options(option_action, menu_actions_by_id),\n",
    "                               self._next_action_id))\n",
    "            else:\n",
    "                print 'Unknown item', option_text, option_icon, option_action\n",
    "            self._next_action_id += 1\n",
    "        return result\n",
    "        \n",
    "    def refresh_icon(self):\n",
    "        # Try and find a custom icon\n",
    "        hinst = win32gui.GetModuleHandle(None)\n",
    "        if os.path.isfile(self.icon):\n",
    "            icon_flags = win32con.LR_LOADFROMFILE | win32con.LR_DEFAULTSIZE\n",
    "            hicon = win32gui.LoadImage(hinst,\n",
    "                                       self.icon,\n",
    "                                       win32con.IMAGE_ICON,\n",
    "                                       0,\n",
    "                                       0,\n",
    "                                       icon_flags)\n",
    "        else:\n",
    "            hicon = win32gui.LoadIcon(0, win32con.IDI_APPLICATION)\n",
    "\n",
    "        if self.notify_id: message = win32gui.NIM_MODIFY\n",
    "        else: message = win32gui.NIM_ADD\n",
    "        self.notify_id = (self.hwnd,\n",
    "                          0,\n",
    "                          win32gui.NIF_ICON | win32gui.NIF_MESSAGE | win32gui.NIF_TIP,\n",
    "                          win32con.WM_USER+20,\n",
    "                          hicon,\n",
    "                          self.hover_text)\n",
    "        win32gui.Shell_NotifyIcon(message, self.notify_id)\n",
    "        \n",
    "    def refresh_icon2(self, hicon, hover_text):\n",
    "        if self.notify_id: message = win32gui.NIM_MODIFY\n",
    "        else: message = win32gui.NIM_ADD\n",
    "        self.notify_id = (self.hwnd,\n",
    "                          0,\n",
    "                          win32gui.NIF_ICON | win32gui.NIF_MESSAGE | win32gui.NIF_TIP,\n",
    "                          win32con.WM_USER+20,\n",
    "                          hicon,\n",
    "                          hover_text)\n",
    "        win32gui.Shell_NotifyIcon(message, self.notify_id)\n",
    "\n",
    "    def restart(self, hwnd, msg, wparam, lparam):\n",
    "        self.refresh_icon()\n",
    "\n",
    "    def destroy(self, hwnd, msg, wparam, lparam):\n",
    "        if self.on_quit: self.on_quit(self)\n",
    "        nid = (self.hwnd, 0)\n",
    "        win32gui.Shell_NotifyIcon(win32gui.NIM_DELETE, nid)\n",
    "        win32gui.PostQuitMessage(0) # Terminate the app.\n",
    "\n",
    "    def notify(self, hwnd, msg, wparam, lparam):\n",
    "        if lparam==win32con.WM_LBUTTONDBLCLK:\n",
    "            pass\n",
    "            # self.execute_menu_option(self.default_menu_index + self.FIRST_ID)\n",
    "        elif lparam==win32con.WM_RBUTTONUP:\n",
    "            self.show_menu()\n",
    "        elif lparam==win32con.WM_LBUTTONUP:\n",
    "            if callable(self.LCC):\n",
    "                self.LCC()\n",
    "        return True\n",
    "        \n",
    "    def show_menu(self):\n",
    "        menu = win32gui.CreatePopupMenu()\n",
    "        dynamic_actions = dict()\n",
    "        dynamic_options = []\n",
    "        if self.AMC:\n",
    "            dynamic_options = self._add_ids_to_menu_options(list(self.AMC()), dynamic_actions)\n",
    "        self.all_actions = {}\n",
    "        self.all_actions.update(self.static_actions)\n",
    "        self.all_actions.update(dynamic_actions)\n",
    "        self.create_menu(menu, dynamic_options + self.static_options)\n",
    "        #win32gui.SetMenuDefaultItem(menu, 1000, 0)\n",
    "        \n",
    "        pos = win32gui.GetCursorPos()\n",
    "        # See http://msdn.microsoft.com/library/default.asp?url=/library/en-us/winui/menus_0hdi.asp\n",
    "        win32gui.SetForegroundWindow(self.hwnd)\n",
    "        win32gui.TrackPopupMenu(menu,\n",
    "                                win32con.TPM_LEFTALIGN,\n",
    "                                pos[0],\n",
    "                                pos[1],\n",
    "                                0,\n",
    "                                self.hwnd,\n",
    "                                None)\n",
    "        win32gui.PostMessage(self.hwnd, win32con.WM_NULL, 0, 0)\n",
    "    \n",
    "    def create_menu(self, menu, menu_options):\n",
    "        for option_text, option_icon, option_action, option_id in menu_options[::-1]:\n",
    "            if option_icon:\n",
    "                option_icon = self.prep_menu_icon(option_icon)\n",
    "            \n",
    "            if option_id in self.all_actions:                \n",
    "                item, extras = win32gui_struct.PackMENUITEMINFO(text=option_text,\n",
    "                                                                hbmpItem=option_icon,\n",
    "                                                                wID=option_id)\n",
    "                win32gui.InsertMenuItem(menu, 0, 1, item)\n",
    "            else:\n",
    "                submenu = win32gui.CreatePopupMenu()\n",
    "                self.create_menu(submenu, option_action)\n",
    "                item, extras = win32gui_struct.PackMENUITEMINFO(text=option_text,\n",
    "                                                                hbmpItem=option_icon,\n",
    "                                                                hSubMenu=submenu)\n",
    "                win32gui.InsertMenuItem(menu, 0, 1, item)\n",
    "\n",
    "    def prep_menu_icon(self, icon):\n",
    "        # First load the icon.\n",
    "        ico_x = win32api.GetSystemMetrics(win32con.SM_CXSMICON)\n",
    "        ico_y = win32api.GetSystemMetrics(win32con.SM_CYSMICON)\n",
    "        hicon = win32gui.LoadImage(0, icon, win32con.IMAGE_ICON, ico_x, ico_y, win32con.LR_LOADFROMFILE)\n",
    "\n",
    "        hdcBitmap = win32gui.CreateCompatibleDC(0)\n",
    "        hdcScreen = win32gui.GetDC(0)\n",
    "        hbm = win32gui.CreateCompatibleBitmap(hdcScreen, ico_x, ico_y)\n",
    "        hbmOld = win32gui.SelectObject(hdcBitmap, hbm)\n",
    "        # Fill the background.\n",
    "        brush = win32gui.GetSysColorBrush(win32con.COLOR_MENU)\n",
    "        win32gui.FillRect(hdcBitmap, (0, 0, 16, 16), brush)\n",
    "        # unclear if brush needs to be feed.  Best clue I can find is:\n",
    "        # \"GetSysColorBrush returns a cached brush instead of allocating a new\n",
    "        # one.\" - implies no DeleteObject\n",
    "        # draw the icon\n",
    "        win32gui.DrawIconEx(hdcBitmap, 0, 0, hicon, ico_x, ico_y, 0, 0, win32con.DI_NORMAL)\n",
    "        win32gui.SelectObject(hdcBitmap, hbmOld)\n",
    "        win32gui.DeleteDC(hdcBitmap)\n",
    "        \n",
    "        return hbm\n",
    "\n",
    "    def command(self, hwnd, msg, wparam, lparam):\n",
    "        id = win32gui.LOWORD(wparam)\n",
    "        self.execute_menu_option(id)\n",
    "        \n",
    "    def execute_menu_option(self, id):\n",
    "        menu_action = self.all_actions[id]      \n",
    "        if menu_action == self.QUIT:\n",
    "            win32gui.DestroyWindow(self.hwnd)\n",
    "        else:\n",
    "            menu_action(self)\n",
    "            \n",
    "def non_string_iterable(obj):\n",
    "    try:\n",
    "        iter(obj)\n",
    "    except TypeError:\n",
    "        return False\n",
    "    else:\n",
    "        return not isinstance(obj, basestring)\n"
   ]
  },
  {
   "cell_type": "code",
   "execution_count": 13,
   "metadata": {
    "collapsed": true
   },
   "outputs": [],
   "source": [
    "def g(num, source, msg):\n",
    "    print num, source, msg.decode('gbk')"
   ]
  },
  {
   "cell_type": "code",
   "execution_count": 3,
   "metadata": {
    "collapsed": true
   },
   "outputs": [],
   "source": [
    "from sine.threads import ReStartableThread\n",
    "_data = {'instance':None, 'exist':False}\n",
    "\n",
    "def createIcon():\n",
    "    def mainLoop(stop_event):\n",
    "        _data['instance'] = SysTrayIcon('', 'hover', (), window_class_name='a')\n",
    "        _data['exist'] = True\n",
    "        win32gui.PumpMessages()\n",
    "    trayThread = ReStartableThread(target=mainLoop)\n",
    "    trayThread.start()"
   ]
  },
  {
   "cell_type": "code",
   "execution_count": 7,
   "metadata": {
    "collapsed": false
   },
   "outputs": [],
   "source": [
    "createIcon()"
   ]
  },
  {
   "cell_type": "code",
   "execution_count": 10,
   "metadata": {
    "collapsed": false
   },
   "outputs": [],
   "source": [
    "hwnd = _data['instance'].hwnd"
   ]
  },
  {
   "cell_type": "code",
   "execution_count": 11,
   "metadata": {
    "collapsed": false
   },
   "outputs": [
    {
     "ename": "error",
     "evalue": "(1400, 'PostMessage', '\\xce\\xde\\xd0\\xa7\\xb5\\xc4\\xb4\\xb0\\xbf\\xda\\xbe\\xe4\\xb1\\xfa\\xa1\\xa3')",
     "output_type": "error",
     "traceback": [
      "\u001b[0;31m---------------------------------------------------------------------------\u001b[0m",
      "\u001b[0;31merror\u001b[0m                                     Traceback (most recent call last)",
      "\u001b[0;32m<ipython-input-11-208a020ab044>\u001b[0m in \u001b[0;36m<module>\u001b[0;34m()\u001b[0m\n\u001b[1;32m      1\u001b[0m \u001b[1;32mtry\u001b[0m\u001b[1;33m:\u001b[0m\u001b[1;33m\u001b[0m\u001b[0m\n\u001b[0;32m----> 2\u001b[0;31m     \u001b[1;32mprint\u001b[0m \u001b[0mwin32gui\u001b[0m\u001b[1;33m.\u001b[0m\u001b[0mPostMessage\u001b[0m\u001b[1;33m(\u001b[0m\u001b[0mhwnd\u001b[0m\u001b[1;33m,\u001b[0m \u001b[0mwin32con\u001b[0m\u001b[1;33m.\u001b[0m\u001b[0mWM_CLOSE\u001b[0m\u001b[1;33m,\u001b[0m \u001b[1;36m0\u001b[0m\u001b[1;33m,\u001b[0m \u001b[1;36m0\u001b[0m\u001b[1;33m)\u001b[0m\u001b[1;33m\u001b[0m\u001b[0m\n\u001b[0m\u001b[1;32m      3\u001b[0m     \u001b[0mwin32gui\u001b[0m\u001b[1;33m.\u001b[0m\u001b[0mDestroyWindow\u001b[0m\u001b[1;33m(\u001b[0m\u001b[0mhwnd\u001b[0m\u001b[1;33m)\u001b[0m\u001b[1;33m\u001b[0m\u001b[0m\n\u001b[1;32m      4\u001b[0m \u001b[1;32mexcept\u001b[0m \u001b[0mException\u001b[0m\u001b[1;33m,\u001b[0m \u001b[0me\u001b[0m\u001b[1;33m:\u001b[0m\u001b[1;33m\u001b[0m\u001b[0m\n\u001b[1;32m      5\u001b[0m     \u001b[1;32mif\u001b[0m \u001b[0me\u001b[0m\u001b[1;33m[\u001b[0m\u001b[1;36m0\u001b[0m\u001b[1;33m]\u001b[0m \u001b[1;33m==\u001b[0m \u001b[1;36m1400\u001b[0m\u001b[1;33m:\u001b[0m\u001b[1;33m\u001b[0m\u001b[0m\n",
      "\u001b[0;31merror\u001b[0m: (1400, 'PostMessage', '\\xce\\xde\\xd0\\xa7\\xb5\\xc4\\xb4\\xb0\\xbf\\xda\\xbe\\xe4\\xb1\\xfa\\xa1\\xa3')"
     ]
    }
   ],
   "source": [
    "try:\n",
    "    print win32gui.PostMessage(hwnd, win32con.WM_CLOSE, 0, 0)\n",
    "    win32gui.DestroyWindow(hwnd)\n",
    "except Exception, e:\n",
    "    if e[0] == 1400:\n",
    "        raise"
   ]
  },
  {
   "cell_type": "code",
   "execution_count": 17,
   "metadata": {
    "collapsed": false
   },
   "outputs": [
    {
     "name": "stdout",
     "output_type": "stream",
     "text": [
      "-2147467259 Shell_NotifyIcon 未指定的错误\n"
     ]
    }
   ],
   "source": [
    "g(-2147467259, 'Shell_NotifyIcon', ('\\xce\\xb4\\xd6\\xb8\\xb6\\xa8\\xb5\\xc4\\xb4\\xed\\xce\\xf3'))"
   ]
  },
  {
   "cell_type": "code",
   "execution_count": 14,
   "metadata": {
    "collapsed": false
   },
   "outputs": [
    {
     "name": "stdout",
     "output_type": "stream",
     "text": [
      "1410 RegisterClass 类已存在。\n"
     ]
    }
   ],
   "source": [
    "g(1410, 'RegisterClass', '\\xc0\\xe0\\xd2\\xd1\\xb4\\xe6\\xd4\\xda\\xa1\\xa3')"
   ]
  },
  {
   "cell_type": "code",
   "execution_count": 15,
   "metadata": {
    "collapsed": false
   },
   "outputs": [
    {
     "name": "stdout",
     "output_type": "stream",
     "text": [
      "5 DestroyWindow 拒绝访问。\n"
     ]
    }
   ],
   "source": [
    "g(5, 'DestroyWindow', '\\xbe\\xdc\\xbe\\xf8\\xb7\\xc3\\xce\\xca\\xa1\\xa3')"
   ]
  },
  {
   "cell_type": "code",
   "execution_count": 18,
   "metadata": {
    "collapsed": false
   },
   "outputs": [
    {
     "name": "stdout",
     "output_type": "stream",
     "text": [
      "1412 UnregisterClass 类仍有打开的窗口。\n"
     ]
    }
   ],
   "source": [
    "g(1412, 'UnregisterClass', '\\xc0\\xe0\\xc8\\xd4\\xd3\\xd0\\xb4\\xf2\\xbf\\xaa\\xb5\\xc4\\xb4\\xb0\\xbf\\xda\\xa1\\xa3')"
   ]
  },
  {
   "cell_type": "code",
   "execution_count": null,
   "metadata": {
    "collapsed": false
   },
   "outputs": [],
   "source": [
    "g('\\xce\\xde\\xd0\\xa7\\xb5\\xc4\\xb4\\xb0\\xbf\\xda\\xbe\\xe4\\xb1\\xfa\\xa1\\xa3')#1400"
   ]
  },
  {
   "cell_type": "code",
   "execution_count": null,
   "metadata": {
    "collapsed": false
   },
   "outputs": [],
   "source": [
    "g('\\xc0\\xe0\\xc8\\xd4\\xd3\\xd0\\xb4\\xf2\\xbf\\xaa\\xb5\\xc4\\xb4\\xb0\\xbf\\xda\\xa1\\xa3')#1412"
   ]
  },
  {
   "cell_type": "code",
   "execution_count": null,
   "metadata": {
    "collapsed": false
   },
   "outputs": [],
   "source": [
    "(1407, 'CreateWindow', g('\\xd5\\xd2\\xb2\\xbb\\xb5\\xbd\\xb4\\xb0\\xbf\\xda\\xc0\\xe0\\xa1\\xa3'))"
   ]
  },
  {
   "cell_type": "code",
   "execution_count": null,
   "metadata": {
    "collapsed": false
   },
   "outputs": [],
   "source": [
    "1411, 'UnregisterClass', g('\\xc0\\xe0\\xb2\\xbb\\xb4\\xe6\\xd4\\xda\\xa1\\xa3')"
   ]
  },
  {
   "cell_type": "code",
   "execution_count": null,
   "metadata": {
    "collapsed": false
   },
   "outputs": [],
   "source": [
    "g('\\xc0\\xe0\\xc8\\xd4\\xd3\\xd0\\xb4\\xf2\\xbf\\xaa\\xb5\\xc4\\xb4\\xb0\\xbf\\xda\\xa1\\xa3')"
   ]
  },
  {
   "cell_type": "code",
   "execution_count": null,
   "metadata": {
    "collapsed": false
   },
   "outputs": [],
   "source": [
    "g('\\xc0\\xe0\\xb2\\xbb\\xb4\\xe6\\xd4\\xda\\xa1\\xa3')"
   ]
  },
  {
   "cell_type": "code",
   "execution_count": null,
   "metadata": {
    "collapsed": false
   },
   "outputs": [],
   "source": [
    "g('\\xce\\xde\\xd0\\xa7\\xb5\\xc4\\xb4\\xb0\\xbf\\xda\\xbe\\xe4\\xb1\\xfa\\xa1\\xa3')"
   ]
  },
  {
   "cell_type": "code",
   "execution_count": null,
   "metadata": {
    "collapsed": false,
    "scrolled": true
   },
   "outputs": [],
   "source": [
    "print '\\xc0\\xe0\\xc8\\xd4\\xd3\\xd0\\xb4\\xf2\\xbf\\xaa\\xb5\\xc4\\xb4\\xb0\\xbf\\xda\\xa1\\xa3'.decode('gbk')"
   ]
  },
  {
   "cell_type": "code",
   "execution_count": null,
   "metadata": {
    "collapsed": false
   },
   "outputs": [],
   "source": [
    "print '\\xce\\xb4\\xd6\\xb8\\xb6\\xa8\\xb5\\xc4\\xb4\\xed\\xce\\xf3'.decode('gbk')"
   ]
  },
  {
   "cell_type": "code",
   "execution_count": null,
   "metadata": {
    "collapsed": false
   },
   "outputs": [],
   "source": [
    "'\\xce'.decode('ascii')"
   ]
  },
  {
   "cell_type": "code",
   "execution_count": 12,
   "metadata": {
    "collapsed": true
   },
   "outputs": [],
   "source": [
    "import threading"
   ]
  },
  {
   "cell_type": "code",
   "execution_count": null,
   "metadata": {
    "collapsed": true
   },
   "outputs": [],
   "source": [
    "threading.Thread(target=)"
   ]
  },
  {
   "cell_type": "code",
   "execution_count": 14,
   "metadata": {
    "collapsed": true
   },
   "outputs": [],
   "source": [
    "e=Exception('3', u'我', '2')"
   ]
  },
  {
   "cell_type": "code",
   "execution_count": 15,
   "metadata": {
    "collapsed": false
   },
   "outputs": [
    {
     "data": {
      "text/plain": [
       "('3', u'\\u6211', '2')"
      ]
     },
     "execution_count": 15,
     "metadata": {},
     "output_type": "execute_result"
    }
   ],
   "source": [
    "e.args"
   ]
  },
  {
   "cell_type": "code",
   "execution_count": null,
   "metadata": {
    "collapsed": true
   },
   "outputs": [],
   "source": [
    "\n",
    "class ClientException(Exception):\n",
    "    def __str__(self):\n",
    "        "
   ]
  },
  {
   "cell_type": "code",
   "execution_count": 17,
   "metadata": {
    "collapsed": false
   },
   "outputs": [
    {
     "data": {
      "text/plain": [
       "''"
      ]
     },
     "execution_count": 17,
     "metadata": {},
     "output_type": "execute_result"
    }
   ],
   "source": [
    "' '.join(())"
   ]
  },
  {
   "cell_type": "code",
   "execution_count": 2,
   "metadata": {
    "collapsed": false
   },
   "outputs": [
    {
     "ename": "UnicodeDecodeError",
     "evalue": "'gbk' codec can't decode bytes in position 4-5: illegal multibyte sequence",
     "output_type": "error",
     "traceback": [
      "\u001b[0;31m---------------------------------------------------------------------------\u001b[0m",
      "\u001b[0;31mUnicodeDecodeError\u001b[0m                        Traceback (most recent call last)",
      "\u001b[0;32m<ipython-input-2-6689be6ff458>\u001b[0m in \u001b[0;36m<module>\u001b[0;34m()\u001b[0m\n\u001b[0;32m----> 1\u001b[0;31m \u001b[1;34mu'鎸夊洖杞︾户缁€傘€傘€'\u001b[0m\u001b[1;33m.\u001b[0m\u001b[0mencode\u001b[0m\u001b[1;33m(\u001b[0m\u001b[1;34m'utf8'\u001b[0m\u001b[1;33m)\u001b[0m\u001b[1;33m.\u001b[0m\u001b[0mdecode\u001b[0m\u001b[1;33m(\u001b[0m\u001b[1;34m'gbk'\u001b[0m\u001b[1;33m)\u001b[0m\u001b[1;33m\u001b[0m\u001b[0m\n\u001b[0m",
      "\u001b[0;31mUnicodeDecodeError\u001b[0m: 'gbk' codec can't decode bytes in position 4-5: illegal multibyte sequence"
     ]
    }
   ],
   "source": [
    "u'鎸夊洖杞︾户缁€傘€傘€'.encode('utf8').decode('gbk')"
   ]
  }
 ],
 "metadata": {
  "kernelspec": {
   "display_name": "Python 2",
   "language": "python",
   "name": "python2"
  },
  "language_info": {
   "codemirror_mode": {
    "name": "ipython",
    "version": 2
   },
   "file_extension": ".py",
   "mimetype": "text/x-python",
   "name": "python",
   "nbconvert_exporter": "python",
   "pygments_lexer": "ipython2",
   "version": "2.7.13"
  }
 },
 "nbformat": 4,
 "nbformat_minor": 2
}

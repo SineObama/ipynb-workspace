{
 "cells": [
  {
   "cell_type": "code",
   "execution_count": null,
   "id": "7df1c346",
   "metadata": {},
   "outputs": [],
   "source": [
    "# 截止2022年3月6日从最后整理过的《资源索引.xlsx》继承其收录网址\n",
    "# 本代码读取excel文件并制作html文件用于导入浏览器收藏夹，按照特定的目录列分文件夹输出"
   ]
  },
  {
   "cell_type": "code",
   "execution_count": 1,
   "id": "0206216f",
   "metadata": {},
   "outputs": [],
   "source": [
    "import xlrd  # 导入库\n",
    "# 打开文件\n",
    "xlsx = xlrd.open_workbook('index.xls')\n",
    "# 查看所有sheet列表\n",
    "# print('All sheets: %s' % xlsx.sheet_names())"
   ]
  },
  {
   "cell_type": "code",
   "execution_count": 2,
   "id": "b9a940c3",
   "metadata": {},
   "outputs": [],
   "source": [
    "def is_number(s):\n",
    "    try:\n",
    "        float(s)\n",
    "        return True\n",
    "    except ValueError:\n",
    "        pass"
   ]
  },
  {
   "cell_type": "code",
   "execution_count": 4,
   "id": "f96ac2a1",
   "metadata": {},
   "outputs": [],
   "source": [
    "# 默认格式是标题，链接，备注，目录，分数，创建时间，更新时间\n",
    "bookmarks_data=[]\n",
    "folder_map={}\n",
    "for sheet in xlsx.sheets():\n",
    "    for i in range(1,sheet.nrows):\n",
    "        row=sheet.row_values(i)\n",
    "        folder_name=row[3]\n",
    "        score=row[4]\n",
    "        add_date=(row[5]-70*365-19-1/3)*86400\n",
    "        href=str(row[1]).strip()\n",
    "        if not href.startswith('http'):\n",
    "            continue\n",
    "        title=''\n",
    "        if is_number(score):\n",
    "            title=title+'【'+str(score)+'】' # 分数放在前面\n",
    "        title=title+str(row[0])\n",
    "        for j in range(2,4):\n",
    "            title=title+'=='+str(row[j])\n",
    "        if folder_name not in folder_map:\n",
    "            folder={'is_folder':True,'title':folder_name,'children':[]}\n",
    "            folder_map[folder_name]=folder\n",
    "            bookmarks_data.append(folder)\n",
    "        folder_map[folder_name]['children'].append({'title':title,'href':href,'add_date':add_date})"
   ]
  },
  {
   "cell_type": "code",
   "execution_count": 5,
   "id": "19fe1a83",
   "metadata": {},
   "outputs": [],
   "source": [
    "out0=open('tmp_bookmarks.json', 'w',encoding= 'utf-8')\n",
    "out0.write(str(bookmarks_data))\n",
    "out0.close()"
   ]
  },
  {
   "cell_type": "code",
   "execution_count": 6,
   "id": "56860855",
   "metadata": {},
   "outputs": [],
   "source": [
    "import time, datetime"
   ]
  },
  {
   "cell_type": "code",
   "execution_count": 7,
   "id": "02df972c",
   "metadata": {},
   "outputs": [],
   "source": [
    "# 字符类型的时间\n",
    "tss1 = '2022-03-06 20:40:00'\n",
    "# 转为时间数组\n",
    "timeArray = time.strptime(tss1, \"%Y-%m-%d %H:%M:%S\")\n",
    "# 绝对秒\n",
    "timestamp = int(time.mktime(timeArray))"
   ]
  },
  {
   "cell_type": "code",
   "execution_count": 8,
   "id": "c30699ac",
   "metadata": {},
   "outputs": [],
   "source": [
    "out=open('tmp_bookmarks.html', 'w',encoding= 'utf-8')"
   ]
  },
  {
   "cell_type": "code",
   "execution_count": 9,
   "id": "a57a244c",
   "metadata": {},
   "outputs": [
    {
     "data": {
      "text/plain": [
       "262"
      ]
     },
     "execution_count": 9,
     "metadata": {},
     "output_type": "execute_result"
    }
   ],
   "source": [
    "out.write('''<!DOCTYPE NETSCAPE-Bookmark-file-1>\n",
    "<!-- This is an automatically generated file.\n",
    "     It will be read and overwritten.\n",
    "     DO NOT EDIT! -->\n",
    "<META HTTP-EQUIV=\"Content-Type\" CONTENT=\"text/html; charset=UTF-8\">\n",
    "<TITLE>Bookmarks</TITLE>\n",
    "<H1>Bookmarks</H1>\n",
    "<DL><p>\n",
    "''')"
   ]
  },
  {
   "cell_type": "code",
   "execution_count": 10,
   "id": "72b54767",
   "metadata": {},
   "outputs": [
    {
     "data": {
      "text/plain": [
       "9"
      ]
     },
     "execution_count": 10,
     "metadata": {},
     "output_type": "execute_result"
    }
   ],
   "source": [
    "out.write('<DT><H3 ADD_DATE=\"%d\" LAST_MODIFIED=\"%d\">%s</H3>\\n' % (timestamp, timestamp, 'idx'))\n",
    "out.write('<DL><p>\\n')\n",
    "for folder_data in bookmarks_data:\n",
    "    out.write('<DT><H3 ADD_DATE=\"%d\" LAST_MODIFIED=\"%d\">%s</H3>\\n' % (timestamp, timestamp, folder_data['title']))\n",
    "    out.write('<DL><p>\\n')\n",
    "    for item in folder_data['children']:\n",
    "        out.write('<DT><A HREF=\"%s\" ADD_DATE=\"%d\">%s</A>\\n' % (item['href'], item['add_date'], 'i|'+item['title']))\n",
    "    out.write('</DL><p>\\n')\n",
    "out.write('</DL><p>\\n')"
   ]
  },
  {
   "cell_type": "code",
   "execution_count": 11,
   "id": "1b911831",
   "metadata": {},
   "outputs": [
    {
     "data": {
      "text/plain": [
       "9"
      ]
     },
     "execution_count": 11,
     "metadata": {},
     "output_type": "execute_result"
    }
   ],
   "source": [
    "out.write('</DL><p>\\n')"
   ]
  },
  {
   "cell_type": "code",
   "execution_count": 12,
   "id": "696a7f69",
   "metadata": {},
   "outputs": [],
   "source": [
    "out.close()"
   ]
  },
  {
   "cell_type": "code",
   "execution_count": null,
   "id": "19eaabb0",
   "metadata": {},
   "outputs": [],
   "source": []
  }
 ],
 "metadata": {
  "kernelspec": {
   "display_name": "Python 3 (ipykernel)",
   "language": "python",
   "name": "python3"
  },
  "language_info": {
   "codemirror_mode": {
    "name": "ipython",
    "version": 3
   },
   "file_extension": ".py",
   "mimetype": "text/x-python",
   "name": "python",
   "nbconvert_exporter": "python",
   "pygments_lexer": "ipython3",
   "version": "3.10.1"
  }
 },
 "nbformat": 4,
 "nbformat_minor": 5
}

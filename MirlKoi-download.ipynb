{
 "cells": [
  {
   "cell_type": "code",
   "execution_count": 1,
   "metadata": {},
   "outputs": [],
   "source": [
    "import os\n",
    "import time\n",
    "import sys\n",
    "from multiprocessing.pool import ThreadPool\n",
    "from contextlib import closing\n",
    "\n",
    "# pip install config-file requests sine.utils\n",
    "import requests\n",
    "from config_file import ConfigFile, ParsingError\n",
    "from sine.utils import *"
   ]
  },
  {
   "cell_type": "code",
   "execution_count": 8,
   "metadata": {},
   "outputs": [],
   "source": [
    "def download_pic0(url, path):\n",
    "    resp = requests.get(url)\n",
    "    with open(path, 'wb') as code:\n",
    "        code.write(resp.content)\n",
    "def download_pic1(url, path, bar):\n",
    "    resp = requests.get(url)\n",
    "    with open(path, 'wb') as code:\n",
    "        bar.load_in(len(resp.content))\n",
    "        code.write(resp.content)\n",
    "        bar.update_out(len(resp.content))\n",
    "def download_pic(url, path, bar):\n",
    "    with closing(requests.get(url, stream=True)) as resp:\n",
    "        size = int(resp.headers['Content-Length'])\n",
    "        bar.load_in(size)\n",
    "        with open(path, 'wb') as code:\n",
    "            for chunk in resp.iter_content(chunk_size=1024*config.getAlone('buffer_KB', 1000)):\n",
    "                code.write(chunk)\n",
    "                bar.update_out(len(chunk), len(chunk)/size)\n",
    "                bar.set_postfix_str(byte2readable(bar.loaded_avg * bar.n / (time.time() - bar.start_t)) + '/s')\n",
    "def download_pic_batch(url, path, count):\n",
    "    mkdir(path)\n",
    "    print('开始从 %s 批量下载 %d 张图片到 %s'% (url, count, os.path.abspath(path)))\n",
    "    urls=[]\n",
    "    paths=[]\n",
    "    for i in range(0, count):\n",
    "        urls.append(url+'?&'+str(i))\n",
    "        filename = 'MirlKoi-' + time.strftime('%Y%m%d%H%M%S-') + str(i) + '.jpg'\n",
    "        paths.append(os.path.join(path, filename))\n",
    "    with ThreadPool(config.getAlone('thread_pool', 20)) as executor, PredictableProcessBar(total=len(paths), unit='张', smoothing=0) as bar:\n",
    "        for i in range(0, len(paths)):\n",
    "            executor.apply_async(download_pic, args=(urls[i], paths[i], bar), callback=None)\n",
    "        executor.close()\n",
    "        executor.join()\n",
    "        bar.display()\n",
    "        time.sleep(1)\n",
    "        bar.display()"
   ]
  },
  {
   "cell_type": "code",
   "execution_count": 9,
   "metadata": {},
   "outputs": [
    {
     "name": "stdout",
     "output_type": "stream",
     "text": [
      "开始从 https://iw233.cn/API/Random.php 批量下载 20 张图片到 D:\\workspace\\ipynb-workspace\\MirlKoi\n"
     ]
    },
    {
     "name": "stderr",
     "output_type": "stream",
     "text": [
      "100%|█████████████████████████████████████████████████████████████████████| 20.00/20 [00:35<00:00,  1.75s/张, 2.30MB/s]\n"
     ]
    }
   ],
   "source": [
    "if __name__ == '__main__':\n",
    "    config_filename = \"MirlKoi-download_config.json\"\n",
    "else:\n",
    "    config_filename = __name__ + \"_config.json\"\n",
    "try:\n",
    "    config = ConfigFileAlone(config_filename)\n",
    "    save_path = config.getAlone('save_path', 'MirlKoi')\n",
    "    api_path = config.getAlone('api_path', 'https://iw233.cn/API/Random.php')\n",
    "    download_num = config.getAlone('download_num', 20)\n",
    "    download_pic_batch(api_path, save_path, download_num)\n",
    "    config.saveAlone()\n",
    "except Exception:\n",
    "    print(\"无法读取配置文件 \" + config_filename)"
   ]
  }
 ],
 "metadata": {
  "kernelspec": {
   "display_name": "Python 3 (ipykernel)",
   "language": "python",
   "name": "python3"
  },
  "language_info": {
   "codemirror_mode": {
    "name": "ipython",
    "version": 3
   },
   "file_extension": ".py",
   "mimetype": "text/x-python",
   "name": "python",
   "nbconvert_exporter": "python",
   "pygments_lexer": "ipython3",
   "version": "3.10.1"
  }
 },
 "nbformat": 4,
 "nbformat_minor": 2
}

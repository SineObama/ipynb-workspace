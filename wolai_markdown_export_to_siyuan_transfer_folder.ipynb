{
 "cells": [
  {
   "cell_type": "markdown",
   "id": "f033428a",
   "metadata": {},
   "source": [
    "背景：从wolai导出到思源笔记，目前仅支持markdown导入。\n",
    "提出了问题但不予解决：https://github.com/siyuan-note/siyuan/issues/4577\n",
    "简单说就是导入后父页面的内容会跑到其目录下面，包括所有根页面。\n",
    "只能自己写，处理导入后的文件。"
   ]
  },
  {
   "cell_type": "code",
   "execution_count": 1,
   "id": "4bba7cac",
   "metadata": {},
   "outputs": [
    {
     "data": {
      "text/plain": [
       "''"
      ]
     },
     "execution_count": 1,
     "metadata": {},
     "output_type": "execute_result"
    }
   ],
   "source": [
    "# 参数\n",
    "folder='D:\\\\SiYuan\\\\data\\\\20220412211500-99r06ry'\n",
    "\n",
    "import json\n",
    "import shutil\n",
    "import os\n",
    "def gci(filepath, title):\n",
    "    #遍历filepath下所有文件，包括子目录\n",
    "    files = os.listdir(filepath)\n",
    "    # 在当前目录中找到上级目录相同标题的id，其实就是真正的上级页面，需要移动到上级，把原本的空目录删掉，目录名称（ID）也替换为这个\n",
    "    idpage = ''\n",
    "    for fi in files:\n",
    "        if fi.startswith('.'):\n",
    "            continue\n",
    "        # 当前遍历的文件\n",
    "        fi_d = os.path.join(filepath, fi)\n",
    "        if not os.path.exists(fi_d):\n",
    "            # 后面有文件夹重命名操作，需要判断存在\n",
    "            continue\n",
    "        elif os.path.isdir(fi_d):\n",
    "            # 不直接操作目录\n",
    "            continue\n",
    "        elif fi.endswith('.sy'):\n",
    "            # 只操作思源的文件，其文件名是id，其内容是json，如果有下级页面放在会放在同名文件夹中，所以用名字来找到下级\n",
    "            did = ''\n",
    "            dtitle = ''\n",
    "            d_ch_cnt = 0\n",
    "            # 读取当前文件内容，当前文件可能有对应文件夹，为递归文件夹做准备\n",
    "            with open(fi_d, 'r', encoding='utf-8') as fp:\n",
    "                j = json.load(fp)\n",
    "                did = j['ID']\n",
    "                dtitle = j['Properties']['title']\n",
    "                ch = j['Children']\n",
    "                if ch != None:\n",
    "                    d_ch_cnt = len(ch)\n",
    "            subd = os.path.join(filepath, did)\n",
    "            if os.path.isdir(subd):\n",
    "                if d_ch_cnt > 1:\n",
    "                    # 一般导入后的空白父页面只会有一个子元素\n",
    "                    print('[warn]页面元素过多', dtitle, fi_d)\n",
    "                    continue\n",
    "                # 递归处理下级目录\n",
    "                didpage = gci(subd, dtitle)\n",
    "                # 如果下级目录中找到了该目录的真正内容\n",
    "                if len(didpage) > 0:\n",
    "                    #print('文件夹页面', dtitle, subd)\n",
    "                    # 位于下级目录内的真正文档路径\n",
    "                    dpath = os.path.join(subd, didpage + '.sy')\n",
    "                    # 保险起见检查一次文档和文件夹存在、目标文件夹不存在\n",
    "                    if os.path.exists(dpath) and os.path.exists(subd):\n",
    "                        subdnew = os.path.join(filepath, didpage)\n",
    "                        if not os.path.exists(subdnew):\n",
    "                            # 最终的处理是将真正文档移动到当前目录、同时修改下级目录名为真正文档名（利用文件名是id），并删除空目录\n",
    "                            shutil.move(dpath, filepath)\n",
    "                            os.rename(subd, subdnew)\n",
    "                            os.remove(fi_d)\n",
    "                            continue\n",
    "                        else:\n",
    "                            print('[error]移动前存在冲突', subd, subdnew)\n",
    "                    else:\n",
    "                        print('[error]移动前找不到其一', dpath, subd)\n",
    "                else:\n",
    "                    print('[info]无文件夹页面', dtitle, subd)\n",
    "            elif title == dtitle or dtitle.startswith(title + '.'):\n",
    "                # 导入的文件夹如果带.可能会把.后面的去掉，所以加上这个判断\n",
    "                idpage = did\n",
    "        else:\n",
    "            print('[warn]跳过', fi_d)\n",
    "    return idpage\n",
    "    \n",
    "#递归遍历\n",
    "gci(folder, '')"
   ]
  }
 ],
 "metadata": {
  "kernelspec": {
   "display_name": "Python 3 (ipykernel)",
   "language": "python",
   "name": "python3"
  },
  "language_info": {
   "codemirror_mode": {
    "name": "ipython",
    "version": 3
   },
   "file_extension": ".py",
   "mimetype": "text/x-python",
   "name": "python",
   "nbconvert_exporter": "python",
   "pygments_lexer": "ipython3",
   "version": "3.10.1"
  }
 },
 "nbformat": 4,
 "nbformat_minor": 5
}

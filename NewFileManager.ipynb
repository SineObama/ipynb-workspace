{
 "cells": [
  {
   "cell_type": "code",
   "execution_count": 5,
   "metadata": {
    "collapsed": false
   },
   "outputs": [],
   "source": [
    "f=open('temp.txt', 'r+')"
   ]
  },
  {
   "cell_type": "code",
   "execution_count": 9,
   "metadata": {
    "collapsed": false
   },
   "outputs": [],
   "source": [
    "f2=open('temp.txt', 'r+')"
   ]
  },
  {
   "cell_type": "code",
   "execution_count": null,
   "metadata": {
    "collapsed": true
   },
   "outputs": [],
   "source": []
  },
  {
   "cell_type": "code",
   "execution_count": 2,
   "metadata": {
    "collapsed": false
   },
   "outputs": [
    {
     "data": {
      "text/plain": [
       "'1\\n'"
      ]
     },
     "execution_count": 2,
     "metadata": {},
     "output_type": "execute_result"
    }
   ],
   "source": [
    "f.readline()"
   ]
  },
  {
   "cell_type": "code",
   "execution_count": 8,
   "metadata": {
    "collapsed": false
   },
   "outputs": [],
   "source": [
    "f.write('3')"
   ]
  },
  {
   "cell_type": "code",
   "execution_count": 14,
   "metadata": {
    "collapsed": false
   },
   "outputs": [],
   "source": [
    "f2.write('3')"
   ]
  },
  {
   "cell_type": "code",
   "execution_count": 110,
   "metadata": {
    "collapsed": true
   },
   "outputs": [],
   "source": [
    "f.truncate()"
   ]
  },
  {
   "cell_type": "code",
   "execution_count": 16,
   "metadata": {
    "collapsed": true
   },
   "outputs": [],
   "source": [
    "f2.close()"
   ]
  },
  {
   "cell_type": "code",
   "execution_count": null,
   "metadata": {
    "collapsed": true
   },
   "outputs": [],
   "source": []
  },
  {
   "cell_type": "code",
   "execution_count": 104,
   "metadata": {
    "collapsed": true
   },
   "outputs": [],
   "source": [
    "s = '123'"
   ]
  },
  {
   "cell_type": "code",
   "execution_count": 105,
   "metadata": {
    "collapsed": false
   },
   "outputs": [
    {
     "data": {
      "text/plain": [
       "'12'"
      ]
     },
     "execution_count": 105,
     "metadata": {},
     "output_type": "execute_result"
    }
   ],
   "source": [
    "s[:-1]"
   ]
  },
  {
   "cell_type": "code",
   "execution_count": null,
   "metadata": {
    "collapsed": true
   },
   "outputs": [],
   "source": [
    "class File(object):\n",
    "    def __init__(self, filename):\n",
    "        self.filename = filename\n",
    "    def load(self, cb):\n",
    "        '''重新从文件读取，每次把字符串传给回调函数cb并返回该数据的id。'''\n",
    "        f = open(self.filename, 'a+')\n",
    "        o2d = {} # obj => data\n",
    "        i2d = {} # start index => data\n",
    "        index = 0\n",
    "        while True:\n",
    "            s = f.readline()\n",
    "            if len(s) == 0:\n",
    "                break\n",
    "            # 去除换行符\n",
    "            if s[-1] == '\\r' || s[-1] == '\\n':\n",
    "                s = s[:-1]\n",
    "            if s[-1] == '\\r' || s[-1] == '\\n':\n",
    "                s = s[:-1]\n",
    "            if s[0] == '\\x00':\n",
    "                o = None\n",
    "            else:\n",
    "                o = exec(s)\n",
    "            d = {'obj':o, 'index':index, 'len':len(s), 'next':f.tell()}\n",
    "            if o:\n",
    "                o2d[o] = d\n",
    "            i2d[index] = d\n",
    "            index = f.tell()\n",
    "        self.end = index\n",
    "        self.o2d = o2d\n",
    "        self.i2d = i2d\n",
    "        f.close()\n",
    "    def update(self, obj, data):\n",
    "        d = self.o2d[obj]\n",
    "        if d['len'] >= len(data):\n",
    "            f = open(self.filename, 'r+')\n",
    "            f.seek(d['index'])\n",
    "            f.write(data)\n",
    "            for i in range(d['len'] - len(data)):\n",
    "                f.write('\\x00')\n",
    "            f.close()\n",
    "        else:\n",
    "            for d in self.i2d.values():\n",
    "                if d['obj'] == None and d['len'] >= len(data):\n",
    "                    d['obj'] = obj\n",
    "                    self.o2d[obj] = d\n",
    "    def _write(self, d, data):\n",
    "        '''把data写入区块d的位置（合并空白），必须保证空间足够。'''\n",
    "        # 后缀0原始，2新插入的空白块，3原本的下一块\n",
    "        length0 = d['len']\n",
    "        length = len(data)\n",
    "        index = d['index']\n",
    "        index3 = d['next']\n",
    "        d['len'] = length\n",
    "        f = open(self.filename, 'r+')\n",
    "        f.seek(index)\n",
    "        f.write(data)\n",
    "        if length0 > length:\n",
    "            # 考虑到换行符可能不同，在确认长度不一样后再重写\n",
    "            f.write('\\n')\n",
    "            index2 = index + length + 1\n",
    "            if self.i2d.has_key(index3): # 存在下一块，分情况考虑\n",
    "                length2 = length0 - length - 1\n",
    "                for i in range(length2): # 写入空白内容\n",
    "                    f.write('\\x00')\n",
    "                nd = self.i2d[index3]\n",
    "                if nd['obj'] == None: # 下一块也是空白，合并两块\n",
    "                    for i in range(index3 - index2 - length2): # 覆盖换行符为空白\n",
    "                        f.write('\\x00')\n",
    "                    del self.i2d[index3]\n",
    "                    nd['len'] += index3 - index2\n",
    "                    nd['index'] = index2\n",
    "                    self.i2d[index2] = nd\n",
    "                else: # 下一块不是空白，插入新空白块\n",
    "                    nd = {'obj':None, 'index':index2, 'len':length2, 'next':index3}\n",
    "                    self.i2d[index2] = nd\n",
    "            else: # 不存在下一块，截断后面的空白内容\n",
    "                f.truncate()\n",
    "            d['next'] = index2\n",
    "        f.close()\n",
    "    def delete(self, obj):\n",
    "        if not self.o2d.has_key(obj):\n",
    "            # todo log\n",
    "            return\n",
    "        # 后缀0为前一块，2为后一块\n",
    "        d = self.o2d[obj]\n",
    "        d['obj'] = None\n",
    "        index = d['index']\n",
    "        index2 = d['next']\n",
    "        pd = None\n",
    "        for d in self.i2d.values():\n",
    "            if d['next'] == index\n",
    "                pd = d\n",
    "                index0 = pd['index']\n",
    "                break\n",
    "        if self.i2d.has_key(index2): # 有下一块\n",
    "            nd = self.i2d[index2]\n",
    "            if nd['obj'] == None: # 下一块为空白\n",
    "                \n",
    "        else:\n",
    "        else:\n",
    "    def add(self, obj, data):\n",
    "        pass"
   ]
  },
  {
   "cell_type": "code",
   "execution_count": null,
   "metadata": {
    "collapsed": true
   },
   "outputs": [],
   "source": [
    "index"
   ]
  },
  {
   "cell_type": "code",
   "execution_count": 103,
   "metadata": {
    "collapsed": true
   },
   "outputs": [],
   "source": [
    "import sys"
   ]
  },
  {
   "cell_type": "code",
   "execution_count": 112,
   "metadata": {
    "collapsed": false
   },
   "outputs": [],
   "source": [
    "del d[1]"
   ]
  },
  {
   "cell_type": "code",
   "execution_count": 113,
   "metadata": {
    "collapsed": false
   },
   "outputs": [
    {
     "data": {
      "text/plain": [
       "{}"
      ]
     },
     "execution_count": 113,
     "metadata": {},
     "output_type": "execute_result"
    }
   ],
   "source": [
    "d"
   ]
  }
 ],
 "metadata": {
  "kernelspec": {
   "display_name": "Python 2",
   "language": "python",
   "name": "python2"
  },
  "language_info": {
   "codemirror_mode": {
    "name": "ipython",
    "version": 2
   },
   "file_extension": ".py",
   "mimetype": "text/x-python",
   "name": "python",
   "nbconvert_exporter": "python",
   "pygments_lexer": "ipython2",
   "version": "2.7.13"
  }
 },
 "nbformat": 4,
 "nbformat_minor": 2
}

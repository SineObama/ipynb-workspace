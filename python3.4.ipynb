{
 "cells": [
  {
   "cell_type": "code",
   "execution_count": 41,
   "metadata": {
    "collapsed": true
   },
   "outputs": [],
   "source": [
    "class A(dict):\n",
    "    def __repr__(self):\n",
    "        return self.__class__.__name__ + '(' + dict.__repr__(self) + ')'"
   ]
  },
  {
   "cell_type": "code",
   "execution_count": 44,
   "metadata": {
    "collapsed": false
   },
   "outputs": [],
   "source": [
    "a=eval(repr(A()))"
   ]
  },
  {
   "cell_type": "code",
   "execution_count": 63,
   "metadata": {
    "collapsed": false
   },
   "outputs": [],
   "source": [
    "meta = { 'c': 2}"
   ]
  },
  {
   "cell_type": "code",
   "execution_count": 66,
   "metadata": {
    "collapsed": false
   },
   "outputs": [
    {
     "data": {
      "text/plain": [
       "2"
      ]
     },
     "execution_count": 66,
     "metadata": {},
     "output_type": "execute_result"
    }
   ],
   "source": [
    "c"
   ]
  },
  {
   "cell_type": "code",
   "execution_count": 62,
   "metadata": {
    "collapsed": true
   },
   "outputs": [],
   "source": [
    "exec('b=meta[b]')"
   ]
  },
  {
   "cell_type": "code",
   "execution_count": 65,
   "metadata": {
    "collapsed": false
   },
   "outputs": [],
   "source": [
    "\n",
    "for key, value in meta.items():\n",
    "    exec(key + ' = meta[\\'' + key + '\\']')"
   ]
  },
  {
   "cell_type": "code",
   "execution_count": 54,
   "metadata": {
    "collapsed": false
   },
   "outputs": [
    {
     "name": "stdout",
     "output_type": "stream",
     "text": [
      "storeSingle=<function storeSingle at 0x00000000059E18C8>\n",
      "t={'warning_pause': '1', 'state.OFF': 'OFF', 'debug': '0', 'default_remindAhead': '0', 'screen_flash_mode': '0111101111', 'format': '%Y-%m-%d %H:%M:%S %%8rep %%3warn %%3idx %%3state %%msg', 'taskbar_flash': '1', 'datafile': 'clocks.txt', 'alarm_interval': '300', 'show_msg': '1', 'default_sound': 'default', 'warn': '!!!', 'flash_format': '%Y-%m-%d %H:%M:%S %%msg', 'sound': '1', 'state.ON': 'ON', 'alarm_last': '30'}\n",
      "_i40='\\n' +b'\\n'\n",
      "_i27=s.decode\n",
      "_i33=b''.join('')\n",
      "_12={}\n",
      "file=<_io.BufferedReader name='clock.properties'>\n",
      "_8={'warning_pause': '1', 'state.OFF': 'OFF', 'debug': '0', 'default_remindAhead': '0', 'screen_flash_mode': '0111101111', 'format': '%Y-%m-%d %H:%M:%S %%8rep %%3warn %%3idx %%3state %%msg', 'taskbar_flash': '1', 'datafile': 'clocks.txt', 'alarm_interval': '300', 'show_msg': '1', 'default_sound': 'default', 'warn': '!!!', 'flash_format': '%Y-%m-%d %H:%M:%S %%msg', 'sound': '1', 'state.ON': 'ON', 'alarm_last': '30'}\n",
      "__spec__=None\n",
      "_47={'storeSingle': <function storeSingle at 0x00000000059E18C8>, 't': {'warning_pause': '1', 'state.OFF': 'OFF', 'debug': '0', 'default_remindAhead': '0', 'screen_flash_mode': '0111101111', 'format': '%Y-%m-%d %H:%M:%S %%8rep %%3warn %%3idx %%3state %%msg', 'taskbar_flash': '1', 'datafile': 'clocks.txt', 'alarm_interval': '300', 'show_msg': '1', 'default_sound': 'default', 'warn': '!!!', 'flash_format': '%Y-%m-%d %H:%M:%S %%msg', 'sound': '1', 'state.ON': 'ON', 'alarm_last': '30'}, '_i40': \"'\\\\n' +b'\\\\n'\", '_i27': 's.decode', '_i33': \"b''.join('')\", '_12': {}, 'file': <_io.BufferedReader name='clock.properties'>, '_8': {'warning_pause': '1', 'state.OFF': 'OFF', 'debug': '0', 'default_remindAhead': '0', 'screen_flash_mode': '0111101111', 'format': '%Y-%m-%d %H:%M:%S %%8rep %%3warn %%3idx %%3state %%msg', 'taskbar_flash': '1', 'datafile': 'clocks.txt', 'alarm_interval': '300', 'show_msg': '1', 'default_sound': 'default', 'warn': '!!!', 'flash_format': '%Y-%m-%d %H:%M:%S %%msg', 'sound': '1', 'state.ON': 'ON', 'alarm_last': '30'}, '__spec__': None, '_47': {...}, '_i3': 'f.encoding', '__builtins__': <module 'builtins' (built-in)>, '_i48': 'for key in globals():\\n    print(key)', 'sys': <module 'sys' (built-in)>, '__loader__': None, '_i13': \"f=open('clock.properties', 'r', encoding='utf8')\", '_24': {'screen_flash_mode': '0111101111', 'format': '%Y-%m-%d %H:%M:%S %%8rep %%3warn %%3idx %%3state %%msg', 'alarm_interval': '300', 'show_msg': '1', 'warn': '!!!', 'flash_format': '%Y-%m-%d %H:%M:%S %%msg', 'sound': '1', 'state.ON': 'ON', 'warning_pause': '1', 'state.OFF': 'OFF', 'debug': '0', 'default_remindAhead': '0', 'taskbar_flash': '1', 'default_sound': 'default', 'datafile': 'clocks.txt', 'alarm_last': '30'}, 'exit': <IPython.core.autocall.ZMQExitAutocall object at 0x000000000583BDA0>, '_i12': 't', '_i26': \"s='t'\", '_i37': \"\\nwith open('clock.properties', 'rb') as file:\\n    for l in file:\\n        print(l)\", '_i10': 't', '_42': A({}), 'identifyKeyValue': <function identifyKeyValue at 0x00000000059E1510>, 'loadConvert': <function loadConvert at 0x00000000059E1598>, '_i42': 'A()', '_oh': {3: 'cp936', 5: '# 在配置出现问题等情况，在刷新页面前暂停以供查看\\n', 7: {'中': 'b'}, 8: {'warning_pause': '1', 'state.OFF': 'OFF', 'debug': '0', 'default_remindAhead': '0', 'screen_flash_mode': '0111101111', 'format': '%Y-%m-%d %H:%M:%S %%8rep %%3warn %%3idx %%3state %%msg', 'taskbar_flash': '1', 'datafile': 'clocks.txt', 'alarm_interval': '300', 'show_msg': '1', 'default_sound': 'default', 'warn': '!!!', 'flash_format': '%Y-%m-%d %H:%M:%S %%msg', 'sound': '1', 'state.ON': 'ON', 'alarm_last': '30'}, 10: {}, 12: {}, 15: {'warning_pause': '1', 'state.OFF': 'OFF', 'debug': '0', 'default_remindAhead': '0', 'screen_flash_mode': '0111101111', 'format': '%Y-%m-%d %H:%M:%S %%8rep %%3warn %%3idx %%3state %%msg', 'taskbar_flash': '1', 'datafile': 'clocks.txt', 'alarm_interval': '300', 'show_msg': '1', 'default_sound': 'default', 'warn': '!!!', 'flash_format': '%Y-%m-%d %H:%M:%S %%msg', 'sound': '1', 'state.ON': 'ON', 'alarm_last': '30'}, 17: '300', 19: <class 'str'>, 24: {'screen_flash_mode': '0111101111', 'format': '%Y-%m-%d %H:%M:%S %%8rep %%3warn %%3idx %%3state %%msg', 'alarm_interval': '300', 'show_msg': '1', 'warn': '!!!', 'flash_format': '%Y-%m-%d %H:%M:%S %%msg', 'sound': '1', 'state.ON': 'ON', 'warning_pause': '1', 'state.OFF': 'OFF', 'debug': '0', 'default_remindAhead': '0', 'taskbar_flash': '1', 'default_sound': 'default', 'datafile': 'clocks.txt', 'alarm_last': '30'}, 25: \"{'screen_flash_mode': '0111101111', 'format': '%Y-%m-%d %H:%M:%S %%8rep %%3warn %%3idx %%3state %%msg', 'alarm_interval': '300', 'show_msg': '1', 'warn': '!!!', 'flash_format': '%Y-%m-%d %H:%M:%S %%msg', 'sound': '1', 'state.ON': 'ON', 'warning_pause': '1', 'state.OFF': 'OFF', 'debug': '0', 'default_remindAhead': '0', 'taskbar_flash': '1', 'default_sound': 'default', 'datafile': 'clocks.txt', 'alarm_last': '30'}\", 28: True, 29: False, 32: b'', 33: b'', 34: False, 36: False, 38: 'a', 42: A({}), 43: A({}), 45: A({}), 46: <built-in function globals>, 47: {...}}, 'os': <module 'os' from 'C:\\\\Python34\\\\lib\\\\os.py'>, '_i21': 't=load(f)', '_34': False, '_i35': \"b'\\\\n' === '\\\\n'\", '_i2': 'f.readline()', 'config': {'screen_flash_mode': '0111101111', 'format': '%Y-%m-%d %H:%M:%S %%8rep %%3warn %%3idx %%3state %%msg', 'alarm_interval': '300', 'show_msg': '1', 'warn': '!!!', 'flash_format': '%Y-%m-%d %H:%M:%S %%msg', 'sound': '1', 'state.ON': 'ON', 'warning_pause': '1', 'state.OFF': 'OFF', 'debug': '0', 'default_remindAhead': '0', 'taskbar_flash': '1', 'default_sound': 'default', 'datafile': 'clocks.txt', 'alarm_last': '30'}, '__': <built-in function globals>, '_i7': \"load(['\\\\\\\\u4e2d b'])\", '_i36': \"b'\\\\n' == '\\\\n'\", '___': A({}), '_i9': 't=load(f)', '_7': {'中': 'b'}, '_i16': 't.alarm_interval', 'l': b'debug=0\\r\\n', '_43': A({}), '_19': <class 'str'>, 'loadSingle2': <function loadSingle2 at 0x00000000059E1488>, '__package__': None, '_i23': \"\\nwith open('clock.properties', 'r', encoding='utf8') as file:\\n    config.update(load(file))\", '_i50': 'a = globals()\\nfor key, v in a:\\n    print(key, v)', '_3': 'cp936', '_ih': ['', \"f=open('clock.properties', 'r')\", 'f.readline()', 'f.encoding', \"f=open('clock.properties', 'r', encoding='utf8')\", 'f.readline()', 'from sine.properties import *', \"load(['\\\\\\\\u4e2d b'])\", 'load(f)', 't=load(f)', 't', 't=load(f)', 't', \"f=open('clock.properties', 'r', encoding='utf8')\", 't=load(f)', 't', 't.alarm_interval', \"t['alarm_interval']\", \"tt=t['alarm_interval']\", 'type(tt)', \"f=open('clock.properties', 'r')\", 't=load(f)', 'config={}', \"\\nwith open('clock.properties', 'r', encoding='utf8') as file:\\n    config.update(load(file))\", 'config', 'str(config)', \"s='t'\", 's.decode', \"hasattr(s, 'encode')\", \"hasattr(s, 'decode')\", \"\\nwith open('clock.properties', 'r') as file:\\n    config.update(load(file))\", \"\\nwith open('clock.properties', 'rb') as file:\\n    config.update(load(file))\", \"b''\", \"b''.join('')\", \"b'\\\\n' == '\\\\n'\", \"b'\\\\n' === '\\\\n'\", \"b'\\\\n' == '\\\\n'\", \"\\nwith open('clock.properties', 'rb') as file:\\n    for l in file:\\n        print(l)\", \"u'a'\", \"b'\\\\n' +'\\\\n'\", \"'\\\\n' +b'\\\\n'\", \"class A(dict):\\n    def __repr__(self):\\n        return self.__class__.__name__ + '(' + dict.__repr__(self) + ')'\", 'A()', 'eval(repr(A()))', 'a=eval(repr(A()))', 'a', 'globals', 'globals()', 'for key in globals():\\n    print(key)', 'a = globals()\\nfor key in a:\\n    print(key)', 'a = globals()\\nfor key, v in a:\\n    print(key, v)', \"a = globals()\\nfor key, v in a:\\n    print(key + '=' + v)\", \"a = globals()\\nfor key in a:\\n    print(key + '=' + v)\", \"a = globals()\\nfor key,v in a.items():\\n    print(key + '=' + v)\", \"a = globals()\\nfor key,v in a.items():\\n    print(key + '=' + str(v))\"], '_i45': 'a', '_i22': 'config={}', '_i4': \"f=open('clock.properties', 'r', encoding='utf8')\", '_33': b'', '_i32': \"b''\", '_i28': \"hasattr(s, 'encode')\", '_29': False, 'store': <function store at 0x00000000059E1840>, '_i18': \"tt=t['alarm_interval']\", 'a': {...}, 'A': <class '__main__.A'>, '__name__': '__main__', '_i47': 'globals()', '_i38': \"u'a'\", '__doc__': 'Automatically created module for IPython interactive environment', 'Out': {3: 'cp936', 5: '# 在配置出现问题等情况，在刷新页面前暂停以供查看\\n', 7: {'中': 'b'}, 8: {'warning_pause': '1', 'state.OFF': 'OFF', 'debug': '0', 'default_remindAhead': '0', 'screen_flash_mode': '0111101111', 'format': '%Y-%m-%d %H:%M:%S %%8rep %%3warn %%3idx %%3state %%msg', 'taskbar_flash': '1', 'datafile': 'clocks.txt', 'alarm_interval': '300', 'show_msg': '1', 'default_sound': 'default', 'warn': '!!!', 'flash_format': '%Y-%m-%d %H:%M:%S %%msg', 'sound': '1', 'state.ON': 'ON', 'alarm_last': '30'}, 10: {}, 12: {}, 15: {'warning_pause': '1', 'state.OFF': 'OFF', 'debug': '0', 'default_remindAhead': '0', 'screen_flash_mode': '0111101111', 'format': '%Y-%m-%d %H:%M:%S %%8rep %%3warn %%3idx %%3state %%msg', 'taskbar_flash': '1', 'datafile': 'clocks.txt', 'alarm_interval': '300', 'show_msg': '1', 'default_sound': 'default', 'warn': '!!!', 'flash_format': '%Y-%m-%d %H:%M:%S %%msg', 'sound': '1', 'state.ON': 'ON', 'alarm_last': '30'}, 17: '300', 19: <class 'str'>, 24: {'screen_flash_mode': '0111101111', 'format': '%Y-%m-%d %H:%M:%S %%8rep %%3warn %%3idx %%3state %%msg', 'alarm_interval': '300', 'show_msg': '1', 'warn': '!!!', 'flash_format': '%Y-%m-%d %H:%M:%S %%msg', 'sound': '1', 'state.ON': 'ON', 'warning_pause': '1', 'state.OFF': 'OFF', 'debug': '0', 'default_remindAhead': '0', 'taskbar_flash': '1', 'default_sound': 'default', 'datafile': 'clocks.txt', 'alarm_last': '30'}, 25: \"{'screen_flash_mode': '0111101111', 'format': '%Y-%m-%d %H:%M:%S %%8rep %%3warn %%3idx %%3state %%msg', 'alarm_interval': '300', 'show_msg': '1', 'warn': '!!!', 'flash_format': '%Y-%m-%d %H:%M:%S %%msg', 'sound': '1', 'state.ON': 'ON', 'warning_pause': '1', 'state.OFF': 'OFF', 'debug': '0', 'default_remindAhead': '0', 'taskbar_flash': '1', 'default_sound': 'default', 'datafile': 'clocks.txt', 'alarm_last': '30'}\", 28: True, 29: False, 32: b'', 33: b'', 34: False, 36: False, 38: 'a', 42: A({}), 43: A({}), 45: A({}), 46: <built-in function globals>, 47: {...}}, 'LineReader': <class 'sine.properties.core.LineReader'>, 's': 't', '_i39': \"b'\\\\n' +'\\\\n'\", '_i46': 'globals', '_38': 'a', '_i44': 'a=eval(repr(A()))', '_dh': ['D:\\\\data\\\\python'], '_i54': \"a = globals()\\nfor key,v in a.items():\\n    print(key + '=' + str(v))\", 'xrange': <class 'range'>, '_45': A({}), 'f': <_io.TextIOWrapper name='clock.properties' mode='r' encoding='cp936'>, '_25': \"{'screen_flash_mode': '0111101111', 'format': '%Y-%m-%d %H:%M:%S %%8rep %%3warn %%3idx %%3state %%msg', 'alarm_interval': '300', 'show_msg': '1', 'warn': '!!!', 'flash_format': '%Y-%m-%d %H:%M:%S %%msg', 'sound': '1', 'state.ON': 'ON', 'warning_pause': '1', 'state.OFF': 'OFF', 'debug': '0', 'default_remindAhead': '0', 'taskbar_flash': '1', 'default_sound': 'default', 'datafile': 'clocks.txt', 'alarm_last': '30'}\", '_i17': \"t['alarm_interval']\", 're': <module 're' from 'C:\\\\Python34\\\\lib\\\\re.py'>, '_i30': \"\\nwith open('clock.properties', 'r') as file:\\n    config.update(load(file))\", '_': {...}, 'storeComments': <function storeComments at 0x00000000059E17B8>, 'load': <function load at 0x00000000059E1400>, '_i31': \"\\nwith open('clock.properties', 'rb') as file:\\n    config.update(load(file))\", '_i19': 'type(tt)', '_15': {'warning_pause': '1', 'state.OFF': 'OFF', 'debug': '0', 'default_remindAhead': '0', 'screen_flash_mode': '0111101111', 'format': '%Y-%m-%d %H:%M:%S %%8rep %%3warn %%3idx %%3state %%msg', 'taskbar_flash': '1', 'datafile': 'clocks.txt', 'alarm_interval': '300', 'show_msg': '1', 'default_sound': 'default', 'warn': '!!!', 'flash_format': '%Y-%m-%d %H:%M:%S %%msg', 'sound': '1', 'state.ON': 'ON', 'alarm_last': '30'}, 'storeConvert': <function storeConvert at 0x00000000059E1730>, '_i53': \"a = globals()\\nfor key,v in a.items():\\n    print(key + '=' + v)\", '_i6': 'from sine.properties import *', 'quit': <IPython.core.autocall.ZMQExitAutocall object at 0x000000000583BDA0>, '_i24': 'config', '_i25': 'str(config)', '_i49': 'a = globals()\\nfor key in a:\\n    print(key)', 'v': {...}, '_i51': \"a = globals()\\nfor key, v in a:\\n    print(key + '=' + v)\", '_i8': 'load(f)', '_ii': \"a = globals()\\nfor key in a:\\n    print(key + '=' + v)\", '_i41': \"class A(dict):\\n    def __repr__(self):\\n        return self.__class__.__name__ + '(' + dict.__repr__(self) + ')'\", 'NormalLineReader2': <class 'sine.properties.core.NormalLineReader2'>, '_32': b'', '_i5': 'f.readline()', 'loadSingle': <function loadSingle at 0x00000000059E1378>, '_5': '# 在配置出现问题等情况，在刷新页面前暂停以供查看\\n', '__builtin__': <module 'builtins' (built-in)>, '_i52': \"a = globals()\\nfor key in a:\\n    print(key + '=' + v)\", '_i11': 't=load(f)', 'get_ipython': <bound method ZMQInteractiveShell.get_ipython of <ipykernel.zmqshell.ZMQInteractiveShell object at 0x00000000058216A0>>, 'key': '_47', '_i20': \"f=open('clock.properties', 'r')\", '_i29': \"hasattr(s, 'decode')\", '_i43': 'eval(repr(A()))', 'In': ['', \"f=open('clock.properties', 'r')\", 'f.readline()', 'f.encoding', \"f=open('clock.properties', 'r', encoding='utf8')\", 'f.readline()', 'from sine.properties import *', \"load(['\\\\\\\\u4e2d b'])\", 'load(f)', 't=load(f)', 't', 't=load(f)', 't', \"f=open('clock.properties', 'r', encoding='utf8')\", 't=load(f)', 't', 't.alarm_interval', \"t['alarm_interval']\", \"tt=t['alarm_interval']\", 'type(tt)', \"f=open('clock.properties', 'r')\", 't=load(f)', 'config={}', \"\\nwith open('clock.properties', 'r', encoding='utf8') as file:\\n    config.update(load(file))\", 'config', 'str(config)', \"s='t'\", 's.decode', \"hasattr(s, 'encode')\", \"hasattr(s, 'decode')\", \"\\nwith open('clock.properties', 'r') as file:\\n    config.update(load(file))\", \"\\nwith open('clock.properties', 'rb') as file:\\n    config.update(load(file))\", \"b''\", \"b''.join('')\", \"b'\\\\n' == '\\\\n'\", \"b'\\\\n' === '\\\\n'\", \"b'\\\\n' == '\\\\n'\", \"\\nwith open('clock.properties', 'rb') as file:\\n    for l in file:\\n        print(l)\", \"u'a'\", \"b'\\\\n' +'\\\\n'\", \"'\\\\n' +b'\\\\n'\", \"class A(dict):\\n    def __repr__(self):\\n        return self.__class__.__name__ + '(' + dict.__repr__(self) + ')'\", 'A()', 'eval(repr(A()))', 'a=eval(repr(A()))', 'a', 'globals', 'globals()', 'for key in globals():\\n    print(key)', 'a = globals()\\nfor key in a:\\n    print(key)', 'a = globals()\\nfor key, v in a:\\n    print(key, v)', \"a = globals()\\nfor key, v in a:\\n    print(key + '=' + v)\", \"a = globals()\\nfor key in a:\\n    print(key + '=' + v)\", \"a = globals()\\nfor key,v in a.items():\\n    print(key + '=' + v)\", \"a = globals()\\nfor key,v in a.items():\\n    print(key + '=' + str(v))\"], '_i': \"a = globals()\\nfor key,v in a.items():\\n    print(key + '=' + v)\", '_17': '300', '_i15': 't', 'LineReader2': <class 'sine.properties.core.LineReader2'>, '_10': {}, '_i34': \"b'\\\\n' == '\\\\n'\", '_36': False, '_46': <built-in function globals>, 'loadConvert2': <function loadConvert2 at 0x00000000059E16A8>, '_iii': \"a = globals()\\nfor key, v in a:\\n    print(key + '=' + v)\", '_28': True, 'hasNext': <function hasNext at 0x00000000059E12F0>, 'Iterable': <class 'collections.abc.Iterable'>, '_i14': 't=load(f)', 'core': <module 'sine.properties.core' from 'C:\\\\Python34\\\\lib\\\\site-packages\\\\sine\\\\properties\\\\core.py'>, 'tt': '300', '_i1': \"f=open('clock.properties', 'r')\"}\n",
      "_i3=f.encoding\n",
      "__builtins__=<module 'builtins' (built-in)>\n",
      "_i48=for key in globals():\n",
      "    print(key)\n",
      "sys=<module 'sys' (built-in)>\n",
      "__loader__=None\n",
      "_i13=f=open('clock.properties', 'r', encoding='utf8')\n",
      "_24={'screen_flash_mode': '0111101111', 'format': '%Y-%m-%d %H:%M:%S %%8rep %%3warn %%3idx %%3state %%msg', 'alarm_interval': '300', 'show_msg': '1', 'warn': '!!!', 'flash_format': '%Y-%m-%d %H:%M:%S %%msg', 'sound': '1', 'state.ON': 'ON', 'warning_pause': '1', 'state.OFF': 'OFF', 'debug': '0', 'default_remindAhead': '0', 'taskbar_flash': '1', 'default_sound': 'default', 'datafile': 'clocks.txt', 'alarm_last': '30'}\n",
      "exit=<IPython.core.autocall.ZMQExitAutocall object at 0x000000000583BDA0>\n",
      "_i12=t\n",
      "_i26=s='t'\n",
      "_i37=\n",
      "with open('clock.properties', 'rb') as file:\n",
      "    for l in file:\n",
      "        print(l)\n",
      "_i10=t\n",
      "_42=A({})\n",
      "identifyKeyValue=<function identifyKeyValue at 0x00000000059E1510>\n",
      "loadConvert=<function loadConvert at 0x00000000059E1598>\n",
      "_i42=A()\n",
      "_oh={3: 'cp936', 5: '# 在配置出现问题等情况，在刷新页面前暂停以供查看\\n', 7: {'中': 'b'}, 8: {'warning_pause': '1', 'state.OFF': 'OFF', 'debug': '0', 'default_remindAhead': '0', 'screen_flash_mode': '0111101111', 'format': '%Y-%m-%d %H:%M:%S %%8rep %%3warn %%3idx %%3state %%msg', 'taskbar_flash': '1', 'datafile': 'clocks.txt', 'alarm_interval': '300', 'show_msg': '1', 'default_sound': 'default', 'warn': '!!!', 'flash_format': '%Y-%m-%d %H:%M:%S %%msg', 'sound': '1', 'state.ON': 'ON', 'alarm_last': '30'}, 10: {}, 12: {}, 15: {'warning_pause': '1', 'state.OFF': 'OFF', 'debug': '0', 'default_remindAhead': '0', 'screen_flash_mode': '0111101111', 'format': '%Y-%m-%d %H:%M:%S %%8rep %%3warn %%3idx %%3state %%msg', 'taskbar_flash': '1', 'datafile': 'clocks.txt', 'alarm_interval': '300', 'show_msg': '1', 'default_sound': 'default', 'warn': '!!!', 'flash_format': '%Y-%m-%d %H:%M:%S %%msg', 'sound': '1', 'state.ON': 'ON', 'alarm_last': '30'}, 17: '300', 19: <class 'str'>, 24: {'screen_flash_mode': '0111101111', 'format': '%Y-%m-%d %H:%M:%S %%8rep %%3warn %%3idx %%3state %%msg', 'alarm_interval': '300', 'show_msg': '1', 'warn': '!!!', 'flash_format': '%Y-%m-%d %H:%M:%S %%msg', 'sound': '1', 'state.ON': 'ON', 'warning_pause': '1', 'state.OFF': 'OFF', 'debug': '0', 'default_remindAhead': '0', 'taskbar_flash': '1', 'default_sound': 'default', 'datafile': 'clocks.txt', 'alarm_last': '30'}, 25: \"{'screen_flash_mode': '0111101111', 'format': '%Y-%m-%d %H:%M:%S %%8rep %%3warn %%3idx %%3state %%msg', 'alarm_interval': '300', 'show_msg': '1', 'warn': '!!!', 'flash_format': '%Y-%m-%d %H:%M:%S %%msg', 'sound': '1', 'state.ON': 'ON', 'warning_pause': '1', 'state.OFF': 'OFF', 'debug': '0', 'default_remindAhead': '0', 'taskbar_flash': '1', 'default_sound': 'default', 'datafile': 'clocks.txt', 'alarm_last': '30'}\", 28: True, 29: False, 32: b'', 33: b'', 34: False, 36: False, 38: 'a', 42: A({}), 43: A({}), 45: A({}), 46: <built-in function globals>, 47: {'storeSingle': <function storeSingle at 0x00000000059E18C8>, 't': {'warning_pause': '1', 'state.OFF': 'OFF', 'debug': '0', 'default_remindAhead': '0', 'screen_flash_mode': '0111101111', 'format': '%Y-%m-%d %H:%M:%S %%8rep %%3warn %%3idx %%3state %%msg', 'taskbar_flash': '1', 'datafile': 'clocks.txt', 'alarm_interval': '300', 'show_msg': '1', 'default_sound': 'default', 'warn': '!!!', 'flash_format': '%Y-%m-%d %H:%M:%S %%msg', 'sound': '1', 'state.ON': 'ON', 'alarm_last': '30'}, '_i40': \"'\\\\n' +b'\\\\n'\", '_i27': 's.decode', '_i33': \"b''.join('')\", '_12': {}, 'file': <_io.BufferedReader name='clock.properties'>, '_8': {'warning_pause': '1', 'state.OFF': 'OFF', 'debug': '0', 'default_remindAhead': '0', 'screen_flash_mode': '0111101111', 'format': '%Y-%m-%d %H:%M:%S %%8rep %%3warn %%3idx %%3state %%msg', 'taskbar_flash': '1', 'datafile': 'clocks.txt', 'alarm_interval': '300', 'show_msg': '1', 'default_sound': 'default', 'warn': '!!!', 'flash_format': '%Y-%m-%d %H:%M:%S %%msg', 'sound': '1', 'state.ON': 'ON', 'alarm_last': '30'}, '__spec__': None, '_47': {...}, '_i3': 'f.encoding', '__builtins__': <module 'builtins' (built-in)>, '_i48': 'for key in globals():\\n    print(key)', 'sys': <module 'sys' (built-in)>, '__loader__': None, '_i13': \"f=open('clock.properties', 'r', encoding='utf8')\", '_24': {'screen_flash_mode': '0111101111', 'format': '%Y-%m-%d %H:%M:%S %%8rep %%3warn %%3idx %%3state %%msg', 'alarm_interval': '300', 'show_msg': '1', 'warn': '!!!', 'flash_format': '%Y-%m-%d %H:%M:%S %%msg', 'sound': '1', 'state.ON': 'ON', 'warning_pause': '1', 'state.OFF': 'OFF', 'debug': '0', 'default_remindAhead': '0', 'taskbar_flash': '1', 'default_sound': 'default', 'datafile': 'clocks.txt', 'alarm_last': '30'}, 'exit': <IPython.core.autocall.ZMQExitAutocall object at 0x000000000583BDA0>, '_i12': 't', '_i26': \"s='t'\", '_i37': \"\\nwith open('clock.properties', 'rb') as file:\\n    for l in file:\\n        print(l)\", '_i10': 't', '_42': A({}), 'identifyKeyValue': <function identifyKeyValue at 0x00000000059E1510>, 'loadConvert': <function loadConvert at 0x00000000059E1598>, '_i42': 'A()', '_oh': {...}, 'os': <module 'os' from 'C:\\\\Python34\\\\lib\\\\os.py'>, '_i21': 't=load(f)', '_34': False, '_i35': \"b'\\\\n' === '\\\\n'\", '_i2': 'f.readline()', 'config': {'screen_flash_mode': '0111101111', 'format': '%Y-%m-%d %H:%M:%S %%8rep %%3warn %%3idx %%3state %%msg', 'alarm_interval': '300', 'show_msg': '1', 'warn': '!!!', 'flash_format': '%Y-%m-%d %H:%M:%S %%msg', 'sound': '1', 'state.ON': 'ON', 'warning_pause': '1', 'state.OFF': 'OFF', 'debug': '0', 'default_remindAhead': '0', 'taskbar_flash': '1', 'default_sound': 'default', 'datafile': 'clocks.txt', 'alarm_last': '30'}, '__': <built-in function globals>, '_i7': \"load(['\\\\\\\\u4e2d b'])\", '_i36': \"b'\\\\n' == '\\\\n'\", '___': A({}), '_i9': 't=load(f)', '_7': {'中': 'b'}, '_i16': 't.alarm_interval', 'l': b'debug=0\\r\\n', '_43': A({}), '_19': <class 'str'>, 'loadSingle2': <function loadSingle2 at 0x00000000059E1488>, '__package__': None, '_i23': \"\\nwith open('clock.properties', 'r', encoding='utf8') as file:\\n    config.update(load(file))\", '_i50': 'a = globals()\\nfor key, v in a:\\n    print(key, v)', '_3': 'cp936', '_ih': ['', \"f=open('clock.properties', 'r')\", 'f.readline()', 'f.encoding', \"f=open('clock.properties', 'r', encoding='utf8')\", 'f.readline()', 'from sine.properties import *', \"load(['\\\\\\\\u4e2d b'])\", 'load(f)', 't=load(f)', 't', 't=load(f)', 't', \"f=open('clock.properties', 'r', encoding='utf8')\", 't=load(f)', 't', 't.alarm_interval', \"t['alarm_interval']\", \"tt=t['alarm_interval']\", 'type(tt)', \"f=open('clock.properties', 'r')\", 't=load(f)', 'config={}', \"\\nwith open('clock.properties', 'r', encoding='utf8') as file:\\n    config.update(load(file))\", 'config', 'str(config)', \"s='t'\", 's.decode', \"hasattr(s, 'encode')\", \"hasattr(s, 'decode')\", \"\\nwith open('clock.properties', 'r') as file:\\n    config.update(load(file))\", \"\\nwith open('clock.properties', 'rb') as file:\\n    config.update(load(file))\", \"b''\", \"b''.join('')\", \"b'\\\\n' == '\\\\n'\", \"b'\\\\n' === '\\\\n'\", \"b'\\\\n' == '\\\\n'\", \"\\nwith open('clock.properties', 'rb') as file:\\n    for l in file:\\n        print(l)\", \"u'a'\", \"b'\\\\n' +'\\\\n'\", \"'\\\\n' +b'\\\\n'\", \"class A(dict):\\n    def __repr__(self):\\n        return self.__class__.__name__ + '(' + dict.__repr__(self) + ')'\", 'A()', 'eval(repr(A()))', 'a=eval(repr(A()))', 'a', 'globals', 'globals()', 'for key in globals():\\n    print(key)', 'a = globals()\\nfor key in a:\\n    print(key)', 'a = globals()\\nfor key, v in a:\\n    print(key, v)', \"a = globals()\\nfor key, v in a:\\n    print(key + '=' + v)\", \"a = globals()\\nfor key in a:\\n    print(key + '=' + v)\", \"a = globals()\\nfor key,v in a.items():\\n    print(key + '=' + v)\", \"a = globals()\\nfor key,v in a.items():\\n    print(key + '=' + str(v))\"], '_i45': 'a', '_i22': 'config={}', '_i4': \"f=open('clock.properties', 'r', encoding='utf8')\", '_33': b'', '_i32': \"b''\", '_i28': \"hasattr(s, 'encode')\", '_29': False, 'store': <function store at 0x00000000059E1840>, '_i18': \"tt=t['alarm_interval']\", 'a': {...}, 'A': <class '__main__.A'>, '__name__': '__main__', '_i47': 'globals()', '_i38': \"u'a'\", '__doc__': 'Automatically created module for IPython interactive environment', 'Out': {...}, 'LineReader': <class 'sine.properties.core.LineReader'>, 's': 't', '_i39': \"b'\\\\n' +'\\\\n'\", '_i46': 'globals', '_38': 'a', '_i44': 'a=eval(repr(A()))', '_dh': ['D:\\\\data\\\\python'], '_i54': \"a = globals()\\nfor key,v in a.items():\\n    print(key + '=' + str(v))\", 'xrange': <class 'range'>, '_45': A({}), 'f': <_io.TextIOWrapper name='clock.properties' mode='r' encoding='cp936'>, '_25': \"{'screen_flash_mode': '0111101111', 'format': '%Y-%m-%d %H:%M:%S %%8rep %%3warn %%3idx %%3state %%msg', 'alarm_interval': '300', 'show_msg': '1', 'warn': '!!!', 'flash_format': '%Y-%m-%d %H:%M:%S %%msg', 'sound': '1', 'state.ON': 'ON', 'warning_pause': '1', 'state.OFF': 'OFF', 'debug': '0', 'default_remindAhead': '0', 'taskbar_flash': '1', 'default_sound': 'default', 'datafile': 'clocks.txt', 'alarm_last': '30'}\", '_i17': \"t['alarm_interval']\", 're': <module 're' from 'C:\\\\Python34\\\\lib\\\\re.py'>, '_i30': \"\\nwith open('clock.properties', 'r') as file:\\n    config.update(load(file))\", '_': {...}, 'storeComments': <function storeComments at 0x00000000059E17B8>, 'load': <function load at 0x00000000059E1400>, '_i31': \"\\nwith open('clock.properties', 'rb') as file:\\n    config.update(load(file))\", '_i19': 'type(tt)', '_15': {'warning_pause': '1', 'state.OFF': 'OFF', 'debug': '0', 'default_remindAhead': '0', 'screen_flash_mode': '0111101111', 'format': '%Y-%m-%d %H:%M:%S %%8rep %%3warn %%3idx %%3state %%msg', 'taskbar_flash': '1', 'datafile': 'clocks.txt', 'alarm_interval': '300', 'show_msg': '1', 'default_sound': 'default', 'warn': '!!!', 'flash_format': '%Y-%m-%d %H:%M:%S %%msg', 'sound': '1', 'state.ON': 'ON', 'alarm_last': '30'}, 'storeConvert': <function storeConvert at 0x00000000059E1730>, '_i53': \"a = globals()\\nfor key,v in a.items():\\n    print(key + '=' + v)\", '_i6': 'from sine.properties import *', 'quit': <IPython.core.autocall.ZMQExitAutocall object at 0x000000000583BDA0>, '_i24': 'config', '_i25': 'str(config)', '_i49': 'a = globals()\\nfor key in a:\\n    print(key)', 'v': {...}, '_i51': \"a = globals()\\nfor key, v in a:\\n    print(key + '=' + v)\", '_i8': 'load(f)', '_ii': \"a = globals()\\nfor key in a:\\n    print(key + '=' + v)\", '_i41': \"class A(dict):\\n    def __repr__(self):\\n        return self.__class__.__name__ + '(' + dict.__repr__(self) + ')'\", 'NormalLineReader2': <class 'sine.properties.core.NormalLineReader2'>, '_32': b'', '_i5': 'f.readline()', 'loadSingle': <function loadSingle at 0x00000000059E1378>, '_5': '# 在配置出现问题等情况，在刷新页面前暂停以供查看\\n', '__builtin__': <module 'builtins' (built-in)>, '_i52': \"a = globals()\\nfor key in a:\\n    print(key + '=' + v)\", '_i11': 't=load(f)', 'get_ipython': <bound method ZMQInteractiveShell.get_ipython of <ipykernel.zmqshell.ZMQInteractiveShell object at 0x00000000058216A0>>, 'key': '_oh', '_i20': \"f=open('clock.properties', 'r')\", '_i29': \"hasattr(s, 'decode')\", '_i43': 'eval(repr(A()))', 'In': ['', \"f=open('clock.properties', 'r')\", 'f.readline()', 'f.encoding', \"f=open('clock.properties', 'r', encoding='utf8')\", 'f.readline()', 'from sine.properties import *', \"load(['\\\\\\\\u4e2d b'])\", 'load(f)', 't=load(f)', 't', 't=load(f)', 't', \"f=open('clock.properties', 'r', encoding='utf8')\", 't=load(f)', 't', 't.alarm_interval', \"t['alarm_interval']\", \"tt=t['alarm_interval']\", 'type(tt)', \"f=open('clock.properties', 'r')\", 't=load(f)', 'config={}', \"\\nwith open('clock.properties', 'r', encoding='utf8') as file:\\n    config.update(load(file))\", 'config', 'str(config)', \"s='t'\", 's.decode', \"hasattr(s, 'encode')\", \"hasattr(s, 'decode')\", \"\\nwith open('clock.properties', 'r') as file:\\n    config.update(load(file))\", \"\\nwith open('clock.properties', 'rb') as file:\\n    config.update(load(file))\", \"b''\", \"b''.join('')\", \"b'\\\\n' == '\\\\n'\", \"b'\\\\n' === '\\\\n'\", \"b'\\\\n' == '\\\\n'\", \"\\nwith open('clock.properties', 'rb') as file:\\n    for l in file:\\n        print(l)\", \"u'a'\", \"b'\\\\n' +'\\\\n'\", \"'\\\\n' +b'\\\\n'\", \"class A(dict):\\n    def __repr__(self):\\n        return self.__class__.__name__ + '(' + dict.__repr__(self) + ')'\", 'A()', 'eval(repr(A()))', 'a=eval(repr(A()))', 'a', 'globals', 'globals()', 'for key in globals():\\n    print(key)', 'a = globals()\\nfor key in a:\\n    print(key)', 'a = globals()\\nfor key, v in a:\\n    print(key, v)', \"a = globals()\\nfor key, v in a:\\n    print(key + '=' + v)\", \"a = globals()\\nfor key in a:\\n    print(key + '=' + v)\", \"a = globals()\\nfor key,v in a.items():\\n    print(key + '=' + v)\", \"a = globals()\\nfor key,v in a.items():\\n    print(key + '=' + str(v))\"], '_i': \"a = globals()\\nfor key,v in a.items():\\n    print(key + '=' + v)\", '_17': '300', '_i15': 't', 'LineReader2': <class 'sine.properties.core.LineReader2'>, '_10': {}, '_i34': \"b'\\\\n' == '\\\\n'\", '_36': False, '_46': <built-in function globals>, 'loadConvert2': <function loadConvert2 at 0x00000000059E16A8>, '_iii': \"a = globals()\\nfor key, v in a:\\n    print(key + '=' + v)\", '_28': True, 'hasNext': <function hasNext at 0x00000000059E12F0>, 'Iterable': <class 'collections.abc.Iterable'>, '_i14': 't=load(f)', 'core': <module 'sine.properties.core' from 'C:\\\\Python34\\\\lib\\\\site-packages\\\\sine\\\\properties\\\\core.py'>, 'tt': '300', '_i1': \"f=open('clock.properties', 'r')\"}}\n",
      "os=<module 'os' from 'C:\\\\Python34\\\\lib\\\\os.py'>\n",
      "_i21=t=load(f)\n",
      "_34=False\n",
      "_i35=b'\\n' === '\\n'\n",
      "_i2=f.readline()\n",
      "config={'screen_flash_mode': '0111101111', 'format': '%Y-%m-%d %H:%M:%S %%8rep %%3warn %%3idx %%3state %%msg', 'alarm_interval': '300', 'show_msg': '1', 'warn': '!!!', 'flash_format': '%Y-%m-%d %H:%M:%S %%msg', 'sound': '1', 'state.ON': 'ON', 'warning_pause': '1', 'state.OFF': 'OFF', 'debug': '0', 'default_remindAhead': '0', 'taskbar_flash': '1', 'default_sound': 'default', 'datafile': 'clocks.txt', 'alarm_last': '30'}\n",
      "__=<built-in function globals>\n",
      "_i7=load(['\\\\u4e2d b'])\n",
      "_i36=b'\\n' == '\\n'\n",
      "___=A({})\n",
      "_i9=t=load(f)\n",
      "_7={'中': 'b'}\n",
      "_i16=t.alarm_interval\n",
      "l=b'debug=0\\r\\n'\n",
      "_43=A({})\n",
      "_19=<class 'str'>\n",
      "loadSingle2=<function loadSingle2 at 0x00000000059E1488>\n",
      "__package__=None\n",
      "_i23=\n",
      "with open('clock.properties', 'r', encoding='utf8') as file:\n",
      "    config.update(load(file))\n",
      "_i50=a = globals()\n",
      "for key, v in a:\n",
      "    print(key, v)\n",
      "_3=cp936\n",
      "_ih=['', \"f=open('clock.properties', 'r')\", 'f.readline()', 'f.encoding', \"f=open('clock.properties', 'r', encoding='utf8')\", 'f.readline()', 'from sine.properties import *', \"load(['\\\\\\\\u4e2d b'])\", 'load(f)', 't=load(f)', 't', 't=load(f)', 't', \"f=open('clock.properties', 'r', encoding='utf8')\", 't=load(f)', 't', 't.alarm_interval', \"t['alarm_interval']\", \"tt=t['alarm_interval']\", 'type(tt)', \"f=open('clock.properties', 'r')\", 't=load(f)', 'config={}', \"\\nwith open('clock.properties', 'r', encoding='utf8') as file:\\n    config.update(load(file))\", 'config', 'str(config)', \"s='t'\", 's.decode', \"hasattr(s, 'encode')\", \"hasattr(s, 'decode')\", \"\\nwith open('clock.properties', 'r') as file:\\n    config.update(load(file))\", \"\\nwith open('clock.properties', 'rb') as file:\\n    config.update(load(file))\", \"b''\", \"b''.join('')\", \"b'\\\\n' == '\\\\n'\", \"b'\\\\n' === '\\\\n'\", \"b'\\\\n' == '\\\\n'\", \"\\nwith open('clock.properties', 'rb') as file:\\n    for l in file:\\n        print(l)\", \"u'a'\", \"b'\\\\n' +'\\\\n'\", \"'\\\\n' +b'\\\\n'\", \"class A(dict):\\n    def __repr__(self):\\n        return self.__class__.__name__ + '(' + dict.__repr__(self) + ')'\", 'A()', 'eval(repr(A()))', 'a=eval(repr(A()))', 'a', 'globals', 'globals()', 'for key in globals():\\n    print(key)', 'a = globals()\\nfor key in a:\\n    print(key)', 'a = globals()\\nfor key, v in a:\\n    print(key, v)', \"a = globals()\\nfor key, v in a:\\n    print(key + '=' + v)\", \"a = globals()\\nfor key in a:\\n    print(key + '=' + v)\", \"a = globals()\\nfor key,v in a.items():\\n    print(key + '=' + v)\", \"a = globals()\\nfor key,v in a.items():\\n    print(key + '=' + str(v))\"]\n",
      "_i45=a\n",
      "_i22=config={}\n",
      "_i4=f=open('clock.properties', 'r', encoding='utf8')\n",
      "_33=b''\n",
      "_i32=b''\n",
      "_i28=hasattr(s, 'encode')\n",
      "_29=False\n",
      "store=<function store at 0x00000000059E1840>\n",
      "_i18=tt=t['alarm_interval']\n",
      "a={'storeSingle': <function storeSingle at 0x00000000059E18C8>, 't': {'warning_pause': '1', 'state.OFF': 'OFF', 'debug': '0', 'default_remindAhead': '0', 'screen_flash_mode': '0111101111', 'format': '%Y-%m-%d %H:%M:%S %%8rep %%3warn %%3idx %%3state %%msg', 'taskbar_flash': '1', 'datafile': 'clocks.txt', 'alarm_interval': '300', 'show_msg': '1', 'default_sound': 'default', 'warn': '!!!', 'flash_format': '%Y-%m-%d %H:%M:%S %%msg', 'sound': '1', 'state.ON': 'ON', 'alarm_last': '30'}, '_i40': \"'\\\\n' +b'\\\\n'\", '_i27': 's.decode', '_i33': \"b''.join('')\", '_12': {}, 'file': <_io.BufferedReader name='clock.properties'>, '_8': {'warning_pause': '1', 'state.OFF': 'OFF', 'debug': '0', 'default_remindAhead': '0', 'screen_flash_mode': '0111101111', 'format': '%Y-%m-%d %H:%M:%S %%8rep %%3warn %%3idx %%3state %%msg', 'taskbar_flash': '1', 'datafile': 'clocks.txt', 'alarm_interval': '300', 'show_msg': '1', 'default_sound': 'default', 'warn': '!!!', 'flash_format': '%Y-%m-%d %H:%M:%S %%msg', 'sound': '1', 'state.ON': 'ON', 'alarm_last': '30'}, '__spec__': None, '_47': {...}, '_i3': 'f.encoding', '__builtins__': <module 'builtins' (built-in)>, '_i48': 'for key in globals():\\n    print(key)', 'sys': <module 'sys' (built-in)>, '__loader__': None, '_i13': \"f=open('clock.properties', 'r', encoding='utf8')\", '_24': {'screen_flash_mode': '0111101111', 'format': '%Y-%m-%d %H:%M:%S %%8rep %%3warn %%3idx %%3state %%msg', 'alarm_interval': '300', 'show_msg': '1', 'warn': '!!!', 'flash_format': '%Y-%m-%d %H:%M:%S %%msg', 'sound': '1', 'state.ON': 'ON', 'warning_pause': '1', 'state.OFF': 'OFF', 'debug': '0', 'default_remindAhead': '0', 'taskbar_flash': '1', 'default_sound': 'default', 'datafile': 'clocks.txt', 'alarm_last': '30'}, 'exit': <IPython.core.autocall.ZMQExitAutocall object at 0x000000000583BDA0>, '_i12': 't', '_i26': \"s='t'\", '_i37': \"\\nwith open('clock.properties', 'rb') as file:\\n    for l in file:\\n        print(l)\", '_i10': 't', '_42': A({}), 'identifyKeyValue': <function identifyKeyValue at 0x00000000059E1510>, 'loadConvert': <function loadConvert at 0x00000000059E1598>, '_i42': 'A()', '_oh': {3: 'cp936', 5: '# 在配置出现问题等情况，在刷新页面前暂停以供查看\\n', 7: {'中': 'b'}, 8: {'warning_pause': '1', 'state.OFF': 'OFF', 'debug': '0', 'default_remindAhead': '0', 'screen_flash_mode': '0111101111', 'format': '%Y-%m-%d %H:%M:%S %%8rep %%3warn %%3idx %%3state %%msg', 'taskbar_flash': '1', 'datafile': 'clocks.txt', 'alarm_interval': '300', 'show_msg': '1', 'default_sound': 'default', 'warn': '!!!', 'flash_format': '%Y-%m-%d %H:%M:%S %%msg', 'sound': '1', 'state.ON': 'ON', 'alarm_last': '30'}, 10: {}, 12: {}, 15: {'warning_pause': '1', 'state.OFF': 'OFF', 'debug': '0', 'default_remindAhead': '0', 'screen_flash_mode': '0111101111', 'format': '%Y-%m-%d %H:%M:%S %%8rep %%3warn %%3idx %%3state %%msg', 'taskbar_flash': '1', 'datafile': 'clocks.txt', 'alarm_interval': '300', 'show_msg': '1', 'default_sound': 'default', 'warn': '!!!', 'flash_format': '%Y-%m-%d %H:%M:%S %%msg', 'sound': '1', 'state.ON': 'ON', 'alarm_last': '30'}, 17: '300', 19: <class 'str'>, 24: {'screen_flash_mode': '0111101111', 'format': '%Y-%m-%d %H:%M:%S %%8rep %%3warn %%3idx %%3state %%msg', 'alarm_interval': '300', 'show_msg': '1', 'warn': '!!!', 'flash_format': '%Y-%m-%d %H:%M:%S %%msg', 'sound': '1', 'state.ON': 'ON', 'warning_pause': '1', 'state.OFF': 'OFF', 'debug': '0', 'default_remindAhead': '0', 'taskbar_flash': '1', 'default_sound': 'default', 'datafile': 'clocks.txt', 'alarm_last': '30'}, 25: \"{'screen_flash_mode': '0111101111', 'format': '%Y-%m-%d %H:%M:%S %%8rep %%3warn %%3idx %%3state %%msg', 'alarm_interval': '300', 'show_msg': '1', 'warn': '!!!', 'flash_format': '%Y-%m-%d %H:%M:%S %%msg', 'sound': '1', 'state.ON': 'ON', 'warning_pause': '1', 'state.OFF': 'OFF', 'debug': '0', 'default_remindAhead': '0', 'taskbar_flash': '1', 'default_sound': 'default', 'datafile': 'clocks.txt', 'alarm_last': '30'}\", 28: True, 29: False, 32: b'', 33: b'', 34: False, 36: False, 38: 'a', 42: A({}), 43: A({}), 45: A({}), 46: <built-in function globals>, 47: {...}}, 'os': <module 'os' from 'C:\\\\Python34\\\\lib\\\\os.py'>, '_i21': 't=load(f)', '_34': False, '_i35': \"b'\\\\n' === '\\\\n'\", '_i2': 'f.readline()', 'config': {'screen_flash_mode': '0111101111', 'format': '%Y-%m-%d %H:%M:%S %%8rep %%3warn %%3idx %%3state %%msg', 'alarm_interval': '300', 'show_msg': '1', 'warn': '!!!', 'flash_format': '%Y-%m-%d %H:%M:%S %%msg', 'sound': '1', 'state.ON': 'ON', 'warning_pause': '1', 'state.OFF': 'OFF', 'debug': '0', 'default_remindAhead': '0', 'taskbar_flash': '1', 'default_sound': 'default', 'datafile': 'clocks.txt', 'alarm_last': '30'}, '__': <built-in function globals>, '_i7': \"load(['\\\\\\\\u4e2d b'])\", '_i36': \"b'\\\\n' == '\\\\n'\", '___': A({}), '_i9': 't=load(f)', '_7': {'中': 'b'}, '_i16': 't.alarm_interval', 'l': b'debug=0\\r\\n', '_43': A({}), '_19': <class 'str'>, 'loadSingle2': <function loadSingle2 at 0x00000000059E1488>, '__package__': None, '_i23': \"\\nwith open('clock.properties', 'r', encoding='utf8') as file:\\n    config.update(load(file))\", '_i50': 'a = globals()\\nfor key, v in a:\\n    print(key, v)', '_3': 'cp936', '_ih': ['', \"f=open('clock.properties', 'r')\", 'f.readline()', 'f.encoding', \"f=open('clock.properties', 'r', encoding='utf8')\", 'f.readline()', 'from sine.properties import *', \"load(['\\\\\\\\u4e2d b'])\", 'load(f)', 't=load(f)', 't', 't=load(f)', 't', \"f=open('clock.properties', 'r', encoding='utf8')\", 't=load(f)', 't', 't.alarm_interval', \"t['alarm_interval']\", \"tt=t['alarm_interval']\", 'type(tt)', \"f=open('clock.properties', 'r')\", 't=load(f)', 'config={}', \"\\nwith open('clock.properties', 'r', encoding='utf8') as file:\\n    config.update(load(file))\", 'config', 'str(config)', \"s='t'\", 's.decode', \"hasattr(s, 'encode')\", \"hasattr(s, 'decode')\", \"\\nwith open('clock.properties', 'r') as file:\\n    config.update(load(file))\", \"\\nwith open('clock.properties', 'rb') as file:\\n    config.update(load(file))\", \"b''\", \"b''.join('')\", \"b'\\\\n' == '\\\\n'\", \"b'\\\\n' === '\\\\n'\", \"b'\\\\n' == '\\\\n'\", \"\\nwith open('clock.properties', 'rb') as file:\\n    for l in file:\\n        print(l)\", \"u'a'\", \"b'\\\\n' +'\\\\n'\", \"'\\\\n' +b'\\\\n'\", \"class A(dict):\\n    def __repr__(self):\\n        return self.__class__.__name__ + '(' + dict.__repr__(self) + ')'\", 'A()', 'eval(repr(A()))', 'a=eval(repr(A()))', 'a', 'globals', 'globals()', 'for key in globals():\\n    print(key)', 'a = globals()\\nfor key in a:\\n    print(key)', 'a = globals()\\nfor key, v in a:\\n    print(key, v)', \"a = globals()\\nfor key, v in a:\\n    print(key + '=' + v)\", \"a = globals()\\nfor key in a:\\n    print(key + '=' + v)\", \"a = globals()\\nfor key,v in a.items():\\n    print(key + '=' + v)\", \"a = globals()\\nfor key,v in a.items():\\n    print(key + '=' + str(v))\"], '_i45': 'a', '_i22': 'config={}', '_i4': \"f=open('clock.properties', 'r', encoding='utf8')\", '_33': b'', '_i32': \"b''\", '_i28': \"hasattr(s, 'encode')\", '_29': False, 'store': <function store at 0x00000000059E1840>, '_i18': \"tt=t['alarm_interval']\", 'a': {...}, 'A': <class '__main__.A'>, '__name__': '__main__', '_i47': 'globals()', '_i38': \"u'a'\", '__doc__': 'Automatically created module for IPython interactive environment', 'Out': {3: 'cp936', 5: '# 在配置出现问题等情况，在刷新页面前暂停以供查看\\n', 7: {'中': 'b'}, 8: {'warning_pause': '1', 'state.OFF': 'OFF', 'debug': '0', 'default_remindAhead': '0', 'screen_flash_mode': '0111101111', 'format': '%Y-%m-%d %H:%M:%S %%8rep %%3warn %%3idx %%3state %%msg', 'taskbar_flash': '1', 'datafile': 'clocks.txt', 'alarm_interval': '300', 'show_msg': '1', 'default_sound': 'default', 'warn': '!!!', 'flash_format': '%Y-%m-%d %H:%M:%S %%msg', 'sound': '1', 'state.ON': 'ON', 'alarm_last': '30'}, 10: {}, 12: {}, 15: {'warning_pause': '1', 'state.OFF': 'OFF', 'debug': '0', 'default_remindAhead': '0', 'screen_flash_mode': '0111101111', 'format': '%Y-%m-%d %H:%M:%S %%8rep %%3warn %%3idx %%3state %%msg', 'taskbar_flash': '1', 'datafile': 'clocks.txt', 'alarm_interval': '300', 'show_msg': '1', 'default_sound': 'default', 'warn': '!!!', 'flash_format': '%Y-%m-%d %H:%M:%S %%msg', 'sound': '1', 'state.ON': 'ON', 'alarm_last': '30'}, 17: '300', 19: <class 'str'>, 24: {'screen_flash_mode': '0111101111', 'format': '%Y-%m-%d %H:%M:%S %%8rep %%3warn %%3idx %%3state %%msg', 'alarm_interval': '300', 'show_msg': '1', 'warn': '!!!', 'flash_format': '%Y-%m-%d %H:%M:%S %%msg', 'sound': '1', 'state.ON': 'ON', 'warning_pause': '1', 'state.OFF': 'OFF', 'debug': '0', 'default_remindAhead': '0', 'taskbar_flash': '1', 'default_sound': 'default', 'datafile': 'clocks.txt', 'alarm_last': '30'}, 25: \"{'screen_flash_mode': '0111101111', 'format': '%Y-%m-%d %H:%M:%S %%8rep %%3warn %%3idx %%3state %%msg', 'alarm_interval': '300', 'show_msg': '1', 'warn': '!!!', 'flash_format': '%Y-%m-%d %H:%M:%S %%msg', 'sound': '1', 'state.ON': 'ON', 'warning_pause': '1', 'state.OFF': 'OFF', 'debug': '0', 'default_remindAhead': '0', 'taskbar_flash': '1', 'default_sound': 'default', 'datafile': 'clocks.txt', 'alarm_last': '30'}\", 28: True, 29: False, 32: b'', 33: b'', 34: False, 36: False, 38: 'a', 42: A({}), 43: A({}), 45: A({}), 46: <built-in function globals>, 47: {...}}, 'LineReader': <class 'sine.properties.core.LineReader'>, 's': 't', '_i39': \"b'\\\\n' +'\\\\n'\", '_i46': 'globals', '_38': 'a', '_i44': 'a=eval(repr(A()))', '_dh': ['D:\\\\data\\\\python'], '_i54': \"a = globals()\\nfor key,v in a.items():\\n    print(key + '=' + str(v))\", 'xrange': <class 'range'>, '_45': A({}), 'f': <_io.TextIOWrapper name='clock.properties' mode='r' encoding='cp936'>, '_25': \"{'screen_flash_mode': '0111101111', 'format': '%Y-%m-%d %H:%M:%S %%8rep %%3warn %%3idx %%3state %%msg', 'alarm_interval': '300', 'show_msg': '1', 'warn': '!!!', 'flash_format': '%Y-%m-%d %H:%M:%S %%msg', 'sound': '1', 'state.ON': 'ON', 'warning_pause': '1', 'state.OFF': 'OFF', 'debug': '0', 'default_remindAhead': '0', 'taskbar_flash': '1', 'default_sound': 'default', 'datafile': 'clocks.txt', 'alarm_last': '30'}\", '_i17': \"t['alarm_interval']\", 're': <module 're' from 'C:\\\\Python34\\\\lib\\\\re.py'>, '_i30': \"\\nwith open('clock.properties', 'r') as file:\\n    config.update(load(file))\", '_': {...}, 'storeComments': <function storeComments at 0x00000000059E17B8>, 'load': <function load at 0x00000000059E1400>, '_i31': \"\\nwith open('clock.properties', 'rb') as file:\\n    config.update(load(file))\", '_i19': 'type(tt)', '_15': {'warning_pause': '1', 'state.OFF': 'OFF', 'debug': '0', 'default_remindAhead': '0', 'screen_flash_mode': '0111101111', 'format': '%Y-%m-%d %H:%M:%S %%8rep %%3warn %%3idx %%3state %%msg', 'taskbar_flash': '1', 'datafile': 'clocks.txt', 'alarm_interval': '300', 'show_msg': '1', 'default_sound': 'default', 'warn': '!!!', 'flash_format': '%Y-%m-%d %H:%M:%S %%msg', 'sound': '1', 'state.ON': 'ON', 'alarm_last': '30'}, 'storeConvert': <function storeConvert at 0x00000000059E1730>, '_i53': \"a = globals()\\nfor key,v in a.items():\\n    print(key + '=' + v)\", '_i6': 'from sine.properties import *', 'quit': <IPython.core.autocall.ZMQExitAutocall object at 0x000000000583BDA0>, '_i24': 'config', '_i25': 'str(config)', '_i49': 'a = globals()\\nfor key in a:\\n    print(key)', 'v': {...}, '_i51': \"a = globals()\\nfor key, v in a:\\n    print(key + '=' + v)\", '_i8': 'load(f)', '_ii': \"a = globals()\\nfor key in a:\\n    print(key + '=' + v)\", '_i41': \"class A(dict):\\n    def __repr__(self):\\n        return self.__class__.__name__ + '(' + dict.__repr__(self) + ')'\", 'NormalLineReader2': <class 'sine.properties.core.NormalLineReader2'>, '_32': b'', '_i5': 'f.readline()', 'loadSingle': <function loadSingle at 0x00000000059E1378>, '_5': '# 在配置出现问题等情况，在刷新页面前暂停以供查看\\n', '__builtin__': <module 'builtins' (built-in)>, '_i52': \"a = globals()\\nfor key in a:\\n    print(key + '=' + v)\", '_i11': 't=load(f)', 'get_ipython': <bound method ZMQInteractiveShell.get_ipython of <ipykernel.zmqshell.ZMQInteractiveShell object at 0x00000000058216A0>>, 'key': 'a', '_i20': \"f=open('clock.properties', 'r')\", '_i29': \"hasattr(s, 'decode')\", '_i43': 'eval(repr(A()))', 'In': ['', \"f=open('clock.properties', 'r')\", 'f.readline()', 'f.encoding', \"f=open('clock.properties', 'r', encoding='utf8')\", 'f.readline()', 'from sine.properties import *', \"load(['\\\\\\\\u4e2d b'])\", 'load(f)', 't=load(f)', 't', 't=load(f)', 't', \"f=open('clock.properties', 'r', encoding='utf8')\", 't=load(f)', 't', 't.alarm_interval', \"t['alarm_interval']\", \"tt=t['alarm_interval']\", 'type(tt)', \"f=open('clock.properties', 'r')\", 't=load(f)', 'config={}', \"\\nwith open('clock.properties', 'r', encoding='utf8') as file:\\n    config.update(load(file))\", 'config', 'str(config)', \"s='t'\", 's.decode', \"hasattr(s, 'encode')\", \"hasattr(s, 'decode')\", \"\\nwith open('clock.properties', 'r') as file:\\n    config.update(load(file))\", \"\\nwith open('clock.properties', 'rb') as file:\\n    config.update(load(file))\", \"b''\", \"b''.join('')\", \"b'\\\\n' == '\\\\n'\", \"b'\\\\n' === '\\\\n'\", \"b'\\\\n' == '\\\\n'\", \"\\nwith open('clock.properties', 'rb') as file:\\n    for l in file:\\n        print(l)\", \"u'a'\", \"b'\\\\n' +'\\\\n'\", \"'\\\\n' +b'\\\\n'\", \"class A(dict):\\n    def __repr__(self):\\n        return self.__class__.__name__ + '(' + dict.__repr__(self) + ')'\", 'A()', 'eval(repr(A()))', 'a=eval(repr(A()))', 'a', 'globals', 'globals()', 'for key in globals():\\n    print(key)', 'a = globals()\\nfor key in a:\\n    print(key)', 'a = globals()\\nfor key, v in a:\\n    print(key, v)', \"a = globals()\\nfor key, v in a:\\n    print(key + '=' + v)\", \"a = globals()\\nfor key in a:\\n    print(key + '=' + v)\", \"a = globals()\\nfor key,v in a.items():\\n    print(key + '=' + v)\", \"a = globals()\\nfor key,v in a.items():\\n    print(key + '=' + str(v))\"], '_i': \"a = globals()\\nfor key,v in a.items():\\n    print(key + '=' + v)\", '_17': '300', '_i15': 't', 'LineReader2': <class 'sine.properties.core.LineReader2'>, '_10': {}, '_i34': \"b'\\\\n' == '\\\\n'\", '_36': False, '_46': <built-in function globals>, 'loadConvert2': <function loadConvert2 at 0x00000000059E16A8>, '_iii': \"a = globals()\\nfor key, v in a:\\n    print(key + '=' + v)\", '_28': True, 'hasNext': <function hasNext at 0x00000000059E12F0>, 'Iterable': <class 'collections.abc.Iterable'>, '_i14': 't=load(f)', 'core': <module 'sine.properties.core' from 'C:\\\\Python34\\\\lib\\\\site-packages\\\\sine\\\\properties\\\\core.py'>, 'tt': '300', '_i1': \"f=open('clock.properties', 'r')\"}\n",
      "A=<class '__main__.A'>\n",
      "__name__=__main__\n",
      "_i47=globals()\n",
      "_i38=u'a'\n",
      "__doc__=Automatically created module for IPython interactive environment\n",
      "Out={3: 'cp936', 5: '# 在配置出现问题等情况，在刷新页面前暂停以供查看\\n', 7: {'中': 'b'}, 8: {'warning_pause': '1', 'state.OFF': 'OFF', 'debug': '0', 'default_remindAhead': '0', 'screen_flash_mode': '0111101111', 'format': '%Y-%m-%d %H:%M:%S %%8rep %%3warn %%3idx %%3state %%msg', 'taskbar_flash': '1', 'datafile': 'clocks.txt', 'alarm_interval': '300', 'show_msg': '1', 'default_sound': 'default', 'warn': '!!!', 'flash_format': '%Y-%m-%d %H:%M:%S %%msg', 'sound': '1', 'state.ON': 'ON', 'alarm_last': '30'}, 10: {}, 12: {}, 15: {'warning_pause': '1', 'state.OFF': 'OFF', 'debug': '0', 'default_remindAhead': '0', 'screen_flash_mode': '0111101111', 'format': '%Y-%m-%d %H:%M:%S %%8rep %%3warn %%3idx %%3state %%msg', 'taskbar_flash': '1', 'datafile': 'clocks.txt', 'alarm_interval': '300', 'show_msg': '1', 'default_sound': 'default', 'warn': '!!!', 'flash_format': '%Y-%m-%d %H:%M:%S %%msg', 'sound': '1', 'state.ON': 'ON', 'alarm_last': '30'}, 17: '300', 19: <class 'str'>, 24: {'screen_flash_mode': '0111101111', 'format': '%Y-%m-%d %H:%M:%S %%8rep %%3warn %%3idx %%3state %%msg', 'alarm_interval': '300', 'show_msg': '1', 'warn': '!!!', 'flash_format': '%Y-%m-%d %H:%M:%S %%msg', 'sound': '1', 'state.ON': 'ON', 'warning_pause': '1', 'state.OFF': 'OFF', 'debug': '0', 'default_remindAhead': '0', 'taskbar_flash': '1', 'default_sound': 'default', 'datafile': 'clocks.txt', 'alarm_last': '30'}, 25: \"{'screen_flash_mode': '0111101111', 'format': '%Y-%m-%d %H:%M:%S %%8rep %%3warn %%3idx %%3state %%msg', 'alarm_interval': '300', 'show_msg': '1', 'warn': '!!!', 'flash_format': '%Y-%m-%d %H:%M:%S %%msg', 'sound': '1', 'state.ON': 'ON', 'warning_pause': '1', 'state.OFF': 'OFF', 'debug': '0', 'default_remindAhead': '0', 'taskbar_flash': '1', 'default_sound': 'default', 'datafile': 'clocks.txt', 'alarm_last': '30'}\", 28: True, 29: False, 32: b'', 33: b'', 34: False, 36: False, 38: 'a', 42: A({}), 43: A({}), 45: A({}), 46: <built-in function globals>, 47: {'storeSingle': <function storeSingle at 0x00000000059E18C8>, 't': {'warning_pause': '1', 'state.OFF': 'OFF', 'debug': '0', 'default_remindAhead': '0', 'screen_flash_mode': '0111101111', 'format': '%Y-%m-%d %H:%M:%S %%8rep %%3warn %%3idx %%3state %%msg', 'taskbar_flash': '1', 'datafile': 'clocks.txt', 'alarm_interval': '300', 'show_msg': '1', 'default_sound': 'default', 'warn': '!!!', 'flash_format': '%Y-%m-%d %H:%M:%S %%msg', 'sound': '1', 'state.ON': 'ON', 'alarm_last': '30'}, '_i40': \"'\\\\n' +b'\\\\n'\", '_i27': 's.decode', '_i33': \"b''.join('')\", '_12': {}, 'file': <_io.BufferedReader name='clock.properties'>, '_8': {'warning_pause': '1', 'state.OFF': 'OFF', 'debug': '0', 'default_remindAhead': '0', 'screen_flash_mode': '0111101111', 'format': '%Y-%m-%d %H:%M:%S %%8rep %%3warn %%3idx %%3state %%msg', 'taskbar_flash': '1', 'datafile': 'clocks.txt', 'alarm_interval': '300', 'show_msg': '1', 'default_sound': 'default', 'warn': '!!!', 'flash_format': '%Y-%m-%d %H:%M:%S %%msg', 'sound': '1', 'state.ON': 'ON', 'alarm_last': '30'}, '__spec__': None, '_47': {...}, '_i3': 'f.encoding', '__builtins__': <module 'builtins' (built-in)>, '_i48': 'for key in globals():\\n    print(key)', 'sys': <module 'sys' (built-in)>, '__loader__': None, '_i13': \"f=open('clock.properties', 'r', encoding='utf8')\", '_24': {'screen_flash_mode': '0111101111', 'format': '%Y-%m-%d %H:%M:%S %%8rep %%3warn %%3idx %%3state %%msg', 'alarm_interval': '300', 'show_msg': '1', 'warn': '!!!', 'flash_format': '%Y-%m-%d %H:%M:%S %%msg', 'sound': '1', 'state.ON': 'ON', 'warning_pause': '1', 'state.OFF': 'OFF', 'debug': '0', 'default_remindAhead': '0', 'taskbar_flash': '1', 'default_sound': 'default', 'datafile': 'clocks.txt', 'alarm_last': '30'}, 'exit': <IPython.core.autocall.ZMQExitAutocall object at 0x000000000583BDA0>, '_i12': 't', '_i26': \"s='t'\", '_i37': \"\\nwith open('clock.properties', 'rb') as file:\\n    for l in file:\\n        print(l)\", '_i10': 't', '_42': A({}), 'identifyKeyValue': <function identifyKeyValue at 0x00000000059E1510>, 'loadConvert': <function loadConvert at 0x00000000059E1598>, '_i42': 'A()', '_oh': {...}, 'os': <module 'os' from 'C:\\\\Python34\\\\lib\\\\os.py'>, '_i21': 't=load(f)', '_34': False, '_i35': \"b'\\\\n' === '\\\\n'\", '_i2': 'f.readline()', 'config': {'screen_flash_mode': '0111101111', 'format': '%Y-%m-%d %H:%M:%S %%8rep %%3warn %%3idx %%3state %%msg', 'alarm_interval': '300', 'show_msg': '1', 'warn': '!!!', 'flash_format': '%Y-%m-%d %H:%M:%S %%msg', 'sound': '1', 'state.ON': 'ON', 'warning_pause': '1', 'state.OFF': 'OFF', 'debug': '0', 'default_remindAhead': '0', 'taskbar_flash': '1', 'default_sound': 'default', 'datafile': 'clocks.txt', 'alarm_last': '30'}, '__': <built-in function globals>, '_i7': \"load(['\\\\\\\\u4e2d b'])\", '_i36': \"b'\\\\n' == '\\\\n'\", '___': A({}), '_i9': 't=load(f)', '_7': {'中': 'b'}, '_i16': 't.alarm_interval', 'l': b'debug=0\\r\\n', '_43': A({}), '_19': <class 'str'>, 'loadSingle2': <function loadSingle2 at 0x00000000059E1488>, '__package__': None, '_i23': \"\\nwith open('clock.properties', 'r', encoding='utf8') as file:\\n    config.update(load(file))\", '_i50': 'a = globals()\\nfor key, v in a:\\n    print(key, v)', '_3': 'cp936', '_ih': ['', \"f=open('clock.properties', 'r')\", 'f.readline()', 'f.encoding', \"f=open('clock.properties', 'r', encoding='utf8')\", 'f.readline()', 'from sine.properties import *', \"load(['\\\\\\\\u4e2d b'])\", 'load(f)', 't=load(f)', 't', 't=load(f)', 't', \"f=open('clock.properties', 'r', encoding='utf8')\", 't=load(f)', 't', 't.alarm_interval', \"t['alarm_interval']\", \"tt=t['alarm_interval']\", 'type(tt)', \"f=open('clock.properties', 'r')\", 't=load(f)', 'config={}', \"\\nwith open('clock.properties', 'r', encoding='utf8') as file:\\n    config.update(load(file))\", 'config', 'str(config)', \"s='t'\", 's.decode', \"hasattr(s, 'encode')\", \"hasattr(s, 'decode')\", \"\\nwith open('clock.properties', 'r') as file:\\n    config.update(load(file))\", \"\\nwith open('clock.properties', 'rb') as file:\\n    config.update(load(file))\", \"b''\", \"b''.join('')\", \"b'\\\\n' == '\\\\n'\", \"b'\\\\n' === '\\\\n'\", \"b'\\\\n' == '\\\\n'\", \"\\nwith open('clock.properties', 'rb') as file:\\n    for l in file:\\n        print(l)\", \"u'a'\", \"b'\\\\n' +'\\\\n'\", \"'\\\\n' +b'\\\\n'\", \"class A(dict):\\n    def __repr__(self):\\n        return self.__class__.__name__ + '(' + dict.__repr__(self) + ')'\", 'A()', 'eval(repr(A()))', 'a=eval(repr(A()))', 'a', 'globals', 'globals()', 'for key in globals():\\n    print(key)', 'a = globals()\\nfor key in a:\\n    print(key)', 'a = globals()\\nfor key, v in a:\\n    print(key, v)', \"a = globals()\\nfor key, v in a:\\n    print(key + '=' + v)\", \"a = globals()\\nfor key in a:\\n    print(key + '=' + v)\", \"a = globals()\\nfor key,v in a.items():\\n    print(key + '=' + v)\", \"a = globals()\\nfor key,v in a.items():\\n    print(key + '=' + str(v))\"], '_i45': 'a', '_i22': 'config={}', '_i4': \"f=open('clock.properties', 'r', encoding='utf8')\", '_33': b'', '_i32': \"b''\", '_i28': \"hasattr(s, 'encode')\", '_29': False, 'store': <function store at 0x00000000059E1840>, '_i18': \"tt=t['alarm_interval']\", 'a': {...}, 'A': <class '__main__.A'>, '__name__': '__main__', '_i47': 'globals()', '_i38': \"u'a'\", '__doc__': 'Automatically created module for IPython interactive environment', 'Out': {...}, 'LineReader': <class 'sine.properties.core.LineReader'>, 's': 't', '_i39': \"b'\\\\n' +'\\\\n'\", '_i46': 'globals', '_38': 'a', '_i44': 'a=eval(repr(A()))', '_dh': ['D:\\\\data\\\\python'], '_i54': \"a = globals()\\nfor key,v in a.items():\\n    print(key + '=' + str(v))\", 'xrange': <class 'range'>, '_45': A({}), 'f': <_io.TextIOWrapper name='clock.properties' mode='r' encoding='cp936'>, '_25': \"{'screen_flash_mode': '0111101111', 'format': '%Y-%m-%d %H:%M:%S %%8rep %%3warn %%3idx %%3state %%msg', 'alarm_interval': '300', 'show_msg': '1', 'warn': '!!!', 'flash_format': '%Y-%m-%d %H:%M:%S %%msg', 'sound': '1', 'state.ON': 'ON', 'warning_pause': '1', 'state.OFF': 'OFF', 'debug': '0', 'default_remindAhead': '0', 'taskbar_flash': '1', 'default_sound': 'default', 'datafile': 'clocks.txt', 'alarm_last': '30'}\", '_i17': \"t['alarm_interval']\", 're': <module 're' from 'C:\\\\Python34\\\\lib\\\\re.py'>, '_i30': \"\\nwith open('clock.properties', 'r') as file:\\n    config.update(load(file))\", '_': {...}, 'storeComments': <function storeComments at 0x00000000059E17B8>, 'load': <function load at 0x00000000059E1400>, '_i31': \"\\nwith open('clock.properties', 'rb') as file:\\n    config.update(load(file))\", '_i19': 'type(tt)', '_15': {'warning_pause': '1', 'state.OFF': 'OFF', 'debug': '0', 'default_remindAhead': '0', 'screen_flash_mode': '0111101111', 'format': '%Y-%m-%d %H:%M:%S %%8rep %%3warn %%3idx %%3state %%msg', 'taskbar_flash': '1', 'datafile': 'clocks.txt', 'alarm_interval': '300', 'show_msg': '1', 'default_sound': 'default', 'warn': '!!!', 'flash_format': '%Y-%m-%d %H:%M:%S %%msg', 'sound': '1', 'state.ON': 'ON', 'alarm_last': '30'}, 'storeConvert': <function storeConvert at 0x00000000059E1730>, '_i53': \"a = globals()\\nfor key,v in a.items():\\n    print(key + '=' + v)\", '_i6': 'from sine.properties import *', 'quit': <IPython.core.autocall.ZMQExitAutocall object at 0x000000000583BDA0>, '_i24': 'config', '_i25': 'str(config)', '_i49': 'a = globals()\\nfor key in a:\\n    print(key)', 'v': {...}, '_i51': \"a = globals()\\nfor key, v in a:\\n    print(key + '=' + v)\", '_i8': 'load(f)', '_ii': \"a = globals()\\nfor key in a:\\n    print(key + '=' + v)\", '_i41': \"class A(dict):\\n    def __repr__(self):\\n        return self.__class__.__name__ + '(' + dict.__repr__(self) + ')'\", 'NormalLineReader2': <class 'sine.properties.core.NormalLineReader2'>, '_32': b'', '_i5': 'f.readline()', 'loadSingle': <function loadSingle at 0x00000000059E1378>, '_5': '# 在配置出现问题等情况，在刷新页面前暂停以供查看\\n', '__builtin__': <module 'builtins' (built-in)>, '_i52': \"a = globals()\\nfor key in a:\\n    print(key + '=' + v)\", '_i11': 't=load(f)', 'get_ipython': <bound method ZMQInteractiveShell.get_ipython of <ipykernel.zmqshell.ZMQInteractiveShell object at 0x00000000058216A0>>, 'key': 'Out', '_i20': \"f=open('clock.properties', 'r')\", '_i29': \"hasattr(s, 'decode')\", '_i43': 'eval(repr(A()))', 'In': ['', \"f=open('clock.properties', 'r')\", 'f.readline()', 'f.encoding', \"f=open('clock.properties', 'r', encoding='utf8')\", 'f.readline()', 'from sine.properties import *', \"load(['\\\\\\\\u4e2d b'])\", 'load(f)', 't=load(f)', 't', 't=load(f)', 't', \"f=open('clock.properties', 'r', encoding='utf8')\", 't=load(f)', 't', 't.alarm_interval', \"t['alarm_interval']\", \"tt=t['alarm_interval']\", 'type(tt)', \"f=open('clock.properties', 'r')\", 't=load(f)', 'config={}', \"\\nwith open('clock.properties', 'r', encoding='utf8') as file:\\n    config.update(load(file))\", 'config', 'str(config)', \"s='t'\", 's.decode', \"hasattr(s, 'encode')\", \"hasattr(s, 'decode')\", \"\\nwith open('clock.properties', 'r') as file:\\n    config.update(load(file))\", \"\\nwith open('clock.properties', 'rb') as file:\\n    config.update(load(file))\", \"b''\", \"b''.join('')\", \"b'\\\\n' == '\\\\n'\", \"b'\\\\n' === '\\\\n'\", \"b'\\\\n' == '\\\\n'\", \"\\nwith open('clock.properties', 'rb') as file:\\n    for l in file:\\n        print(l)\", \"u'a'\", \"b'\\\\n' +'\\\\n'\", \"'\\\\n' +b'\\\\n'\", \"class A(dict):\\n    def __repr__(self):\\n        return self.__class__.__name__ + '(' + dict.__repr__(self) + ')'\", 'A()', 'eval(repr(A()))', 'a=eval(repr(A()))', 'a', 'globals', 'globals()', 'for key in globals():\\n    print(key)', 'a = globals()\\nfor key in a:\\n    print(key)', 'a = globals()\\nfor key, v in a:\\n    print(key, v)', \"a = globals()\\nfor key, v in a:\\n    print(key + '=' + v)\", \"a = globals()\\nfor key in a:\\n    print(key + '=' + v)\", \"a = globals()\\nfor key,v in a.items():\\n    print(key + '=' + v)\", \"a = globals()\\nfor key,v in a.items():\\n    print(key + '=' + str(v))\"], '_i': \"a = globals()\\nfor key,v in a.items():\\n    print(key + '=' + v)\", '_17': '300', '_i15': 't', 'LineReader2': <class 'sine.properties.core.LineReader2'>, '_10': {}, '_i34': \"b'\\\\n' == '\\\\n'\", '_36': False, '_46': <built-in function globals>, 'loadConvert2': <function loadConvert2 at 0x00000000059E16A8>, '_iii': \"a = globals()\\nfor key, v in a:\\n    print(key + '=' + v)\", '_28': True, 'hasNext': <function hasNext at 0x00000000059E12F0>, 'Iterable': <class 'collections.abc.Iterable'>, '_i14': 't=load(f)', 'core': <module 'sine.properties.core' from 'C:\\\\Python34\\\\lib\\\\site-packages\\\\sine\\\\properties\\\\core.py'>, 'tt': '300', '_i1': \"f=open('clock.properties', 'r')\"}}\n",
      "LineReader=<class 'sine.properties.core.LineReader'>\n",
      "s=t\n",
      "_i39=b'\\n' +'\\n'\n",
      "_i46=globals\n",
      "_38=a\n",
      "_i44=a=eval(repr(A()))\n",
      "_dh=['D:\\\\data\\\\python']\n",
      "_i54=a = globals()\n",
      "for key,v in a.items():\n",
      "    print(key + '=' + str(v))\n",
      "xrange=<class 'range'>\n",
      "_45=A({})\n",
      "f=<_io.TextIOWrapper name='clock.properties' mode='r' encoding='cp936'>\n",
      "_25={'screen_flash_mode': '0111101111', 'format': '%Y-%m-%d %H:%M:%S %%8rep %%3warn %%3idx %%3state %%msg', 'alarm_interval': '300', 'show_msg': '1', 'warn': '!!!', 'flash_format': '%Y-%m-%d %H:%M:%S %%msg', 'sound': '1', 'state.ON': 'ON', 'warning_pause': '1', 'state.OFF': 'OFF', 'debug': '0', 'default_remindAhead': '0', 'taskbar_flash': '1', 'default_sound': 'default', 'datafile': 'clocks.txt', 'alarm_last': '30'}\n",
      "_i17=t['alarm_interval']\n",
      "re=<module 're' from 'C:\\\\Python34\\\\lib\\\\re.py'>\n",
      "_i30=\n",
      "with open('clock.properties', 'r') as file:\n",
      "    config.update(load(file))\n",
      "_={'storeSingle': <function storeSingle at 0x00000000059E18C8>, 't': {'warning_pause': '1', 'state.OFF': 'OFF', 'debug': '0', 'default_remindAhead': '0', 'screen_flash_mode': '0111101111', 'format': '%Y-%m-%d %H:%M:%S %%8rep %%3warn %%3idx %%3state %%msg', 'taskbar_flash': '1', 'datafile': 'clocks.txt', 'alarm_interval': '300', 'show_msg': '1', 'default_sound': 'default', 'warn': '!!!', 'flash_format': '%Y-%m-%d %H:%M:%S %%msg', 'sound': '1', 'state.ON': 'ON', 'alarm_last': '30'}, '_i40': \"'\\\\n' +b'\\\\n'\", '_i27': 's.decode', '_i33': \"b''.join('')\", '_12': {}, 'file': <_io.BufferedReader name='clock.properties'>, '_8': {'warning_pause': '1', 'state.OFF': 'OFF', 'debug': '0', 'default_remindAhead': '0', 'screen_flash_mode': '0111101111', 'format': '%Y-%m-%d %H:%M:%S %%8rep %%3warn %%3idx %%3state %%msg', 'taskbar_flash': '1', 'datafile': 'clocks.txt', 'alarm_interval': '300', 'show_msg': '1', 'default_sound': 'default', 'warn': '!!!', 'flash_format': '%Y-%m-%d %H:%M:%S %%msg', 'sound': '1', 'state.ON': 'ON', 'alarm_last': '30'}, '__spec__': None, '_47': {...}, '_i3': 'f.encoding', '__builtins__': <module 'builtins' (built-in)>, '_i48': 'for key in globals():\\n    print(key)', 'sys': <module 'sys' (built-in)>, '__loader__': None, '_i13': \"f=open('clock.properties', 'r', encoding='utf8')\", '_24': {'screen_flash_mode': '0111101111', 'format': '%Y-%m-%d %H:%M:%S %%8rep %%3warn %%3idx %%3state %%msg', 'alarm_interval': '300', 'show_msg': '1', 'warn': '!!!', 'flash_format': '%Y-%m-%d %H:%M:%S %%msg', 'sound': '1', 'state.ON': 'ON', 'warning_pause': '1', 'state.OFF': 'OFF', 'debug': '0', 'default_remindAhead': '0', 'taskbar_flash': '1', 'default_sound': 'default', 'datafile': 'clocks.txt', 'alarm_last': '30'}, 'exit': <IPython.core.autocall.ZMQExitAutocall object at 0x000000000583BDA0>, '_i12': 't', '_i26': \"s='t'\", '_i37': \"\\nwith open('clock.properties', 'rb') as file:\\n    for l in file:\\n        print(l)\", '_i10': 't', '_42': A({}), 'identifyKeyValue': <function identifyKeyValue at 0x00000000059E1510>, 'loadConvert': <function loadConvert at 0x00000000059E1598>, '_i42': 'A()', '_oh': {3: 'cp936', 5: '# 在配置出现问题等情况，在刷新页面前暂停以供查看\\n', 7: {'中': 'b'}, 8: {'warning_pause': '1', 'state.OFF': 'OFF', 'debug': '0', 'default_remindAhead': '0', 'screen_flash_mode': '0111101111', 'format': '%Y-%m-%d %H:%M:%S %%8rep %%3warn %%3idx %%3state %%msg', 'taskbar_flash': '1', 'datafile': 'clocks.txt', 'alarm_interval': '300', 'show_msg': '1', 'default_sound': 'default', 'warn': '!!!', 'flash_format': '%Y-%m-%d %H:%M:%S %%msg', 'sound': '1', 'state.ON': 'ON', 'alarm_last': '30'}, 10: {}, 12: {}, 15: {'warning_pause': '1', 'state.OFF': 'OFF', 'debug': '0', 'default_remindAhead': '0', 'screen_flash_mode': '0111101111', 'format': '%Y-%m-%d %H:%M:%S %%8rep %%3warn %%3idx %%3state %%msg', 'taskbar_flash': '1', 'datafile': 'clocks.txt', 'alarm_interval': '300', 'show_msg': '1', 'default_sound': 'default', 'warn': '!!!', 'flash_format': '%Y-%m-%d %H:%M:%S %%msg', 'sound': '1', 'state.ON': 'ON', 'alarm_last': '30'}, 17: '300', 19: <class 'str'>, 24: {'screen_flash_mode': '0111101111', 'format': '%Y-%m-%d %H:%M:%S %%8rep %%3warn %%3idx %%3state %%msg', 'alarm_interval': '300', 'show_msg': '1', 'warn': '!!!', 'flash_format': '%Y-%m-%d %H:%M:%S %%msg', 'sound': '1', 'state.ON': 'ON', 'warning_pause': '1', 'state.OFF': 'OFF', 'debug': '0', 'default_remindAhead': '0', 'taskbar_flash': '1', 'default_sound': 'default', 'datafile': 'clocks.txt', 'alarm_last': '30'}, 25: \"{'screen_flash_mode': '0111101111', 'format': '%Y-%m-%d %H:%M:%S %%8rep %%3warn %%3idx %%3state %%msg', 'alarm_interval': '300', 'show_msg': '1', 'warn': '!!!', 'flash_format': '%Y-%m-%d %H:%M:%S %%msg', 'sound': '1', 'state.ON': 'ON', 'warning_pause': '1', 'state.OFF': 'OFF', 'debug': '0', 'default_remindAhead': '0', 'taskbar_flash': '1', 'default_sound': 'default', 'datafile': 'clocks.txt', 'alarm_last': '30'}\", 28: True, 29: False, 32: b'', 33: b'', 34: False, 36: False, 38: 'a', 42: A({}), 43: A({}), 45: A({}), 46: <built-in function globals>, 47: {...}}, 'os': <module 'os' from 'C:\\\\Python34\\\\lib\\\\os.py'>, '_i21': 't=load(f)', '_34': False, '_i35': \"b'\\\\n' === '\\\\n'\", '_i2': 'f.readline()', 'config': {'screen_flash_mode': '0111101111', 'format': '%Y-%m-%d %H:%M:%S %%8rep %%3warn %%3idx %%3state %%msg', 'alarm_interval': '300', 'show_msg': '1', 'warn': '!!!', 'flash_format': '%Y-%m-%d %H:%M:%S %%msg', 'sound': '1', 'state.ON': 'ON', 'warning_pause': '1', 'state.OFF': 'OFF', 'debug': '0', 'default_remindAhead': '0', 'taskbar_flash': '1', 'default_sound': 'default', 'datafile': 'clocks.txt', 'alarm_last': '30'}, '__': <built-in function globals>, '_i7': \"load(['\\\\\\\\u4e2d b'])\", '_i36': \"b'\\\\n' == '\\\\n'\", '___': A({}), '_i9': 't=load(f)', '_7': {'中': 'b'}, '_i16': 't.alarm_interval', 'l': b'debug=0\\r\\n', '_43': A({}), '_19': <class 'str'>, 'loadSingle2': <function loadSingle2 at 0x00000000059E1488>, '__package__': None, '_i23': \"\\nwith open('clock.properties', 'r', encoding='utf8') as file:\\n    config.update(load(file))\", '_i50': 'a = globals()\\nfor key, v in a:\\n    print(key, v)', '_3': 'cp936', '_ih': ['', \"f=open('clock.properties', 'r')\", 'f.readline()', 'f.encoding', \"f=open('clock.properties', 'r', encoding='utf8')\", 'f.readline()', 'from sine.properties import *', \"load(['\\\\\\\\u4e2d b'])\", 'load(f)', 't=load(f)', 't', 't=load(f)', 't', \"f=open('clock.properties', 'r', encoding='utf8')\", 't=load(f)', 't', 't.alarm_interval', \"t['alarm_interval']\", \"tt=t['alarm_interval']\", 'type(tt)', \"f=open('clock.properties', 'r')\", 't=load(f)', 'config={}', \"\\nwith open('clock.properties', 'r', encoding='utf8') as file:\\n    config.update(load(file))\", 'config', 'str(config)', \"s='t'\", 's.decode', \"hasattr(s, 'encode')\", \"hasattr(s, 'decode')\", \"\\nwith open('clock.properties', 'r') as file:\\n    config.update(load(file))\", \"\\nwith open('clock.properties', 'rb') as file:\\n    config.update(load(file))\", \"b''\", \"b''.join('')\", \"b'\\\\n' == '\\\\n'\", \"b'\\\\n' === '\\\\n'\", \"b'\\\\n' == '\\\\n'\", \"\\nwith open('clock.properties', 'rb') as file:\\n    for l in file:\\n        print(l)\", \"u'a'\", \"b'\\\\n' +'\\\\n'\", \"'\\\\n' +b'\\\\n'\", \"class A(dict):\\n    def __repr__(self):\\n        return self.__class__.__name__ + '(' + dict.__repr__(self) + ')'\", 'A()', 'eval(repr(A()))', 'a=eval(repr(A()))', 'a', 'globals', 'globals()', 'for key in globals():\\n    print(key)', 'a = globals()\\nfor key in a:\\n    print(key)', 'a = globals()\\nfor key, v in a:\\n    print(key, v)', \"a = globals()\\nfor key, v in a:\\n    print(key + '=' + v)\", \"a = globals()\\nfor key in a:\\n    print(key + '=' + v)\", \"a = globals()\\nfor key,v in a.items():\\n    print(key + '=' + v)\", \"a = globals()\\nfor key,v in a.items():\\n    print(key + '=' + str(v))\"], '_i45': 'a', '_i22': 'config={}', '_i4': \"f=open('clock.properties', 'r', encoding='utf8')\", '_33': b'', '_i32': \"b''\", '_i28': \"hasattr(s, 'encode')\", '_29': False, 'store': <function store at 0x00000000059E1840>, '_i18': \"tt=t['alarm_interval']\", 'a': {...}, 'A': <class '__main__.A'>, '__name__': '__main__', '_i47': 'globals()', '_i38': \"u'a'\", '__doc__': 'Automatically created module for IPython interactive environment', 'Out': {3: 'cp936', 5: '# 在配置出现问题等情况，在刷新页面前暂停以供查看\\n', 7: {'中': 'b'}, 8: {'warning_pause': '1', 'state.OFF': 'OFF', 'debug': '0', 'default_remindAhead': '0', 'screen_flash_mode': '0111101111', 'format': '%Y-%m-%d %H:%M:%S %%8rep %%3warn %%3idx %%3state %%msg', 'taskbar_flash': '1', 'datafile': 'clocks.txt', 'alarm_interval': '300', 'show_msg': '1', 'default_sound': 'default', 'warn': '!!!', 'flash_format': '%Y-%m-%d %H:%M:%S %%msg', 'sound': '1', 'state.ON': 'ON', 'alarm_last': '30'}, 10: {}, 12: {}, 15: {'warning_pause': '1', 'state.OFF': 'OFF', 'debug': '0', 'default_remindAhead': '0', 'screen_flash_mode': '0111101111', 'format': '%Y-%m-%d %H:%M:%S %%8rep %%3warn %%3idx %%3state %%msg', 'taskbar_flash': '1', 'datafile': 'clocks.txt', 'alarm_interval': '300', 'show_msg': '1', 'default_sound': 'default', 'warn': '!!!', 'flash_format': '%Y-%m-%d %H:%M:%S %%msg', 'sound': '1', 'state.ON': 'ON', 'alarm_last': '30'}, 17: '300', 19: <class 'str'>, 24: {'screen_flash_mode': '0111101111', 'format': '%Y-%m-%d %H:%M:%S %%8rep %%3warn %%3idx %%3state %%msg', 'alarm_interval': '300', 'show_msg': '1', 'warn': '!!!', 'flash_format': '%Y-%m-%d %H:%M:%S %%msg', 'sound': '1', 'state.ON': 'ON', 'warning_pause': '1', 'state.OFF': 'OFF', 'debug': '0', 'default_remindAhead': '0', 'taskbar_flash': '1', 'default_sound': 'default', 'datafile': 'clocks.txt', 'alarm_last': '30'}, 25: \"{'screen_flash_mode': '0111101111', 'format': '%Y-%m-%d %H:%M:%S %%8rep %%3warn %%3idx %%3state %%msg', 'alarm_interval': '300', 'show_msg': '1', 'warn': '!!!', 'flash_format': '%Y-%m-%d %H:%M:%S %%msg', 'sound': '1', 'state.ON': 'ON', 'warning_pause': '1', 'state.OFF': 'OFF', 'debug': '0', 'default_remindAhead': '0', 'taskbar_flash': '1', 'default_sound': 'default', 'datafile': 'clocks.txt', 'alarm_last': '30'}\", 28: True, 29: False, 32: b'', 33: b'', 34: False, 36: False, 38: 'a', 42: A({}), 43: A({}), 45: A({}), 46: <built-in function globals>, 47: {...}}, 'LineReader': <class 'sine.properties.core.LineReader'>, 's': 't', '_i39': \"b'\\\\n' +'\\\\n'\", '_i46': 'globals', '_38': 'a', '_i44': 'a=eval(repr(A()))', '_dh': ['D:\\\\data\\\\python'], '_i54': \"a = globals()\\nfor key,v in a.items():\\n    print(key + '=' + str(v))\", 'xrange': <class 'range'>, '_45': A({}), 'f': <_io.TextIOWrapper name='clock.properties' mode='r' encoding='cp936'>, '_25': \"{'screen_flash_mode': '0111101111', 'format': '%Y-%m-%d %H:%M:%S %%8rep %%3warn %%3idx %%3state %%msg', 'alarm_interval': '300', 'show_msg': '1', 'warn': '!!!', 'flash_format': '%Y-%m-%d %H:%M:%S %%msg', 'sound': '1', 'state.ON': 'ON', 'warning_pause': '1', 'state.OFF': 'OFF', 'debug': '0', 'default_remindAhead': '0', 'taskbar_flash': '1', 'default_sound': 'default', 'datafile': 'clocks.txt', 'alarm_last': '30'}\", '_i17': \"t['alarm_interval']\", 're': <module 're' from 'C:\\\\Python34\\\\lib\\\\re.py'>, '_i30': \"\\nwith open('clock.properties', 'r') as file:\\n    config.update(load(file))\", '_': {...}, 'storeComments': <function storeComments at 0x00000000059E17B8>, 'load': <function load at 0x00000000059E1400>, '_i31': \"\\nwith open('clock.properties', 'rb') as file:\\n    config.update(load(file))\", '_i19': 'type(tt)', '_15': {'warning_pause': '1', 'state.OFF': 'OFF', 'debug': '0', 'default_remindAhead': '0', 'screen_flash_mode': '0111101111', 'format': '%Y-%m-%d %H:%M:%S %%8rep %%3warn %%3idx %%3state %%msg', 'taskbar_flash': '1', 'datafile': 'clocks.txt', 'alarm_interval': '300', 'show_msg': '1', 'default_sound': 'default', 'warn': '!!!', 'flash_format': '%Y-%m-%d %H:%M:%S %%msg', 'sound': '1', 'state.ON': 'ON', 'alarm_last': '30'}, 'storeConvert': <function storeConvert at 0x00000000059E1730>, '_i53': \"a = globals()\\nfor key,v in a.items():\\n    print(key + '=' + v)\", '_i6': 'from sine.properties import *', 'quit': <IPython.core.autocall.ZMQExitAutocall object at 0x000000000583BDA0>, '_i24': 'config', '_i25': 'str(config)', '_i49': 'a = globals()\\nfor key in a:\\n    print(key)', 'v': {...}, '_i51': \"a = globals()\\nfor key, v in a:\\n    print(key + '=' + v)\", '_i8': 'load(f)', '_ii': \"a = globals()\\nfor key in a:\\n    print(key + '=' + v)\", '_i41': \"class A(dict):\\n    def __repr__(self):\\n        return self.__class__.__name__ + '(' + dict.__repr__(self) + ')'\", 'NormalLineReader2': <class 'sine.properties.core.NormalLineReader2'>, '_32': b'', '_i5': 'f.readline()', 'loadSingle': <function loadSingle at 0x00000000059E1378>, '_5': '# 在配置出现问题等情况，在刷新页面前暂停以供查看\\n', '__builtin__': <module 'builtins' (built-in)>, '_i52': \"a = globals()\\nfor key in a:\\n    print(key + '=' + v)\", '_i11': 't=load(f)', 'get_ipython': <bound method ZMQInteractiveShell.get_ipython of <ipykernel.zmqshell.ZMQInteractiveShell object at 0x00000000058216A0>>, 'key': '_', '_i20': \"f=open('clock.properties', 'r')\", '_i29': \"hasattr(s, 'decode')\", '_i43': 'eval(repr(A()))', 'In': ['', \"f=open('clock.properties', 'r')\", 'f.readline()', 'f.encoding', \"f=open('clock.properties', 'r', encoding='utf8')\", 'f.readline()', 'from sine.properties import *', \"load(['\\\\\\\\u4e2d b'])\", 'load(f)', 't=load(f)', 't', 't=load(f)', 't', \"f=open('clock.properties', 'r', encoding='utf8')\", 't=load(f)', 't', 't.alarm_interval', \"t['alarm_interval']\", \"tt=t['alarm_interval']\", 'type(tt)', \"f=open('clock.properties', 'r')\", 't=load(f)', 'config={}', \"\\nwith open('clock.properties', 'r', encoding='utf8') as file:\\n    config.update(load(file))\", 'config', 'str(config)', \"s='t'\", 's.decode', \"hasattr(s, 'encode')\", \"hasattr(s, 'decode')\", \"\\nwith open('clock.properties', 'r') as file:\\n    config.update(load(file))\", \"\\nwith open('clock.properties', 'rb') as file:\\n    config.update(load(file))\", \"b''\", \"b''.join('')\", \"b'\\\\n' == '\\\\n'\", \"b'\\\\n' === '\\\\n'\", \"b'\\\\n' == '\\\\n'\", \"\\nwith open('clock.properties', 'rb') as file:\\n    for l in file:\\n        print(l)\", \"u'a'\", \"b'\\\\n' +'\\\\n'\", \"'\\\\n' +b'\\\\n'\", \"class A(dict):\\n    def __repr__(self):\\n        return self.__class__.__name__ + '(' + dict.__repr__(self) + ')'\", 'A()', 'eval(repr(A()))', 'a=eval(repr(A()))', 'a', 'globals', 'globals()', 'for key in globals():\\n    print(key)', 'a = globals()\\nfor key in a:\\n    print(key)', 'a = globals()\\nfor key, v in a:\\n    print(key, v)', \"a = globals()\\nfor key, v in a:\\n    print(key + '=' + v)\", \"a = globals()\\nfor key in a:\\n    print(key + '=' + v)\", \"a = globals()\\nfor key,v in a.items():\\n    print(key + '=' + v)\", \"a = globals()\\nfor key,v in a.items():\\n    print(key + '=' + str(v))\"], '_i': \"a = globals()\\nfor key,v in a.items():\\n    print(key + '=' + v)\", '_17': '300', '_i15': 't', 'LineReader2': <class 'sine.properties.core.LineReader2'>, '_10': {}, '_i34': \"b'\\\\n' == '\\\\n'\", '_36': False, '_46': <built-in function globals>, 'loadConvert2': <function loadConvert2 at 0x00000000059E16A8>, '_iii': \"a = globals()\\nfor key, v in a:\\n    print(key + '=' + v)\", '_28': True, 'hasNext': <function hasNext at 0x00000000059E12F0>, 'Iterable': <class 'collections.abc.Iterable'>, '_i14': 't=load(f)', 'core': <module 'sine.properties.core' from 'C:\\\\Python34\\\\lib\\\\site-packages\\\\sine\\\\properties\\\\core.py'>, 'tt': '300', '_i1': \"f=open('clock.properties', 'r')\"}\n",
      "storeComments=<function storeComments at 0x00000000059E17B8>\n",
      "load=<function load at 0x00000000059E1400>\n",
      "_i31=\n",
      "with open('clock.properties', 'rb') as file:\n",
      "    config.update(load(file))\n",
      "_i19=type(tt)\n",
      "_15={'warning_pause': '1', 'state.OFF': 'OFF', 'debug': '0', 'default_remindAhead': '0', 'screen_flash_mode': '0111101111', 'format': '%Y-%m-%d %H:%M:%S %%8rep %%3warn %%3idx %%3state %%msg', 'taskbar_flash': '1', 'datafile': 'clocks.txt', 'alarm_interval': '300', 'show_msg': '1', 'default_sound': 'default', 'warn': '!!!', 'flash_format': '%Y-%m-%d %H:%M:%S %%msg', 'sound': '1', 'state.ON': 'ON', 'alarm_last': '30'}\n",
      "storeConvert=<function storeConvert at 0x00000000059E1730>\n",
      "_i53=a = globals()\n",
      "for key,v in a.items():\n",
      "    print(key + '=' + v)\n",
      "_i6=from sine.properties import *\n",
      "quit=<IPython.core.autocall.ZMQExitAutocall object at 0x000000000583BDA0>\n",
      "_i24=config\n",
      "_i25=str(config)\n",
      "_i49=a = globals()\n",
      "for key in a:\n",
      "    print(key)\n",
      "v=a = globals()\n",
      "for key in a:\n",
      "    print(key)\n",
      "_i51=a = globals()\n",
      "for key, v in a:\n",
      "    print(key + '=' + v)\n",
      "_i8=load(f)\n",
      "_ii=a = globals()\n",
      "for key in a:\n",
      "    print(key + '=' + v)\n",
      "_i41=class A(dict):\n",
      "    def __repr__(self):\n",
      "        return self.__class__.__name__ + '(' + dict.__repr__(self) + ')'\n",
      "NormalLineReader2=<class 'sine.properties.core.NormalLineReader2'>\n",
      "_32=b''\n",
      "_i5=f.readline()\n",
      "loadSingle=<function loadSingle at 0x00000000059E1378>\n",
      "_5=# 在配置出现问题等情况，在刷新页面前暂停以供查看\n",
      "\n",
      "__builtin__=<module 'builtins' (built-in)>\n",
      "_i52=a = globals()\n",
      "for key in a:\n",
      "    print(key + '=' + v)\n",
      "_i11=t=load(f)\n",
      "get_ipython=<bound method ZMQInteractiveShell.get_ipython of <ipykernel.zmqshell.ZMQInteractiveShell object at 0x00000000058216A0>>\n",
      "key=get_ipython\n",
      "_i20=f=open('clock.properties', 'r')\n",
      "_i29=hasattr(s, 'decode')\n",
      "_i43=eval(repr(A()))\n",
      "In=['', \"f=open('clock.properties', 'r')\", 'f.readline()', 'f.encoding', \"f=open('clock.properties', 'r', encoding='utf8')\", 'f.readline()', 'from sine.properties import *', \"load(['\\\\\\\\u4e2d b'])\", 'load(f)', 't=load(f)', 't', 't=load(f)', 't', \"f=open('clock.properties', 'r', encoding='utf8')\", 't=load(f)', 't', 't.alarm_interval', \"t['alarm_interval']\", \"tt=t['alarm_interval']\", 'type(tt)', \"f=open('clock.properties', 'r')\", 't=load(f)', 'config={}', \"\\nwith open('clock.properties', 'r', encoding='utf8') as file:\\n    config.update(load(file))\", 'config', 'str(config)', \"s='t'\", 's.decode', \"hasattr(s, 'encode')\", \"hasattr(s, 'decode')\", \"\\nwith open('clock.properties', 'r') as file:\\n    config.update(load(file))\", \"\\nwith open('clock.properties', 'rb') as file:\\n    config.update(load(file))\", \"b''\", \"b''.join('')\", \"b'\\\\n' == '\\\\n'\", \"b'\\\\n' === '\\\\n'\", \"b'\\\\n' == '\\\\n'\", \"\\nwith open('clock.properties', 'rb') as file:\\n    for l in file:\\n        print(l)\", \"u'a'\", \"b'\\\\n' +'\\\\n'\", \"'\\\\n' +b'\\\\n'\", \"class A(dict):\\n    def __repr__(self):\\n        return self.__class__.__name__ + '(' + dict.__repr__(self) + ')'\", 'A()', 'eval(repr(A()))', 'a=eval(repr(A()))', 'a', 'globals', 'globals()', 'for key in globals():\\n    print(key)', 'a = globals()\\nfor key in a:\\n    print(key)', 'a = globals()\\nfor key, v in a:\\n    print(key, v)', \"a = globals()\\nfor key, v in a:\\n    print(key + '=' + v)\", \"a = globals()\\nfor key in a:\\n    print(key + '=' + v)\", \"a = globals()\\nfor key,v in a.items():\\n    print(key + '=' + v)\", \"a = globals()\\nfor key,v in a.items():\\n    print(key + '=' + str(v))\"]\n",
      "_i=a = globals()\n",
      "for key,v in a.items():\n",
      "    print(key + '=' + v)\n",
      "_17=300\n",
      "_i15=t\n",
      "LineReader2=<class 'sine.properties.core.LineReader2'>\n",
      "_10={}\n",
      "_i34=b'\\n' == '\\n'\n",
      "_36=False\n",
      "_46=<built-in function globals>\n",
      "loadConvert2=<function loadConvert2 at 0x00000000059E16A8>\n",
      "_iii=a = globals()\n",
      "for key, v in a:\n",
      "    print(key + '=' + v)\n",
      "_28=True\n",
      "hasNext=<function hasNext at 0x00000000059E12F0>\n",
      "Iterable=<class 'collections.abc.Iterable'>\n",
      "_i14=t=load(f)\n",
      "core=<module 'sine.properties.core' from 'C:\\\\Python34\\\\lib\\\\site-packages\\\\sine\\\\properties\\\\core.py'>\n",
      "tt=300\n",
      "_i1=f=open('clock.properties', 'r')\n"
     ]
    }
   ],
   "source": [
    "a = globals()\n",
    "for key,v in a.items():\n",
    "    print(key + '=' + str(v))"
   ]
  },
  {
   "cell_type": "code",
   "execution_count": 6,
   "metadata": {
    "collapsed": true
   },
   "outputs": [],
   "source": [
    "from sine.properties import *"
   ]
  },
  {
   "cell_type": "code",
   "execution_count": 7,
   "metadata": {
    "collapsed": false
   },
   "outputs": [
    {
     "data": {
      "text/plain": [
       "{'中': 'b'}"
      ]
     },
     "execution_count": 7,
     "metadata": {},
     "output_type": "execute_result"
    }
   ],
   "source": [
    "load(['\\\\u4e2d b'])"
   ]
  },
  {
   "cell_type": "code",
   "execution_count": null,
   "metadata": {
    "collapsed": false
   },
   "outputs": [],
   "source": [
    "chr(22312)"
   ]
  },
  {
   "cell_type": "code",
   "execution_count": null,
   "metadata": {
    "collapsed": false
   },
   "outputs": [],
   "source": [
    "ord(2)"
   ]
  },
  {
   "cell_type": "code",
   "execution_count": null,
   "metadata": {
    "collapsed": false
   },
   "outputs": [],
   "source": [
    "ord(u'在')"
   ]
  },
  {
   "cell_type": "code",
   "execution_count": null,
   "metadata": {
    "collapsed": false
   },
   "outputs": [],
   "source": [
    "storeConvert(u'a')"
   ]
  },
  {
   "cell_type": "code",
   "execution_count": null,
   "metadata": {
    "collapsed": false
   },
   "outputs": [],
   "source": [
    "import re"
   ]
  },
  {
   "cell_type": "code",
   "execution_count": 22,
   "metadata": {
    "collapsed": true
   },
   "outputs": [],
   "source": [
    "config={}"
   ]
  },
  {
   "cell_type": "code",
   "execution_count": 26,
   "metadata": {
    "collapsed": true
   },
   "outputs": [],
   "source": [
    "s='t'"
   ]
  },
  {
   "cell_type": "code",
   "execution_count": 38,
   "metadata": {
    "collapsed": false
   },
   "outputs": [
    {
     "data": {
      "text/plain": [
       "'a'"
      ]
     },
     "execution_count": 38,
     "metadata": {},
     "output_type": "execute_result"
    }
   ],
   "source": [
    "u'a'"
   ]
  },
  {
   "cell_type": "code",
   "execution_count": 40,
   "metadata": {
    "collapsed": false
   },
   "outputs": [
    {
     "ename": "TypeError",
     "evalue": "Can't convert 'bytes' object to str implicitly",
     "output_type": "error",
     "traceback": [
      "\u001b[1;31m---------------------------------------------------------------------------\u001b[0m",
      "\u001b[1;31mTypeError\u001b[0m                                 Traceback (most recent call last)",
      "\u001b[1;32m<ipython-input-40-03b917575b36>\u001b[0m in \u001b[0;36m<module>\u001b[1;34m()\u001b[0m\n\u001b[1;32m----> 1\u001b[1;33m \u001b[1;34m'\\n'\u001b[0m \u001b[1;33m+\u001b[0m\u001b[1;34mb'\\n'\u001b[0m\u001b[1;33m\u001b[0m\u001b[0m\n\u001b[0m",
      "\u001b[1;31mTypeError\u001b[0m: Can't convert 'bytes' object to str implicitly"
     ]
    }
   ],
   "source": [
    "'\\n' +b'\\n'"
   ]
  },
  {
   "cell_type": "code",
   "execution_count": 37,
   "metadata": {
    "collapsed": false
   },
   "outputs": [
    {
     "name": "stdout",
     "output_type": "stream",
     "text": [
      "b'# \\xe5\\x9c\\xa8\\xe9\\x85\\x8d\\xe7\\xbd\\xae\\xe5\\x87\\xba\\xe7\\x8e\\xb0\\xe9\\x97\\xae\\xe9\\xa2\\x98\\xe7\\xad\\x89\\xe6\\x83\\x85\\xe5\\x86\\xb5\\xef\\xbc\\x8c\\xe5\\x9c\\xa8\\xe5\\x88\\xb7\\xe6\\x96\\xb0\\xe9\\xa1\\xb5\\xe9\\x9d\\xa2\\xe5\\x89\\x8d\\xe6\\x9a\\x82\\xe5\\x81\\x9c\\xe4\\xbb\\xa5\\xe4\\xbe\\x9b\\xe6\\x9f\\xa5\\xe7\\x9c\\x8b\\r\\n'\n",
      "b'warning_pause=1\\r\\n'\n",
      "b'\\r\\n'\n",
      "b'##\\xe6\\x8f\\x90\\xe9\\x86\\x92\\xe8\\xae\\xbe\\xe7\\xbd\\xae\\r\\n'\n",
      "b'# \\xe5\\xa3\\xb0\\xe9\\x9f\\xb3\\xef\\xbc\\x88\\xe9\\xbb\\x98\\xe8\\xae\\xa4\\xe5\\x80\\xbc\\xef\\xbc\\x89\\r\\n'\n",
      "b'sound=1\\r\\n'\n",
      "b'# \\xe6\\xb6\\x88\\xe6\\x81\\xaf\\xe6\\x8f\\x90\\xe7\\xa4\\xba\\xef\\xbc\\x88\\xe9\\xbb\\x98\\xe8\\xae\\xa4\\xe5\\x80\\xbc\\xef\\xbc\\x89\\r\\n'\n",
      "b'show_msg=1\\r\\n'\n",
      "b'# \\xe4\\xbb\\xbb\\xe5\\x8a\\xa1\\xe6\\xa0\\x8f\\xe9\\x97\\xaa\\xe7\\x83\\x81\\r\\n'\n",
      "b'taskbar_flash=1\\r\\n'\n",
      "b'# \\xe5\\xb1\\x8f\\xe5\\xb9\\x95\\xe6\\x98\\xbe\\xe7\\xa4\\xba\\xef\\xbc\\x88\\xe9\\x97\\xaa\\xe7\\x83\\x81\\xef\\xbc\\x89\\xe6\\x96\\xb9\\xe5\\xbc\\x8f\\xef\\xbc\\x8c\\xe5\\xa4\\x9a\\xe4\\xb8\\xaa\\xe6\\x95\\xb0\\xe5\\xad\\x97\\xe5\\x9d\\x87\\xe5\\x88\\x861\\xe7\\xa7\\x92\\xe6\\x97\\xb6\\xe9\\x95\\xbf\\xef\\xbc\\x8c0\\xe4\\xbb\\xa3\\xe8\\xa1\\xa8\\xe4\\xb8\\x8d\\xe6\\x98\\xbe\\xe7\\xa4\\xba\\xef\\xbc\\x8c1\\xe6\\x98\\xbe\\xe7\\xa4\\xba\\xef\\xbc\\x8c\\xe4\\xbb\\xa5\\xe5\\xae\\x9e\\xe7\\x8e\\xb0\\xe9\\x97\\xaa\\xe7\\x83\\x81\\xe6\\x95\\x88\\xe6\\x9e\\x9c\\r\\n'\n",
      "b'screen_flash_mode=0111101111\\r\\n'\n",
      "b'# \\xe6\\x8f\\x90\\xe9\\x86\\x92\\xef\\xbc\\x88\\xe9\\x97\\xb9\\xe9\\x93\\x83\\xef\\xbc\\x89\\xe6\\x8c\\x81\\xe7\\xbb\\xad\\xe6\\x97\\xb6\\xe9\\x97\\xb4\\r\\n'\n",
      "b'alarm_last=30\\r\\n'\n",
      "b'# \\xe6\\x8f\\x90\\xe9\\x86\\x92\\xe9\\x97\\xb4\\xe9\\x9a\\x94\\r\\n'\n",
      "b'alarm_interval=300\\r\\n'\n",
      "b'\\r\\n'\n",
      "b'# \\xe9\\xbb\\x98\\xe8\\xae\\xa4\\xe7\\x9a\\x84\\xe6\\x8f\\x90\\xe9\\x86\\x92\\xe6\\x8f\\x90\\xe5\\x89\\x8d\\xe6\\x97\\xb6\\xe9\\x97\\xb4\\r\\n'\n",
      "b'default_remindAhead=0\\r\\n'\n",
      "b\"# \\xe5\\x88\\x9b\\xe5\\xbb\\xba\\xe9\\x97\\xb9\\xe9\\x92\\x9f\\xe6\\x97\\xb6\\xe7\\x9a\\x84\\xe9\\xbb\\x98\\xe8\\xae\\xa4\\xe9\\x93\\x83\\xe5\\xa3\\xb0\\xef\\xbc\\x8c\\xe6\\x9c\\xac\\xe5\\x9c\\xb0\\xe9\\x93\\x83\\xe5\\xa3\\xb0\\xe4\\xbd\\xbf\\xe7\\x94\\xa8\\xe7\\x9b\\xb8\\xe5\\xaf\\xb9\\xe6\\x88\\x96\\xe7\\xbb\\x9d\\xe5\\xaf\\xb9\\xe8\\xb7\\xaf\\xe5\\xbe\\x84\\xef\\xbc\\x8c\\xe5\\x8f\\xaf\\xe7\\x9c\\x81\\xe7\\x95\\xa5\\xe5\\x90\\x8e\\xe7\\xbc\\x80\\xe5\\x90\\x8d\\xe3\\x80\\x82\\xe6\\xad\\xa4\\xe5\\xa4\\x96\\xef\\xbc\\x8c'default'\\xe8\\xa1\\xa8\\xe7\\xa4\\xba\\xe6\\x92\\xad\\xe6\\x94\\xbebeep\\xe9\\x9f\\xb3\\xe9\\xa2\\x91\\xef\\xbc\\x9b\\xe7\\xa9\\xba\\xe8\\xa1\\xa8\\xe7\\xa4\\xba\\xe6\\x97\\xa0\\xe9\\x93\\x83\\xe5\\xa3\\xb0\\xef\\xbc\\x9b\\xe8\\xbf\\x98\\xe5\\x8f\\xaf\\xe4\\xbb\\xa5\\xe7\\x94\\xa8win32\\xe7\\xb3\\xbb\\xe7\\xbb\\x9f\\xe7\\x9a\\x84\\xe5\\x87\\xa0\\xe4\\xb8\\xaa\\xe6\\xb3\\xa8\\xe5\\x86\\x8c\\xe8\\xa1\\xa8\\xe5\\xa3\\xb0\\xe9\\x9f\\xb3\\xef\\xbc\\x9a\\r\\n\"\n",
      "b\"# 'SystemAsterisk' Asterisk\\r\\n\"\n",
      "b\"# 'SystemExclamation' Exclamation\\r\\n\"\n",
      "b\"# 'SystemExit' Exit Windows\\r\\n\"\n",
      "b\"# 'SystemHand' Critical Stop\\r\\n\"\n",
      "b\"# 'SystemQuestion' Question\\r\\n\"\n",
      "b\"# 'SystemDefault'\\r\\n\"\n",
      "b'default_sound=default\\r\\n'\n",
      "b'\\r\\n'\n",
      "b'# \\xe9\\x97\\xb9\\xe9\\x92\\x9f\\xe5\\x88\\x97\\xe8\\xa1\\xa8\\xe6\\xa0\\xbc\\xe5\\xbc\\x8f\\r\\n'\n",
      "b'# \\xe4\\xbd\\xbf\\xe7\\x94\\xa8datetime\\xe7\\x9a\\x84\\xe6\\xa0\\xbc\\xe5\\xbc\\x8f, \\xe4\\xb8\\x80\\xe8\\x88\\xac\\xe7\\x94\\xa8\\xe6\\xb3\\x95:\\r\\n'\n",
      "b'# 2017-12-25 13:01:59 Mon\\r\\n'\n",
      "b'#   %Y-%m-%d %H:%M:%S  %a\\r\\n'\n",
      "b\"# \\xe8\\xbf\\x99\\xe9\\x87\\x8c\\xe9\\xa2\\x9d\\xe5\\xa4\\x96\\xe5\\xae\\x9a\\xe4\\xb9\\x89\\xe7\\x9a\\x84\\xe6\\xa0\\xbc\\xe5\\xbc\\x8f\\xe9\\x83\\xbd\\xe6\\x98\\xaf\\xe4\\xbb\\xa5'%%'\\xe5\\xbc\\x80\\xe5\\xa4\\xb4:\\r\\n\"\n",
      "b'# %%warn - \\xe8\\xa1\\xa8\\xe7\\xa4\\xba\\xe5\\x9c\\xa8\\xe5\\x88\\xb0\\xe6\\x9c\\x9f\\xe7\\x8a\\xb6\\xe6\\x80\\x81\\xe7\\x9a\\x84\\xe9\\x97\\xb9\\xe9\\x92\\x9f\\xe3\\x80\\x82\\xe5\\xad\\x97\\xe7\\xac\\xa6\\xe4\\xb8\\xb2\\xe5\\x8f\\xaf\\xe5\\x9c\\xa8\\xe4\\xb8\\x8b\\xe9\\x9d\\xa2\\xe8\\xae\\xbe\\xe7\\xbd\\xae\\xe3\\x80\\x82\\r\\n'\n",
      "b'# %%idx - \\xe9\\x97\\xb9\\xe9\\x92\\x9f\\xe7\\x9a\\x84\\xe5\\xba\\x8f\\xe5\\x8f\\xb7\\xe3\\x80\\x82\\r\\n'\n",
      "b'# %%state - \\xe8\\xa1\\xa8\\xe7\\xa4\\xba\\xe9\\x97\\xb9\\xe9\\x92\\x9f\\xe5\\xbc\\x80\\xe5\\x85\\xb3\\xe7\\x8a\\xb6\\xe6\\x80\\x81\\xe3\\x80\\x82\\xe5\\xad\\x97\\xe7\\xac\\xa6\\xe4\\xb8\\xb2\\xe5\\x8f\\xaf\\xe5\\x9c\\xa8\\xe4\\xb8\\x8b\\xe9\\x9d\\xa2\\xe8\\xae\\xbe\\xe7\\xbd\\xae\\xe3\\x80\\x82\\r\\n'\n",
      "b'# %%msg - \\xe9\\x97\\xb9\\xe9\\x92\\x9f\\xe7\\x9a\\x84\\xe5\\x86\\x85\\xe5\\xae\\xb9\\xe3\\x80\\x82\\r\\n'\n",
      "b'# %%rep - \\xe9\\x87\\x8d\\xe5\\xa4\\x8d\\xe7\\x9a\\x84\\xe5\\x86\\x85\\xe5\\xae\\xb9\\xef\\xbc\\x8c\\xe6\\x98\\x9f\\xe6\\x9c\\x9f\\xe6\\x88\\x96\\xe5\\x91\\xa8\\xe6\\x9c\\x9f\\xe3\\x80\\x82\\r\\n'\n",
      "b'# \\xe5\\x8f\\xaf\\xe4\\xbb\\xa5\\xe5\\x83\\x8f\\xe5\\xad\\x97\\xe7\\xac\\xa6\\xe4\\xb8\\xb2\\xe6\\xa0\\xbc\\xe5\\xbc\\x8f\\xe5\\x8c\\x96\\xe7\\x9a\\x84\\xe6\\x96\\xb9\\xe6\\xb3\\x95\\xe4\\xbd\\xbf\\xe7\\x94\\xa8\\xef\\xbc\\x8c\\xe6\\xaf\\x94\\xe5\\xa6\\x82\\xe5\\x9c\\xa8\\xe4\\xb8\\xad\\xe9\\x97\\xb4\\xe5\\x8a\\xa0\\xe6\\x95\\xb0\\xe5\\xad\\x97\\xe9\\x99\\x90\\xe5\\xae\\x9a\\xe5\\xae\\xbd\\xe5\\xba\\xa6\\xef\\xbc\\x8c\\xe4\\xbb\\xa5\\xe5\\xae\\x9e\\xe7\\x8e\\xb0\\xe5\\xaf\\xb9\\xe9\\xbd\\x90\\xe3\\x80\\x82\\r\\n'\n",
      "b'format=%Y-%m-%d %H:%M:%S %%8rep %%3warn %%3idx %%3state %%msg\\r\\n'\n",
      "b'# \\xe6\\x8f\\x90\\xe9\\x86\\x92\\xe6\\x97\\xb6\\xe7\\x9a\\x84\\xe9\\x97\\xaa\\xe7\\x83\\x81\\xe6\\xa0\\xbc\\xe5\\xbc\\x8f\\r\\n'\n",
      "b'flash_format=%Y-%m-%d %H:%M:%S %%msg\\r\\n'\n",
      "b'warn=!!!\\r\\n'\n",
      "b'state.ON=ON\\r\\n'\n",
      "b'state.OFF=OFF\\r\\n'\n",
      "b'\\r\\n'\n",
      "b'datafile=clocks.txt\\r\\n'\n",
      "b'\\r\\n'\n",
      "b'# \\xe8\\xae\\xb0\\xe5\\xbd\\x95\\xe8\\xb0\\x83\\xe8\\xaf\\x95\\xe4\\xbf\\xa1\\xe6\\x81\\xaf\\r\\n'\n",
      "b'debug=0\\r\\n'\n"
     ]
    }
   ],
   "source": [
    "\n",
    "with open('clock.properties', 'rb') as file:\n",
    "    for l in file:\n",
    "        print(l)"
   ]
  },
  {
   "cell_type": "code",
   "execution_count": 33,
   "metadata": {
    "collapsed": false
   },
   "outputs": [
    {
     "data": {
      "text/plain": [
       "b''"
      ]
     },
     "execution_count": 33,
     "metadata": {},
     "output_type": "execute_result"
    }
   ],
   "source": [
    "b''.join('')"
   ]
  },
  {
   "cell_type": "code",
   "execution_count": 25,
   "metadata": {
    "collapsed": false
   },
   "outputs": [
    {
     "data": {
      "text/plain": [
       "\"{'screen_flash_mode': '0111101111', 'format': '%Y-%m-%d %H:%M:%S %%8rep %%3warn %%3idx %%3state %%msg', 'alarm_interval': '300', 'show_msg': '1', 'warn': '!!!', 'flash_format': '%Y-%m-%d %H:%M:%S %%msg', 'sound': '1', 'state.ON': 'ON', 'warning_pause': '1', 'state.OFF': 'OFF', 'debug': '0', 'default_remindAhead': '0', 'taskbar_flash': '1', 'default_sound': 'default', 'datafile': 'clocks.txt', 'alarm_last': '30'}\""
      ]
     },
     "execution_count": 25,
     "metadata": {},
     "output_type": "execute_result"
    }
   ],
   "source": [
    "str(config)"
   ]
  },
  {
   "cell_type": "code",
   "execution_count": 20,
   "metadata": {
    "collapsed": true
   },
   "outputs": [],
   "source": [
    "f=open('clock.properties', 'r', encoding='utf8')"
   ]
  },
  {
   "cell_type": "code",
   "execution_count": 21,
   "metadata": {
    "collapsed": false
   },
   "outputs": [
    {
     "ename": "UnicodeDecodeError",
     "evalue": "'gbk' codec can't decode byte 0xae in position 10: illegal multibyte sequence",
     "output_type": "error",
     "traceback": [
      "\u001b[1;31m---------------------------------------------------------------------------\u001b[0m",
      "\u001b[1;31mUnicodeDecodeError\u001b[0m                        Traceback (most recent call last)",
      "\u001b[1;32m<ipython-input-21-15f84cf495a0>\u001b[0m in \u001b[0;36m<module>\u001b[1;34m()\u001b[0m\n\u001b[1;32m----> 1\u001b[1;33m \u001b[0mt\u001b[0m\u001b[1;33m=\u001b[0m\u001b[0mload\u001b[0m\u001b[1;33m(\u001b[0m\u001b[0mf\u001b[0m\u001b[1;33m)\u001b[0m\u001b[1;33m\u001b[0m\u001b[0m\n\u001b[0m",
      "\u001b[1;32mC:\\Python34\\lib\\site-packages\\sine\\properties\\core.py\u001b[0m in \u001b[0;36mload\u001b[1;34m(iterable, properties)\u001b[0m\n\u001b[0;32m    186\u001b[0m     \u001b[1;32mif\u001b[0m \u001b[0mproperties\u001b[0m \u001b[1;33m==\u001b[0m \u001b[1;32mNone\u001b[0m\u001b[1;33m:\u001b[0m\u001b[1;33m\u001b[0m\u001b[0m\n\u001b[0;32m    187\u001b[0m         \u001b[0mproperties\u001b[0m \u001b[1;33m=\u001b[0m \u001b[1;33m{\u001b[0m\u001b[1;33m}\u001b[0m\u001b[1;33m\u001b[0m\u001b[0m\n\u001b[1;32m--> 188\u001b[1;33m     \u001b[1;32mfor\u001b[0m \u001b[0mline\u001b[0m \u001b[1;32min\u001b[0m \u001b[0mLineReader\u001b[0m\u001b[1;33m(\u001b[0m\u001b[0miterable\u001b[0m\u001b[1;33m)\u001b[0m\u001b[1;33m:\u001b[0m\u001b[1;33m\u001b[0m\u001b[0m\n\u001b[0m\u001b[0;32m    189\u001b[0m         \u001b[0mkey\u001b[0m\u001b[1;33m,\u001b[0m \u001b[0mvalue\u001b[0m \u001b[1;33m=\u001b[0m \u001b[0mloadSingle\u001b[0m\u001b[1;33m(\u001b[0m\u001b[0mline\u001b[0m\u001b[1;33m)\u001b[0m\u001b[1;33m\u001b[0m\u001b[0m\n\u001b[0;32m    190\u001b[0m         \u001b[0mproperties\u001b[0m\u001b[1;33m[\u001b[0m\u001b[0mkey\u001b[0m\u001b[1;33m]\u001b[0m \u001b[1;33m=\u001b[0m \u001b[0mvalue\u001b[0m\u001b[1;33m\u001b[0m\u001b[0m\n",
      "\u001b[1;32mC:\\Python34\\lib\\site-packages\\sine\\properties\\core.py\u001b[0m in \u001b[0;36mnext\u001b[1;34m(self)\u001b[0m\n\u001b[0;32m    549\u001b[0m             \u001b[1;32mif\u001b[0m \u001b[0mself\u001b[0m\u001b[1;33m.\u001b[0m\u001b[0minOff\u001b[0m \u001b[1;33m>=\u001b[0m \u001b[0mself\u001b[0m\u001b[1;33m.\u001b[0m\u001b[0minLimit\u001b[0m\u001b[1;33m:\u001b[0m\u001b[1;33m\u001b[0m\u001b[0m\n\u001b[0;32m    550\u001b[0m                 \u001b[1;32mtry\u001b[0m\u001b[1;33m:\u001b[0m\u001b[1;33m\u001b[0m\u001b[0m\n\u001b[1;32m--> 551\u001b[1;33m                     \u001b[0mself\u001b[0m\u001b[1;33m.\u001b[0m\u001b[0minByteBuf\u001b[0m \u001b[1;33m=\u001b[0m \u001b[0mnext\u001b[0m\u001b[1;33m(\u001b[0m\u001b[0mself\u001b[0m\u001b[1;33m.\u001b[0m\u001b[0miterator\u001b[0m\u001b[1;33m)\u001b[0m\u001b[1;33m\u001b[0m\u001b[0m\n\u001b[0m\u001b[0;32m    552\u001b[0m                     \u001b[0mself\u001b[0m\u001b[1;33m.\u001b[0m\u001b[0minLimit\u001b[0m \u001b[1;33m=\u001b[0m \u001b[0mlen\u001b[0m\u001b[1;33m(\u001b[0m\u001b[0mself\u001b[0m\u001b[1;33m.\u001b[0m\u001b[0minByteBuf\u001b[0m\u001b[1;33m)\u001b[0m\u001b[1;33m\u001b[0m\u001b[0m\n\u001b[0;32m    553\u001b[0m                 \u001b[1;32mexcept\u001b[0m \u001b[0mStopIteration\u001b[0m \u001b[1;32mas\u001b[0m \u001b[0me\u001b[0m\u001b[1;33m:\u001b[0m\u001b[1;33m\u001b[0m\u001b[0m\n",
      "\u001b[1;31mUnicodeDecodeError\u001b[0m: 'gbk' codec can't decode byte 0xae in position 10: illegal multibyte sequence"
     ]
    }
   ],
   "source": [
    "t=load(f)"
   ]
  },
  {
   "cell_type": "code",
   "execution_count": 18,
   "metadata": {
    "collapsed": false
   },
   "outputs": [],
   "source": [
    "tt=t['alarm_interval']"
   ]
  },
  {
   "cell_type": "code",
   "execution_count": 19,
   "metadata": {
    "collapsed": false
   },
   "outputs": [
    {
     "data": {
      "text/plain": [
       "str"
      ]
     },
     "execution_count": 19,
     "metadata": {},
     "output_type": "execute_result"
    }
   ],
   "source": [
    "type(tt)"
   ]
  },
  {
   "cell_type": "code",
   "execution_count": 5,
   "metadata": {
    "collapsed": false
   },
   "outputs": [
    {
     "data": {
      "text/plain": [
       "'# 在配置出现问题等情况，在刷新页面前暂停以供查看\\n'"
      ]
     },
     "execution_count": 5,
     "metadata": {},
     "output_type": "execute_result"
    }
   ],
   "source": [
    "f.readline()"
   ]
  },
  {
   "cell_type": "code",
   "execution_count": 3,
   "metadata": {
    "collapsed": false
   },
   "outputs": [
    {
     "data": {
      "text/plain": [
       "'cp936'"
      ]
     },
     "execution_count": 3,
     "metadata": {},
     "output_type": "execute_result"
    }
   ],
   "source": [
    "f.encoding"
   ]
  },
  {
   "cell_type": "code",
   "execution_count": null,
   "metadata": {
    "collapsed": true
   },
   "outputs": [],
   "source": [
    "f=open('log.txt', 'r')"
   ]
  },
  {
   "cell_type": "code",
   "execution_count": null,
   "metadata": {
    "collapsed": false
   },
   "outputs": [],
   "source": [
    "{None:2}"
   ]
  },
  {
   "cell_type": "code",
   "execution_count": null,
   "metadata": {
    "collapsed": false
   },
   "outputs": [],
   "source": [
    "type(b'')"
   ]
  },
  {
   "cell_type": "code",
   "execution_count": null,
   "metadata": {
    "collapsed": false
   },
   "outputs": [],
   "source": [
    "unicode"
   ]
  },
  {
   "cell_type": "code",
   "execution_count": null,
   "metadata": {
    "collapsed": false
   },
   "outputs": [],
   "source": [
    "input()"
   ]
  },
  {
   "cell_type": "code",
   "execution_count": null,
   "metadata": {
    "collapsed": false
   },
   "outputs": [],
   "source": [
    "re.search(r'^[ \\t\\f]*((?:\\\\\\\\|\\\\=|\\\\:|[^ \\t\\f])+?)(?:[ \\t\\f]*(?::|=)[ \\t\\f]*|[ \\t\\f]+)([\\s\\S]*)$', b' key\\\\\\\\= v').groups()"
   ]
  },
  {
   "cell_type": "code",
   "execution_count": null,
   "metadata": {
    "collapsed": false
   },
   "outputs": [],
   "source": [
    "' '[0:3]"
   ]
  },
  {
   "cell_type": "code",
   "execution_count": null,
   "metadata": {
    "collapsed": false
   },
   "outputs": [],
   "source": [
    "b' '+' '"
   ]
  },
  {
   "cell_type": "code",
   "execution_count": null,
   "metadata": {
    "collapsed": false
   },
   "outputs": [],
   "source": [
    "for i in b'aaa':\n",
    "    print(i)"
   ]
  },
  {
   "cell_type": "code",
   "execution_count": null,
   "metadata": {
    "collapsed": false
   },
   "outputs": [],
   "source": [
    "equal"
   ]
  },
  {
   "cell_type": "code",
   "execution_count": null,
   "metadata": {
    "collapsed": true
   },
   "outputs": [],
   "source": [
    "def equ(a, *args):\n",
    "    for arg in args:\n",
    "        equal = True\n",
    "        for c in arg:\n",
    "            if a != c and a != c.encode():\n",
    "                equal = False\n",
    "                break\n",
    "        if equal:\n",
    "            return True\n",
    "    return False"
   ]
  },
  {
   "cell_type": "code",
   "execution_count": null,
   "metadata": {
    "collapsed": true
   },
   "outputs": [],
   "source": [
    "equ(' ', b' ')"
   ]
  },
  {
   "cell_type": "code",
   "execution_count": null,
   "metadata": {
    "collapsed": false
   },
   "outputs": [],
   "source": [
    "isinstance(' ', str)"
   ]
  },
  {
   "cell_type": "code",
   "execution_count": null,
   "metadata": {
    "collapsed": false
   },
   "outputs": [],
   "source": [
    "' '.encode()"
   ]
  },
  {
   "cell_type": "code",
   "execution_count": null,
   "metadata": {
    "collapsed": false
   },
   "outputs": [],
   "source": [
    "b' '.decode()"
   ]
  },
  {
   "cell_type": "code",
   "execution_count": null,
   "metadata": {
    "collapsed": false
   },
   "outputs": [],
   "source": [
    "' ' == ' '"
   ]
  },
  {
   "cell_type": "code",
   "execution_count": null,
   "metadata": {
    "collapsed": false
   },
   "outputs": [],
   "source": [
    "chr('1')"
   ]
  },
  {
   "cell_type": "code",
   "execution_count": null,
   "metadata": {
    "collapsed": false
   },
   "outputs": [],
   "source": [
    "chr(49)"
   ]
  },
  {
   "cell_type": "code",
   "execution_count": null,
   "metadata": {
    "collapsed": false
   },
   "outputs": [],
   "source": [
    "int(b' ')"
   ]
  },
  {
   "cell_type": "code",
   "execution_count": null,
   "metadata": {
    "collapsed": false
   },
   "outputs": [],
   "source": [
    "' ' == b' '"
   ]
  },
  {
   "cell_type": "code",
   "execution_count": null,
   "metadata": {
    "collapsed": false,
    "scrolled": false
   },
   "outputs": [],
   "source": [
    "import sine.alarmclock"
   ]
  }
 ],
 "metadata": {
  "kernelspec": {
   "display_name": "Python 3",
   "language": "python",
   "name": "python3"
  },
  "language_info": {
   "codemirror_mode": {
    "name": "ipython",
    "version": 3
   },
   "file_extension": ".py",
   "mimetype": "text/x-python",
   "name": "python",
   "nbconvert_exporter": "python",
   "pygments_lexer": "ipython3",
   "version": "3.4.4"
  }
 },
 "nbformat": 4,
 "nbformat_minor": 2
}

{
 "cells": [
  {
   "cell_type": "markdown",
   "metadata": {},
   "source": [
    "### 概率算法定义\n"
   ]
  },
  {
   "cell_type": "code",
   "execution_count": 2,
   "metadata": {},
   "outputs": [],
   "source": [
    "from fractions import Fraction\n",
    "import itertools"
   ]
  },
  {
   "cell_type": "code",
   "execution_count": 3,
   "metadata": {},
   "outputs": [],
   "source": [
    "# 基础概率计算\n",
    "def step(s, i):\n",
    "    '''强化到第i个位的概率。s是长度4的数组，0表示空栏。若i位置为0返回出新属性的总概率。'''\n",
    "    count = s.count(0)\n",
    "    if count == 0:\n",
    "        return Fraction(s[i], sum(s))\n",
    "    return Fraction(s[i] if s[i] > 0 else 7 + count, sum(s) - (4 - count) + 11)\n",
    "def step2(s, i):\n",
    "    '''强化到第i个位的概率。s是长度4以内的数组，不含0。若i超过s长度则返回新增某一个新属性的概率。'''\n",
    "    if len(s) == 4:\n",
    "        return Fraction(s[i], sum(s))\n",
    "    return Fraction(s[i] if i < len(s) else 1, sum(s) - len(s) + 11)"
   ]
  },
  {
   "cell_type": "code",
   "execution_count": 4,
   "metadata": {},
   "outputs": [],
   "source": [
    "def to(s, d):\n",
    "    '''从s强化到d的概率。参数是长度4的数组。\n",
    "    '''\n",
    "    if s == d:\n",
    "        return Fraction(1)\n",
    "    result = 0\n",
    "    end = 4 - s.count(0) + 1\n",
    "    if end > 4:\n",
    "        end = 4\n",
    "    for i in range(end):\n",
    "        if d[i] > s[i]:\n",
    "            p = step(s, i)\n",
    "            s[i] += 1\n",
    "            result += p * to(s, d)\n",
    "            s[i] -= 1\n",
    "    return result"
   ]
  },
  {
   "cell_type": "code",
   "execution_count": 5,
   "metadata": {},
   "outputs": [
    {
     "data": {
      "text/plain": [
       "Fraction(1, 35)"
      ]
     },
     "execution_count": 5,
     "metadata": {},
     "output_type": "execute_result"
    }
   ],
   "source": [
    "to([1,1,1,1],[1,1,1,5])"
   ]
  },
  {
   "cell_type": "code",
   "execution_count": 6,
   "metadata": {},
   "outputs": [
    {
     "data": {
      "text/plain": [
       "Fraction(3368, 105105)"
      ]
     },
     "execution_count": 6,
     "metadata": {},
     "output_type": "execute_result"
    }
   ],
   "source": [
    "to([1,1,1,0],[1,1,5,1])"
   ]
  },
  {
   "cell_type": "code",
   "execution_count": 7,
   "metadata": {},
   "outputs": [],
   "source": [
    "def possible(s, d, t):\n",
    "    '''从s开始强化最多t次后，能满足d的概率。s和d是字典。'''\n",
    "    # 考虑未出现属性是否有位置出现\n",
    "    count = 0\n",
    "    sk = s.keys()\n",
    "    for key in d.keys():\n",
    "        if key not in sk:\n",
    "            count += 1\n",
    "    if count > 4 - len(sk):\n",
    "        return False\n",
    "    # 考虑份数是否足够\n",
    "    count = 0\n",
    "    for key in d.keys():\n",
    "        if key not in sk:\n",
    "            count += d[key]\n",
    "        elif s[key] < d[key]:\n",
    "            count += d[key] - s[key]\n",
    "        if count > t:\n",
    "            return False\n",
    "    return True"
   ]
  },
  {
   "cell_type": "code",
   "execution_count": 8,
   "metadata": {},
   "outputs": [],
   "source": [
    "def satisfy(s, d):\n",
    "    '''s是否已经满足d。s和d是字典。'''\n",
    "    for k, v0 in d.items():\n",
    "        v = s.get(k)\n",
    "        if v == None or v < v0:\n",
    "            return False\n",
    "    return True"
   ]
  },
  {
   "cell_type": "code",
   "execution_count": 9,
   "metadata": {},
   "outputs": [],
   "source": [
    "def choose(n, c):\n",
    "    '''组合数，n个里面选c个'''\n",
    "    result = 1\n",
    "    for i in range(n, n - c, -1):\n",
    "        result *= i\n",
    "    for i in range(2, c + 1):\n",
    "        result /= i\n",
    "    return result"
   ]
  },
  {
   "cell_type": "code",
   "execution_count": 10,
   "metadata": {},
   "outputs": [
    {
     "name": "stdout",
     "output_type": "stream",
     "text": [
      "[15750, 31500, 47250, 63000, 78750]\n"
     ]
    }
   ],
   "source": [
    "_e6 = 15750 # 6星强化到3所需经验\n",
    "_e = _e6\n",
    "# 副属性等级：到下一次强化副属性所需的御魂经验\n",
    "exp = [_e, _e*2, _e*3, _e*4, _e*5]\n",
    "print exp"
   ]
  },
  {
   "cell_type": "code",
   "execution_count": 11,
   "metadata": {},
   "outputs": [],
   "source": [
    "def least(s, d, t=5, l=0):\n",
    "    '''从s开始强化t次后，满足d的概率。l是初始强化等级，无强化则0。s和d是字典。\n",
    "    返回（成功的概率，平均消耗经验）'''\n",
    "    if satisfy(s, d):\n",
    "        return (Fraction(1), 0)\n",
    "    if t == 0 or not possible(s, d, t):\n",
    "        return (Fraction(0), 0)\n",
    "    result = 0\n",
    "    exper = 0 # 得到结果（成功或失败）的期望消耗\n",
    "    sk = s.keys()\n",
    "    sv = s.values()\n",
    "    for i, k in enumerate(sk): # 遍历强化到第i个属性\n",
    "        p = step2(sv, i)\n",
    "        s[k] += 1\n",
    "        temp = least(s, d, t-1, l+1)\n",
    "        result += p * temp[0]\n",
    "        exper += p * (exp[l] + temp[1])\n",
    "        s[k] -= 1\n",
    "    if len(sv) < 4: # 额外考虑出新属性的情况\n",
    "        p = step2(sv, len(sv))\n",
    "        for newkey in range(11):\n",
    "            if newkey not in sk:\n",
    "                s2 = dict(s)\n",
    "                s2[newkey] = 1\n",
    "                temp = least(s2, d, t-1, l+1)\n",
    "                result += p * temp[0]\n",
    "                exper += p * (exp[l] + temp[1])\n",
    "    return result, exper"
   ]
  },
  {
   "cell_type": "code",
   "execution_count": 12,
   "metadata": {},
   "outputs": [
    {
     "data": {
      "text/plain": [
       "(Fraction(1, 385), Fraction(226800, 11))"
      ]
     },
     "execution_count": 12,
     "metadata": {},
     "output_type": "execute_result"
    }
   ],
   "source": [
    "least({1:1,2:1,3:1},{1:1,2:1,3:1,4:5})"
   ]
  },
  {
   "cell_type": "code",
   "execution_count": 13,
   "metadata": {},
   "outputs": [],
   "source": [
    "def random(d, n=4):\n",
    "    '''随机的初始n个属性的御魂能强化后能满足d的概率。d是字典'''\n",
    "    result = 0\n",
    "    exper = 0\n",
    "    dk = d.keys()\n",
    "    l = len(dk)\n",
    "    others = []\n",
    "    for key in range(11):\n",
    "        if key not in dk:\n",
    "            others.append(key)\n",
    "    for i in range(min(5-n, l+1)): # 初始属性中没有i个期望属性\n",
    "        i0 = l - i # 初始属性中有i0个期望属性\n",
    "        p = Fraction(choose(l, i0) * choose(11-i0, n-i0), choose(11, n))\n",
    "        for keys in itertools.combinations(dk, i0): # 组合i0个属性\n",
    "            s = {}\n",
    "            for key in keys:\n",
    "                s[key] = 1\n",
    "            for i in range(len(keys), n):\n",
    "                s[others[i]] = 1\n",
    "            temp = least(s, d)\n",
    "            result += p * temp[0]\n",
    "            exper += p * temp[1]\n",
    "    return result, exper"
   ]
  },
  {
   "cell_type": "code",
   "execution_count": 14,
   "metadata": {},
   "outputs": [],
   "source": [
    "class Set():\n",
    "    def __init__(self, *args):\n",
    "        self.all = args\n",
    "    def satisfy(self, s):\n",
    "        for d in self.all:\n",
    "            if satisfy(s, d):\n",
    "                return True\n",
    "        return False\n",
    "    def possible(self, s, t):\n",
    "        for d in self.all:\n",
    "            if possible(s, d, t):\n",
    "                return True\n",
    "        return False"
   ]
  },
  {
   "cell_type": "code",
   "execution_count": 15,
   "metadata": {},
   "outputs": [],
   "source": [
    "def least2(s, d, t=5, l=0):\n",
    "    '''从s开始强化t次后，满足d的概率。l是初始强化等级，无强化则0。s是字典，d是Set\n",
    "    返回（成功的概率，平均消耗经验）'''\n",
    "    if d.satisfy(s):\n",
    "        return (Fraction(1), 0)\n",
    "    if t == 0 or not d.possible(s, t):\n",
    "        return (Fraction(0), 0)\n",
    "    result = 0\n",
    "    exper = 0 # 得到结果（成功或失败）的期望消耗\n",
    "    sk = s.keys()\n",
    "    sv = s.values()\n",
    "    for i, k in enumerate(sk): # 遍历强化到第i个属性\n",
    "        p = step2(sv, i)\n",
    "        s[k] += 1\n",
    "        temp = least2(s, d, t-1, l+1)\n",
    "        result += p * temp[0]\n",
    "        exper += p * (exp[l] + temp[1])\n",
    "        s[k] -= 1\n",
    "    if len(sv) < 4: # 额外考虑出新属性的情况\n",
    "        p = step2(sv, len(sv))\n",
    "        for newkey in range(11):\n",
    "            if newkey not in sk:\n",
    "                s2 = dict(s)\n",
    "                s2[newkey] = 1\n",
    "                temp = least2(s2, d, t-1, l+1)\n",
    "                result += p * temp[0]\n",
    "                exper += p * (exp[l] + temp[1])\n",
    "    return result, exper"
   ]
  },
  {
   "cell_type": "code",
   "execution_count": null,
   "metadata": {},
   "outputs": [],
   "source": [
    "def buy(d, n, t=5):\n",
    "    '''初始属性n个，强化t次满足d的概率。'''\n",
    "    dn = "
   ]
  },
  {
   "cell_type": "code",
   "execution_count": 16,
   "metadata": {},
   "outputs": [],
   "source": [
    "def buy2(d, t=5):\n",
    "    '''赌御魂，强化t次满足d的概率。'''\n",
    "    return buy(d, 2) * 1.0/2 + \n",
    "            buy(d, 3) * 1.0/3 + \n",
    "            buy(d, 4) * 1.0/6;"
   ]
  },
  {
   "cell_type": "code",
   "execution_count": 36,
   "metadata": {},
   "outputs": [],
   "source": [
    "d={1:1,2:1,3:1}"
   ]
  },
  {
   "cell_type": "code",
   "execution_count": 37,
   "metadata": {},
   "outputs": [
    {
     "data": {
      "text/plain": [
       "[1, 2, 3]"
      ]
     },
     "execution_count": 37,
     "metadata": {},
     "output_type": "execute_result"
    }
   ],
   "source": [
    "d.keys()"
   ]
  },
  {
   "cell_type": "code",
   "execution_count": 20,
   "metadata": {},
   "outputs": [
    {
     "data": {
      "text/plain": [
       "(Fraction(3473, 105105), Fraction(945225, 13))"
      ]
     },
     "execution_count": 20,
     "metadata": {},
     "output_type": "execute_result"
    }
   ],
   "source": [
    "least2({1:1,2:1,3:1}, Set({1:5}))"
   ]
  },
  {
   "cell_type": "code",
   "execution_count": 34,
   "metadata": {},
   "outputs": [
    {
     "data": {
      "text/plain": [
       "(Fraction(743269, 48096048), Fraction(5910758625, 81796))"
      ]
     },
     "execution_count": 34,
     "metadata": {},
     "output_type": "execute_result"
    }
   ],
   "source": [
    "least2({1:1,2:1}, Set({1:4,3:1}))"
   ]
  },
  {
   "cell_type": "code",
   "execution_count": 35,
   "metadata": {},
   "outputs": [
    {
     "data": {
      "text/plain": [
       "(Fraction(1037, 120120), Fraction(187193125, 3146))"
      ]
     },
     "execution_count": 35,
     "metadata": {},
     "output_type": "execute_result"
    }
   ],
   "source": [
    "least2({1:1,2:1}, Set({1:1,3:4}))"
   ]
  },
  {
   "cell_type": "markdown",
   "metadata": {},
   "source": [
    "'''提供手游阴阳师中御魂强化的一些概率计算，计算方式由本人经验得出（后在nga上也有其他人得到相同结论）。\n",
    "定义：御魂强化前，定义每个副属性都有**1份**，每次强化其中某一个属性，则那个属性**份数加1**。\n",
    "假定每一次强化都是一次独立的概率计算，概率只和强化前各属性**份数**相关：\n",
    "* 副属性满4条时，下一次**强化在x属性的概率=x的份数/总份数**\n",
    "* 副属性不满4条时，额外定义**未出现的属性份数为1**，强化将在所有11种属性中随机（即可能出现新属性）\n",
    "\n",
    "1. 对一个已知御魂，强化到一个或多个期望状态的概率。\n",
    "2. 从初始随机n个属性的御魂强化到一个状态的概率。\n",
    "典型用例：\n",
    "1. to([1,1,1,0], [6,1,1,0])\n",
    "初始3属性，全部强化到第一个属性的概率\n",
    "2. least({1:1,2:1,3:1}, {1:4})\n",
    "初始3属性，强化第一个属性3次的概率，和平均每个御魂消耗的经验（按6星算）\n",
    "比如碰到3属性带暴击，这就是11爆的概率（默认最多强满5次）\n",
    "3. random({1:4}, n)\n",
    "初始随机n属性，强化指定一个属性3次的概率，和平均每个御魂消耗的经验（按6星算）\n",
    "另外结合6星初始属性数的概率分布，可以算出随机6星强化到特定属性3次的概率\n",
    "注意这里是指定某一个属性（比如想要11爆），并不是说任何一个属性强化3次都算成功\n",
    "4. least2({1:1,2:1,3:1,4:1}, Set({1:5,2:2},{1:5,3:2},{1:5,4:2}))\n",
    "初始4属性，强化第一个属性4次，强化另外3个属性1次的概率\n",
    "\n",
    "参数含义解释：\n",
    "数组：数字代表份数\n",
    "字典：键是0到10代表11种属性（没有语义对应关系），值代表对应的份数。\n",
    "数组长度和字典键数都不能超过4。'''"
   ]
  }
 ],
 "metadata": {
  "kernelspec": {
   "display_name": "Python 3 (ipykernel)",
   "language": "python",
   "name": "python3"
  },
  "language_info": {
   "codemirror_mode": {
    "name": "ipython",
    "version": 3
   },
   "file_extension": ".py",
   "mimetype": "text/x-python",
   "name": "python",
   "nbconvert_exporter": "python",
   "pygments_lexer": "ipython3",
   "version": "3.10.1"
  }
 },
 "nbformat": 4,
 "nbformat_minor": 2
}

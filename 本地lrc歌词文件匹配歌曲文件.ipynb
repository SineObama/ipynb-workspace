{
 "cells": [
  {
   "cell_type": "code",
   "execution_count": null,
   "id": "a3f2f2bb",
   "metadata": {
    "scrolled": true
   },
   "outputs": [],
   "source": [
    "# 换电脑后本地音乐没有直接拷贝，而是从网易云音乐云盘下载，便于和播放器关联\n",
    "# 但是歌词文件不会被保存，需要手动拷贝，恰巧将歌曲按照歌手、专辑分目录存放，不能直接拷贝所有歌词文件，而且歌曲多\n",
    "# 只能写程序匹配歌曲位置，移动歌词文件\n",
    "songLoc=r'D:\\CloudMusic'\n",
    "lrcLoc=r'D:\\已存网盘\\.lrc歌词'\n",
    "import os,shutil"
   ]
  },
  {
   "cell_type": "code",
   "execution_count": null,
   "id": "acf268c0",
   "metadata": {},
   "outputs": [],
   "source": [
    "def getFilename(name):\n",
    "    return name[:-4]"
   ]
  },
  {
   "cell_type": "code",
   "execution_count": null,
   "id": "e06ffedf",
   "metadata": {},
   "outputs": [],
   "source": [
    "musicName={}\n",
    "for r,d,f in os.walk(lrcLoc):\n",
    "    for file in f:\n",
    "        musicName[getFilename(file)] = r + '\\\\' + file"
   ]
  },
  {
   "cell_type": "code",
   "execution_count": null,
   "id": "094d83f7",
   "metadata": {},
   "outputs": [],
   "source": [
    "for r,d,f in os.walk(songLoc):\n",
    "    for file in f:\n",
    "        if musicName.get(getFilename(file)):\n",
    "            shutil.move(musicName[getFilename(file)], r + '\\\\' + os.path.basename(musicName[getFilename(file)]))"
   ]
  }
 ],
 "metadata": {
  "kernelspec": {
   "display_name": "Python 3 (ipykernel)",
   "language": "python",
   "name": "python3"
  },
  "language_info": {
   "codemirror_mode": {
    "name": "ipython",
    "version": 3
   },
   "file_extension": ".py",
   "mimetype": "text/x-python",
   "name": "python",
   "nbconvert_exporter": "python",
   "pygments_lexer": "ipython3",
   "version": "3.10.1"
  }
 },
 "nbformat": 4,
 "nbformat_minor": 5
}

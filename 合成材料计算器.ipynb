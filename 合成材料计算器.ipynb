{
 "cells": [
  {
   "cell_type": "code",
   "execution_count": 59,
   "metadata": {},
   "outputs": [],
   "source": [
    "import math\n",
    "with open(\"mc2.txt\", \"r\", encoding='utf-8') as f:\n",
    "    data = f.readlines()\n",
    "\n",
    "table=[]\n",
    "for line in data:\n",
    "    cols = line.split('\\t')\n",
    "    inputs=[]\n",
    "    for i in range(1, 7):\n",
    "        if cols[i]:\n",
    "            inputs.append({'name':cols[i], 'count':int(cols[i+6])})\n",
    "    outputs=[]\n",
    "    for i in range(13, 15):\n",
    "        if cols[i]:\n",
    "            outputs.append({'name':cols[i], 'count':int(cols[i+4])})\n",
    "    rule = {\n",
    "        'tool': cols[0],\n",
    "        'inputs': inputs,\n",
    "        'outputs': outputs\n",
    "    }\n",
    "    table.append(rule)\n",
    "\n",
    "def countAll(table, opened):\n",
    "    tableMap = {} # 索引合成规则\n",
    "    toolMap = {} # 索引工具\n",
    "    for item in table:\n",
    "        tableMap[item['outputs'][0]['name']] = item\n",
    "        \n",
    "    # 开始计算\n",
    "    while True:\n",
    "        found = False\n",
    "        currentList = list(opened)\n",
    "        opened.clear()\n",
    "        for item in currentList:\n",
    "            if item['name'] not in tableMap:\n",
    "                opened.append(item)\n",
    "                continue\n",
    "            found = True\n",
    "            rule = tableMap[item['name']]\n",
    "            if rule['tool'] not in toolMap:\n",
    "                toolMap[rule['tool']] = 1\n",
    "                opened.append({'name': rule['tool'], 'count':1})\n",
    "            time = math.ceil(item['count'] / rule['outputs'][0]['count'])\n",
    "            for inputItem in rule['inputs']:\n",
    "                opened.append({'name':inputItem['name'], 'count':inputItem['count']*time})\n",
    "        if not found:\n",
    "            break\n",
    "            \n",
    "    # 数据合并\n",
    "    merged = {}\n",
    "    for item in opened:\n",
    "        if item['name'] not in merged:\n",
    "            merged[item['name']]  = {'name':item['name'], 'count':item['count']}\n",
    "        else:\n",
    "            merged[item['name']]['count'] += item['count']\n",
    "    return list(merged.values())"
   ]
  },
  {
   "cell_type": "code",
   "execution_count": 67,
   "metadata": {},
   "outputs": [
    {
     "data": {
      "text/plain": [
       "[{'name': '手', 'count': 1},\n",
       " {'name': '木板', 'count': 19},\n",
       " {'name': '橡胶', 'count': 1158},\n",
       " {'name': '铜锭', 'count': 595},\n",
       " {'name': '红石粉', 'count': 979},\n",
       " {'name': '精炼铁锭', 'count': 1215},\n",
       " {'name': '铁锭', 'count': 57},\n",
       " {'name': '金锭', 'count': 2},\n",
       " {'name': '银锭', 'count': 2},\n",
       " {'name': '铝粉', 'count': 4},\n",
       " {'name': '黑色染料', 'count': 4},\n",
       " {'name': '玻璃板', 'count': 1},\n",
       " {'name': '萤石粉', 'count': 130},\n",
       " {'name': '青金石', 'count': 130},\n",
       " {'name': '煤粉', 'count': 352},\n",
       " {'name': '熔炉', 'count': 1},\n",
       " {'name': '合金锭', 'count': 64},\n",
       " {'name': '圆石', 'count': 24},\n",
       " {'name': '铂锭', 'count': 12},\n",
       " {'name': '燧石', 'count': 6},\n",
       " {'name': '绿宝石', 'count': 6},\n",
       " {'name': '青金石粉', 'count': 30},\n",
       " {'name': 'silicon', 'count': 10},\n",
       " {'name': '殷钢锭', 'count': 4},\n",
       " {'name': '木龙头', 'count': 24},\n",
       " {'name': '石头', 'count': 30},\n",
       " {'name': '钻石', 'count': 12},\n",
       " {'name': '锡锭', 'count': 24},\n",
       " {'name': '镍粉', 'count': 16},\n",
       " {'name': '钨粉', 'count': 10},\n",
       " {'name': '钢锭', 'count': 98},\n",
       " {'name': '钻石粉', 'count': 12},\n",
       " {'name': '铱矿石', 'count': 16},\n",
       " {'name': '水', 'count': 16000},\n",
       " {'name': '火药', 'count': 160},\n",
       " {'name': '沙子', 'count': 128},\n",
       " {'name': '玻璃', 'count': 7},\n",
       " {'name': '铅锭', 'count': 2},\n",
       " {'name': '铬粉', 'count': 20},\n",
       " {'name': '小堆钛粉', 'count': 32}]"
      ]
     },
     "execution_count": 67,
     "metadata": {},
     "output_type": "execute_result"
    }
   ],
   "source": [
    "countAll(table, [{'name':'量子护腿','count':1}])"
   ]
  },
  {
   "cell_type": "code",
   "execution_count": 60,
   "metadata": {
    "scrolled": true
   },
   "outputs": [
    {
     "data": {
      "text/plain": [
       "[{'name': '手', 'count': 1},\n",
       " {'name': '木板', 'count': 19},\n",
       " {'name': '橡胶', 'count': 1182},\n",
       " {'name': '铜锭', 'count': 607},\n",
       " {'name': '红石粉', 'count': 987},\n",
       " {'name': '精炼铁锭', 'count': 1227},\n",
       " {'name': '铁锭', 'count': 57},\n",
       " {'name': '金锭', 'count': 2},\n",
       " {'name': '银锭', 'count': 2},\n",
       " {'name': '铝粉', 'count': 8},\n",
       " {'name': '黑色染料', 'count': 4},\n",
       " {'name': '玻璃板', 'count': 1},\n",
       " {'name': '萤石粉', 'count': 130},\n",
       " {'name': '青金石', 'count': 130},\n",
       " {'name': '煤粉', 'count': 352},\n",
       " {'name': '熔炉', 'count': 1},\n",
       " {'name': '合金锭', 'count': 64},\n",
       " {'name': '圆石', 'count': 24},\n",
       " {'name': '铂锭', 'count': 12},\n",
       " {'name': '燧石', 'count': 6},\n",
       " {'name': '绿宝石', 'count': 6},\n",
       " {'name': '青金石粉', 'count': 30},\n",
       " {'name': 'silicon', 'count': 10},\n",
       " {'name': '殷钢锭', 'count': 4},\n",
       " {'name': '木龙头', 'count': 24},\n",
       " {'name': '石头', 'count': 30},\n",
       " {'name': '钻石', 'count': 20},\n",
       " {'name': '锡锭', 'count': 24},\n",
       " {'name': '镍粉', 'count': 16},\n",
       " {'name': '钨粉', 'count': 10},\n",
       " {'name': '钢锭', 'count': 98},\n",
       " {'name': '钻石粉', 'count': 12},\n",
       " {'name': '铱矿石', 'count': 16},\n",
       " {'name': '水', 'count': 16000},\n",
       " {'name': '火药', 'count': 160},\n",
       " {'name': '沙子', 'count': 128},\n",
       " {'name': '玻璃', 'count': 7},\n",
       " {'name': '铅锭', 'count': 10},\n",
       " {'name': '铬粉', 'count': 20},\n",
       " {'name': '小堆钛粉', 'count': 48},\n",
       " {'name': 'Lithium', 'count': 4},\n",
       " {'name': '木棍', 'count': 1}]"
      ]
     },
     "execution_count": 60,
     "metadata": {},
     "output_type": "execute_result"
    }
   ],
   "source": [
    "countAll(table, [{'name':'量子护腿','count':1},{'name':'万能工具','count':1}])"
   ]
  },
  {
   "cell_type": "code",
   "execution_count": 50,
   "metadata": {},
   "outputs": [
    {
     "data": {
      "text/plain": [
       "[{'name': '手', 'count': 1},\n",
       " {'name': '木板', 'count': 19},\n",
       " {'name': '钻石', 'count': 8},\n",
       " {'name': '橡胶', 'count': 516},\n",
       " {'name': '铜锭', 'count': 274},\n",
       " {'name': '红石粉', 'count': 209},\n",
       " {'name': '精炼铁锭', 'count': 624},\n",
       " {'name': '铁锭', 'count': 53},\n",
       " {'name': '金锭', 'count': 2},\n",
       " {'name': '银锭', 'count': 2},\n",
       " {'name': '铝粉', 'count': 8},\n",
       " {'name': '黑色染料', 'count': 4},\n",
       " {'name': '玻璃板', 'count': 1},\n",
       " {'name': '萤石粉', 'count': 12},\n",
       " {'name': '青金石', 'count': 12},\n",
       " {'name': '煤粉', 'count': 32},\n",
       " {'name': '熔炉', 'count': 1},\n",
       " {'name': '合金锭', 'count': 4},\n",
       " {'name': '圆石', 'count': 20},\n",
       " {'name': '石头', 'count': 18},\n",
       " {'name': 'Lithium', 'count': 4},\n",
       " {'name': '镍粉', 'count': 16},\n",
       " {'name': '小堆钛粉', 'count': 16},\n",
       " {'name': '铅锭', 'count': 8},\n",
       " {'name': '木棍', 'count': 1}]"
      ]
     },
     "execution_count": 50,
     "metadata": {},
     "output_type": "execute_result"
    }
   ],
   "source": [
    "countAll(table, [{'name':'万能工具','count':1}])"
   ]
  },
  {
   "cell_type": "code",
   "execution_count": null,
   "metadata": {},
   "outputs": [],
   "source": []
  }
 ],
 "metadata": {
  "kernelspec": {
   "display_name": "Python3.7",
   "language": "python",
   "name": "python3.7"
  },
  "language_info": {
   "codemirror_mode": {
    "name": "ipython",
    "version": 3
   },
   "file_extension": ".py",
   "mimetype": "text/x-python",
   "name": "python",
   "nbconvert_exporter": "python",
   "pygments_lexer": "ipython3",
   "version": "3.7.2"
  }
 },
 "nbformat": 4,
 "nbformat_minor": 2
}

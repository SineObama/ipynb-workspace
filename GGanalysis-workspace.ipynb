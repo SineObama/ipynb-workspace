{
 "cells": [
  {
   "cell_type": "code",
   "execution_count": null,
   "id": "9095a6e7",
   "metadata": {},
   "outputs": [],
   "source": [
    "# 绘图前需要安装 matplotlib 以及需要的字体包\n",
    "import GGanalysis.games.genshin_impact as GI\n",
    "# 获得原神抽一个UP五星角色+定轨抽特定UP五星武器的分布\n",
    "# 五星角色（up_5star_character）：垫了item_pity抽，有大保底则up_pity=1，否则0，抽item_num个UP五星，捕获明光计数cr_pity是0-3好像\n",
    "# 五星武器（up_5star_ep_weapon）同理\n",
    "dist = GI.up_5star_character(item_num=1, item_pity=0, up_pity=0, cr_pity=1) * GI.up_5star_ep_weapon(item_num=0, item_pity=0, up_pity=0)\n",
    "from GGanalysis.gacha_plot import DrawDistribution# 导入绘图模块\n",
    "fig = DrawDistribution(dist, show_description=True)\n",
    "fig.show_two_graph(dpi=72)"
   ]
  },
  {
   "cell_type": "code",
   "execution_count": null,
   "id": "2cf8ebb8",
   "metadata": {
    "scrolled": false
   },
   "outputs": [],
   "source": [
    "#投入k抽，能抽到道具个数的分布\n",
    "#https://github.com/OneBST/GGanalysis/issues/37#issuecomment-2417311734\n",
    "import GGanalysis.games.genshin_impact as GI\n",
    "import numpy as np\n",
    "from GGanalysis import *\n",
    "k = 440\n",
    "# 计算获得 0-k 个道具所需抽数分布并以列表形式返回，因为原神 360 抽几乎不能抽超过10个UP五星，因此设置为10以减小计算量\n",
    "distributions = GI.up_5star_character(10, multi_dist=True)\n",
    "# 获得能得到道具数量的分布，其中最末尾分布表示大于等于这个数量道具数的和\n",
    "item_num_dist = calc_item_num_dist(distributions, k)\n",
    "# 画图，参考 https://blog.csdn.net/qq_52057693/article/details/121464137\n",
    "from matplotlib import pyplot as plt\n",
    "#plt.figure(figsize=(20,8),dpi=150)        #图片大小为20*8，每英寸150个像素点\n",
    "plt.fill_between(range(len(item_num_dist)), 0, item_num_dist[:], alpha=0.5, step='mid', edgecolor='none')\n",
    "plt.step(range(len(item_num_dist)), item_num_dist[:], where='mid')\n",
    "plt.xticks(range(len(item_num_dist))) #x轴刻度\n",
    "plt.show()"
   ]
  },
  {
   "cell_type": "code",
   "execution_count": null,
   "id": "4436c63c",
   "metadata": {},
   "outputs": [],
   "source": [
    "# 计算抽卡所需抽数分布律 以原神为例\n",
    "import GGanalysis.games.genshin_impact as GI\n",
    "# 原神角色池的计算\n",
    "print('角色池在垫了20抽，有大保底的情况下抽3个UP五星抽数的分布')\n",
    "dist_c = GI.up_5star_character(item_num=3, item_pity=20, up_pity=1, cr_pity=1)\n",
    "print('期望为', dist_c.exp, '方差为', dist_c.var, '分布为', dist_c.dist)\n",
    "\n",
    "# 计算抽卡所需抽数分布律 以明日方舟为例\n",
    "import GGanalysis.games.arknights as AK\n",
    "# 普池双UP的计算 item_num是要抽多少个 item_pity是当前垫了多少抽，从零开始填0就行\n",
    "dist_c = AK.dual_up_specific_6star(item_num=3, item_pity=20)\n",
    "print('期望为', dist_c.exp, '方差为', dist_c.var, '分布为', dist_c.dist)"
   ]
  },
  {
   "cell_type": "code",
   "execution_count": null,
   "id": "8ff9a602",
   "metadata": {},
   "outputs": [],
   "source": [
    "# 崩坏：星穹铁道角色池的计算\n",
    "import GGanalysis.games.honkai_star_rail as SR\n",
    "dist = SR.up_5star_character(item_num=7, item_pity=0, up_pity=0) * SR.up_5star_weapon(item_num=0, item_pity=0, up_pity=0)\n",
    "from GGanalysis.gacha_plot import DrawDistribution# 导入绘图模块\n",
    "fig = DrawDistribution(dist, show_description=True)\n",
    "fig.show_two_graph(dpi=72)\n",
    "cdf=dist.dist.cumsum()\n",
    "x=1000\n",
    "if x < len(cdf):\n",
    "    print(x, '抽累进概率', cdf[x])"
   ]
  },
  {
   "cell_type": "code",
   "execution_count": null,
   "id": "fe3c9e0b",
   "metadata": {},
   "outputs": [],
   "source": [
    "#计算简化版的：投入k抽，能抽到道具个数的分布\n",
    "#https://github.com/OneBST/GGanalysis/issues/79#issuecomment-2851184692\n",
    "import GGanalysis.games.genshin_impact as GI\n",
    "import GGanalysis as gg\n",
    "pull = 1000\n",
    "c_dist = GI.up_5star_character(1, item_pity=30, up_pity=1)  # 这里设定了初始情况有大保底，垫了30抽，可以去除\n",
    "f_dist = GI.up_5star_character(1)\n",
    "# 得到花费 1000 抽对应获取道具数量分布的列表\n",
    "dist_num_check = gg.independent_item_num_dist(f_dist, pull, c_dist, multi_dist=False)\n",
    "# 得到花费 0-1000 抽对应获取道具数量分布的列表\n",
    "dist_num_check = gg.independent_item_num_dist(f_dist, pull, c_dist, multi_dist=True)"
   ]
  }
 ],
 "metadata": {
  "kernelspec": {
   "display_name": "Python 3 (ipykernel)",
   "language": "python",
   "name": "python3"
  },
  "language_info": {
   "codemirror_mode": {
    "name": "ipython",
    "version": 3
   },
   "file_extension": ".py",
   "mimetype": "text/x-python",
   "name": "python",
   "nbconvert_exporter": "python",
   "pygments_lexer": "ipython3",
   "version": "3.10.1"
  }
 },
 "nbformat": 4,
 "nbformat_minor": 5
}

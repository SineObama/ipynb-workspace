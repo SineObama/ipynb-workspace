{
 "cells": [
  {
   "cell_type": "code",
   "execution_count": 2,
   "metadata": {
    "collapsed": true
   },
   "outputs": [],
   "source": [
    "# encoding: UTF-8\n",
    "from Queue import Queue, Empty\n",
    "from sine.threads import ReStartableThread\n",
    "\n",
    "class EventManager:\n",
    "    '''\n",
    "    以 key 为键标识每个事件，对一个 key 可以添加或移除多个监听器。\n",
    "    发布事件时传入 key 和数据 data ，后者将会传给监听器。\n",
    "    '''\n",
    "    def __init__(self):\n",
    "        self._eventQueue = Queue()\n",
    "        self._listenThread = ReStartableThread(target = self._run)\n",
    "        # 保存对应的事件的响应函数，每个键对应一个集合\n",
    "        self._map = {}\n",
    "\n",
    "    def _run(self, stop_event):\n",
    "        while True:\n",
    "            try:\n",
    "                event = self._eventQueue.get(block = True, timeout = 0.1)\n",
    "                if stop_event.is_set():\n",
    "                    return\n",
    "                self._process(event)\n",
    "            except Empty:\n",
    "                pass\n",
    "\n",
    "    def _process(self, event):\n",
    "        try:\n",
    "            for listener in self._map[event[0]]:\n",
    "                listener(event[1])\n",
    "        except KeyError:\n",
    "            pass\n",
    "\n",
    "    def start(self):\n",
    "        '''开始事件监听。'''\n",
    "        self._listenThread.start()\n",
    "\n",
    "    def stop(self):\n",
    "        '''停止事件监听。'''\n",
    "        self._listenThread.stop()\n",
    "    \n",
    "    def clear(self):\n",
    "        '''清空事件。'''\n",
    "        self._eventQueue.queue.clear()\n",
    "\n",
    "    def addListener(self, key, listener):\n",
    "        self._map.setdefault(key, set()).add(listener)\n",
    "            \n",
    "    def removeListener(self, key, listener):\n",
    "        try:\n",
    "            self._map[key].remove(listener)\n",
    "        except KeyError:\n",
    "            pass\n",
    "        \n",
    "    def sendEvent(self, key, data=None):\n",
    "        '''发布事件。以 key 标识；data 为数据，将会传给监听器。'''\n",
    "        self._eventQueue.put((key, data))\n"
   ]
  }
 ],
 "metadata": {
  "kernelspec": {
   "display_name": "Python 2",
   "language": "python",
   "name": "python2"
  },
  "language_info": {
   "codemirror_mode": {
    "name": "ipython",
    "version": 2
   },
   "file_extension": ".py",
   "mimetype": "text/x-python",
   "name": "python",
   "nbconvert_exporter": "python",
   "pygments_lexer": "ipython2",
   "version": "2.7.13"
  }
 },
 "nbformat": 4,
 "nbformat_minor": 2
}

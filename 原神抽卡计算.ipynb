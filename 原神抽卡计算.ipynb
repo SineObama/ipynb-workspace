{
 "cells": [
  {
   "cell_type": "code",
   "execution_count": 2,
   "metadata": {},
   "outputs": [],
   "source": [
    "import random"
   ]
  },
  {
   "cell_type": "code",
   "execution_count": 81,
   "metadata": {},
   "outputs": [],
   "source": [
    "n=0\n",
    "l4=0\n",
    "l5=0\n",
    "p4=0.051\n",
    "p5=0.006\n",
    "pbd44=p4/(p4+p5)\n",
    "pbd45=p5/(p4+p5)\n",
    "c4=0\n",
    "c5=0"
   ]
  },
  {
   "cell_type": "code",
   "execution_count": 93,
   "metadata": {},
   "outputs": [],
   "source": [
    "n=0\n",
    "l4=0\n",
    "l5=0\n",
    "p4=0.051\n",
    "p5=0.006\n",
    "pbd44=0.955\n",
    "pbd45=0.045\n",
    "c4=0\n",
    "c5=0"
   ]
  },
  {
   "cell_type": "code",
   "execution_count": 94,
   "metadata": {},
   "outputs": [
    {
     "name": "stdout",
     "output_type": "stream",
     "text": [
      "1000000 11.5748 1.6028\n",
      "2000000 11.59805 1.60285\n",
      "3000000 11.595266666666666 1.6038666666666666\n",
      "4000000 11.59835 1.6036249999999999\n",
      "5000000 11.60278 1.6029200000000001\n",
      "6000000 11.60215 1.6015833333333334\n",
      "7000000 11.601557142857143 1.6004857142857143\n",
      "8000000 11.60015 1.6011625\n",
      "9000000 11.598066666666666 1.601088888888889\n",
      "10000000 11.59949 1.59978\n"
     ]
    }
   ],
   "source": [
    "while n < 10000000:\n",
    "    n+=1\n",
    "    if n - l5 >= 90:\n",
    "        l5 = n\n",
    "        l4 = n\n",
    "        c5+=1\n",
    "        continue\n",
    "    if n - l4 >= 10:\n",
    "        p = random.random()\n",
    "        if p < pbd45:\n",
    "            l5 = n\n",
    "            l4 = n\n",
    "            c5+=1\n",
    "        else:\n",
    "            l4 = n\n",
    "            c4+=1\n",
    "        continue\n",
    "    p = random.random()\n",
    "    if p < p5:\n",
    "        l5 = n\n",
    "        l4 = n\n",
    "        c5+=1\n",
    "    elif p < p5 + p4:\n",
    "        l4 = n\n",
    "        c4+=1\n",
    "    if n % 1000000 == 0:\n",
    "        print(n, c4/n*100, c5/n*100)"
   ]
  },
  {
   "cell_type": "code",
   "execution_count": null,
   "metadata": {},
   "outputs": [],
   "source": []
  }
 ],
 "metadata": {
  "kernelspec": {
   "display_name": "Python3.7",
   "language": "python",
   "name": "python3.7"
  },
  "language_info": {
   "codemirror_mode": {
    "name": "ipython",
    "version": 3
   },
   "file_extension": ".py",
   "mimetype": "text/x-python",
   "name": "python",
   "nbconvert_exporter": "python",
   "pygments_lexer": "ipython3",
   "version": "3.7.2"
  }
 },
 "nbformat": 4,
 "nbformat_minor": 2
}

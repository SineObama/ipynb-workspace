{
 "cells": [
  {
   "cell_type": "code",
   "execution_count": 1,
   "metadata": {
    "collapsed": true
   },
   "outputs": [],
   "source": [
    "import numpy as np\n",
    "import matplotlib.pyplot as plt\n",
    "from sklearn import mixture\n",
    "from numpy import random\n",
    "import scipy"
   ]
  },
  {
   "cell_type": "code",
   "execution_count": 2,
   "metadata": {
    "collapsed": false
   },
   "outputs": [],
   "source": [
    "# 参数设置\n",
    "mean1 = [0, 0]\n",
    "cov1 = [[6, 0], [0, 6]]\n",
    "mean2 = [1, 1]\n",
    "cov2 = [[3, -1], [-1, 1]]\n",
    "mean3 = [1, -1]\n",
    "cov3 = [[1, 1], [1, 3]]\n",
    "\n",
    "# 对协方差缩放\n",
    "coe = 0.1\n",
    "cov1 = np.dot(cov1, coe)\n",
    "cov2 = np.dot(cov2, coe)\n",
    "cov3 = np.dot(cov3, coe)"
   ]
  },
  {
   "cell_type": "code",
   "execution_count": 3,
   "metadata": {
    "collapsed": true
   },
   "outputs": [],
   "source": [
    "# 随机生成\n",
    "x1, y1 = np.random.multivariate_normal(mean1, cov1, 100).T\n",
    "point_x = []\n",
    "point_y = []\n",
    "for i in range(100):\n",
    "    prob = random.random()\n",
    "    if (prob >= 0.5):\n",
    "        x, y = np.random.multivariate_normal(mean2, cov2, 1).T\n",
    "    else:\n",
    "        x, y = np.random.multivariate_normal(mean3, cov3, 1).T\n",
    "    point_x.append(x[0])\n",
    "    point_y.append(y[0])"
   ]
  },
  {
   "cell_type": "code",
   "execution_count": 4,
   "metadata": {
    "collapsed": false,
    "scrolled": true
   },
   "outputs": [
    {
     "data": {
      "image/png": "[encoded data removed]",
      "text/plain": [
       "<Figure size 432x288 with 1 Axes>"
      ]
     },
     "metadata": {
      "needs_background": "light"
     },
     "output_type": "display_data"
    }
   ],
   "source": [
    "# 计算“区域”点，按行归档\n",
    "boundary_x = []\n",
    "boundary_y = []\n",
    "margin = 1\n",
    "factor = 10 # 散点间隔的细分程度\n",
    "radius = 3 # 地图半径\n",
    "threshold = 0.45 # 区域点的阈值\n",
    "rows = {} # 键为y坐标，值为x的数组\n",
    "for ii in range(-radius * factor, radius * factor, 1):\n",
    "    for jj in range(-radius * factor, radius * factor, 1):\n",
    "        count1 = 0\n",
    "        count2 = 0\n",
    "        i = ii / factor\n",
    "        j = jj / factor\n",
    "        points = rows.setdefault(j, [])\n",
    "        for m in range(100):\n",
    "            if ((x1[m] <= i + margin and x1[m] >= i - margin) and (y1[m] <= j + margin and y1[m] >= j - margin)):\n",
    "                count1 += 1\n",
    "        for m in range(100):\n",
    "            if ((point_x[m] <= i + margin and point_x[m] >= i - margin) and (point_y[m] <= j + margin and point_y[m] >= j - margin)):\n",
    "                count2 += 1\n",
    "        if count1 + count2 == 0:\n",
    "            continue\n",
    "        if (count1 / (count1+count2) > threshold and count2 / (count1+count2) > threshold):\n",
    "            boundary_x.append(i)\n",
    "            boundary_y.append(j)\n",
    "            points.append(i)\n",
    "plt.plot(x1, y1, 'o')\n",
    "plt.plot(point_x, point_y, 'x', color='r')\n",
    "plt.plot(boundary_x, boundary_y, 'x', color='y')\n",
    "plt.plot([0,1], [1,0], 'o')\n",
    "plt.show()"
   ]
  },
  {
   "cell_type": "code",
   "execution_count": 5,
   "metadata": {
    "collapsed": false
   },
   "outputs": [],
   "source": [
    "# 简单把间隔超过阈值的划分为不同区域，计算每个区域的中点作为最终连线的点\n",
    "max_gap = 0.8\n",
    "bpoints = {} # 键为y坐标\n",
    "for (k, v) in rows.items():\n",
    "    start = 0\n",
    "    bpoints[k] = []\n",
    "    for i in range(1, len(v) + 1):\n",
    "        if i == len(v) or v[i] - v[i - 1] > max_gap:\n",
    "            bpoints[k].append(np.mean(v[start:i]))\n",
    "            start = i"
   ]
  },
  {
   "cell_type": "code",
   "execution_count": 6,
   "metadata": {
    "collapsed": false
   },
   "outputs": [],
   "source": [
    "# （按行）对连线点分组为若干个线段\n",
    "max_gap_x = 0.8\n",
    "max_gap_y = 0.2\n",
    "lines = []\n",
    "for jj in range(-radius * factor, radius * factor, 1):\n",
    "    jj /= factor\n",
    "    for x in bpoints[jj]:\n",
    "        alines = [] # 符合条件的线段\n",
    "        for line in lines:\n",
    "            if abs(line[-1][0] - x) <= max_gap_x and abs(line[-1][1] - jj) <= max_gap_y:\n",
    "                alines.append(line)\n",
    "        if len(alines) > 1: # 处理多个符合条件的情况，取x间隔小的\n",
    "            index = 0\n",
    "            mingapx = 999\n",
    "            for i in range(len(alines)):\n",
    "                factor = abs(alines[i][-1][0] - x)\n",
    "                if mingapx > factor:\n",
    "                    mingapx = factor\n",
    "                    index = i\n",
    "            alines = [alines[index]]\n",
    "        if len(alines) == 0:\n",
    "            lines.append([(x, jj)])\n",
    "        else:\n",
    "            alines[0].append((x, jj))"
   ]
  },
  {
   "cell_type": "code",
   "execution_count": 7,
   "metadata": {
    "collapsed": false
   },
   "outputs": [],
   "source": [
    "# 暂且选出最长的线段\n",
    "cline = []\n",
    "maxlen = 0\n",
    "for line in lines:\n",
    "    length = len(line)\n",
    "    if maxlen < length:\n",
    "        maxlen = length\n",
    "        cline = line"
   ]
  },
  {
   "cell_type": "code",
   "execution_count": 8,
   "metadata": {
    "collapsed": false
   },
   "outputs": [],
   "source": [
    "# 为线段在y方向上做垂直延长\n",
    "for j in range(-radius * factor, radius * factor, 1):\n",
    "    jj = j / factor\n",
    "    found = False\n",
    "    for x, y in cline:\n",
    "        if y == jj:\n",
    "            found = True\n",
    "            break\n",
    "    if found:\n",
    "        for y in range(j - 1, -radius * factor - 1, -1):\n",
    "            cline.insert(0, (x, y / factor))\n",
    "        break\n",
    "for j in range(radius * factor - 1, -radius * factor - 1, -1):\n",
    "    jj = j / factor\n",
    "    found = False\n",
    "    for x, y in cline:\n",
    "        if y == jj:\n",
    "            found = True\n",
    "            break\n",
    "    if found:\n",
    "        for y in range(j + 1, radius * factor, 1):\n",
    "            cline.append((x, y / factor))\n",
    "        break"
   ]
  },
  {
   "cell_type": "code",
   "execution_count": 9,
   "metadata": {
    "collapsed": true
   },
   "outputs": [],
   "source": [
    "# 暂且把y映射到x，拟合为多项式\n",
    "x_list = []\n",
    "y_list = []\n",
    "\n",
    "for x, y in cline:\n",
    "    x_list.append(x)\n",
    "    y_list.append(y)\n",
    "\n",
    "degree = 8 # 多项式次数\n",
    "c = np.polyfit(y_list, x_list, degree) # 多项式系数\n",
    "def y2x(y):\n",
    "    s = 0\n",
    "    for i in range(len(c)):\n",
    "        s += y ** (degree - i) * c[i]\n",
    "    return s"
   ]
  },
  {
   "cell_type": "code",
   "execution_count": 10,
   "metadata": {
    "collapsed": false,
    "scrolled": true
   },
   "outputs": [
    {
     "data": {
      "image/png": "[encoded data removed]",
      "text/plain": [
       "<Figure size 432x288 with 1 Axes>"
      ]
     },
     "metadata": {
      "needs_background": "light"
     },
     "output_type": "display_data"
    }
   ],
   "source": [
    "# 取坐标点y的极值作为边界，画出拟合线\n",
    "x_list = []\n",
    "y_list = []\n",
    "\n",
    "min_y = min(np.append(y1, point_y))\n",
    "max_y = max(np.append(y1, point_y))\n",
    "for jj in range(-radius * factor, radius * factor, 1):\n",
    "    jj /= factor\n",
    "    if jj >= min_y and jj <= max_y:\n",
    "        y_list.append(jj)\n",
    "        x_list.append(y2x(jj))\n",
    "\n",
    "# 画线：linewidth指定连线宽度，alpha指定连线的透明度\n",
    "ax = plt.gca()\n",
    "ax.plot(x_list, y_list, color='r', linewidth=1, alpha=1)\n",
    "\n",
    "plt.plot(x1, y1, 'o')\n",
    "plt.plot(point_x, point_y, 'x', color='r')\n",
    "plt.plot(x_list, y_list, 'x', color='y')\n",
    "\n",
    "plt.show()"
   ]
  },
  {
   "cell_type": "code",
   "execution_count": null,
   "metadata": {
    "collapsed": true
   },
   "outputs": [],
   "source": []
  }
 ],
 "metadata": {
  "kernelspec": {
   "display_name": "Python 3",
   "language": "python",
   "name": "python3"
  },
  "language_info": {
   "codemirror_mode": {
    "name": "ipython",
    "version": 3
   },
   "file_extension": ".py",
   "mimetype": "text/x-python",
   "name": "python",
   "nbconvert_exporter": "python",
   "pygments_lexer": "ipython3",
   "version": "3.4.4"
  }
 },
 "nbformat": 4,
 "nbformat_minor": 2
}

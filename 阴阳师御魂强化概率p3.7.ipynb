{
 "cells": [
  {
   "cell_type": "markdown",
   "metadata": {},
   "source": [
    "## 简述\n",
    "\n",
    "提供手游阴阳师中御魂强化的一些概率计算，计算方式由本人经验得出（后在nga上也有其他人得到相同结论）。\n",
    "\n",
    "1. 对一个已知御魂，强化到一个或多个期望状态的概率。\n",
    "2. 从初始随机n个属性的御魂强化到一个状态的概率。\n",
    "\n",
    "## 定义\n",
    "\n",
    "御魂强化前，定义每个副属性都有**1份**，每次强化其中某一个属性，则那个属性**份数加1**。\n",
    "\n",
    "## 基础概率计算\n",
    "\n",
    "假定每一次强化都是一次独立的概率计算，概率只和强化前各属性**份数**相关：\n",
    "\n",
    "* 副属性满4条时，下一次**强化在x属性的概率=x的份数/总份数**\n",
    "* 副属性不满4条时，额外定义**未出现的属性份数为1**，强化将在所有11种属性中随机（即可能出现新属性）\n",
    "\n",
    "## 例子\n",
    "\n",
    "1. to([1,1,1,0], [6,1,1,0])\n",
    "初始3属性，全部强化到第一个属性的概率\n",
    "2. least({1:1,2:1,3:1}, {1:4}, t=5)\n",
    "初始3属性，(5次后)第一个属性强化3次的概率，和平均每个御魂消耗的经验（按6星算）\n",
    "比如碰到3属性带暴击，这就是11爆的概率\n",
    "3. random({1:4}, n, t=5)\n",
    "初始随机n属性，(5次后)指定一个属性强化3次的概率，和平均每个御魂消耗的经验（按6星算）\n",
    "4. least({1:1,2:1,3:1,4:1}, Set({1:5,2:2},{1:5,3:2},{1:5,4:2}))\n",
    "初始4属性，强化第一个属性4次，强化另外3个属性1次的概率\n",
    "5. buy({1:5})\n",
    "随机御魂，指定属性强化4次的概率\n",
    "\n",
    "参数含义解释：\n",
    "数组：数字代表份数\n",
    "字典：键是0到10代表11种属性（没有语义对应关系），值代表对应的份数。\n",
    "数组长度和字典键数都不能超过4。"
   ]
  },
  {
   "cell_type": "code",
   "execution_count": 1,
   "metadata": {},
   "outputs": [],
   "source": [
    "from sine.mitama import *"
   ]
  },
  {
   "cell_type": "code",
   "execution_count": null,
   "metadata": {},
   "outputs": [],
   "source": [
    "least()"
   ]
  },
  {
   "cell_type": "code",
   "execution_count": 3,
   "metadata": {},
   "outputs": [
    {
     "data": {
      "text/plain": [
       "(2.5974%, 31090)"
      ]
     },
     "execution_count": 3,
     "metadata": {},
     "output_type": "execute_result"
    }
   ],
   "source": [
    "random({1:5},4)"
   ]
  },
  {
   "cell_type": "code",
   "execution_count": 4,
   "metadata": {},
   "outputs": [
    {
     "data": {
      "text/plain": [
       "Fraction(2, 5)"
      ]
     },
     "execution_count": 4,
     "metadata": {},
     "output_type": "execute_result"
    }
   ],
   "source": [
    "random({1:5},4)[0]/random({1:4},4)[0]"
   ]
  }
 ],
 "metadata": {
  "kernelspec": {
   "display_name": "Python3.7",
   "language": "python",
   "name": "python3.7"
  },
  "language_info": {
   "codemirror_mode": {
    "name": "ipython",
    "version": 3
   },
   "file_extension": ".py",
   "mimetype": "text/x-python",
   "name": "python",
   "nbconvert_exporter": "python",
   "pygments_lexer": "ipython3",
   "version": "3.7.2"
  }
 },
 "nbformat": 4,
 "nbformat_minor": 2
}

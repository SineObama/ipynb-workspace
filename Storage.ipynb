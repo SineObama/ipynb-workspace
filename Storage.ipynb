{
 "cells": [
  {
   "cell_type": "code",
   "execution_count": 1,
   "metadata": {},
   "outputs": [],
   "source": [
    "import sine.utils"
   ]
  },
  {
   "cell_type": "code",
   "execution_count": 2,
   "metadata": {
    "scrolled": true
   },
   "outputs": [
    {
     "name": "stdout",
     "output_type": "stream",
     "text": [
      "Help on package sine.utils in sine:\n",
      "\n",
      "NAME\n",
      "    sine.utils - this is a warpped module.\n",
      "\n",
      "DESCRIPTION\n",
      "    for infomation please see the package core\n",
      "\n",
      "PACKAGE CONTENTS\n",
      "    __meta__\n",
      "    event\n",
      "    path\n",
      "    properties\n",
      "    storage\n",
      "    testEvent\n",
      "    testPath\n",
      "    testProperties\n",
      "    testStorage\n",
      "    testThreads\n",
      "    threads\n",
      "\n",
      "SUBMODULES\n",
      "    _properties\n",
      "\n",
      "FILE\n",
      "    c:\\users\\asus\\appdata\\local\\programs\\python\\python37\\lib\\site-packages\\sine.utils-0.1.0-py3.7.egg\\sine\\utils\\__init__.py\n",
      "\n",
      "\n"
     ]
    }
   ],
   "source": [
    "help(sine.utils)"
   ]
  },
  {
   "cell_type": "code",
   "execution_count": 4,
   "metadata": {},
   "outputs": [
    {
     "data": {
      "text/plain": [
       "sine.utils.threads.StoppableThread"
      ]
     },
     "execution_count": 4,
     "metadata": {},
     "output_type": "execute_result"
    }
   ],
   "source": [
    "sine.utils.StoppableThread"
   ]
  },
  {
   "cell_type": "code",
   "execution_count": null,
   "metadata": {},
   "outputs": [],
   "source": [
    "help(sine.utils.path)"
   ]
  },
  {
   "cell_type": "code",
   "execution_count": 20,
   "metadata": {},
   "outputs": [],
   "source": [
    "f=open('clocks.csv', encoding='utf-8')"
   ]
  },
  {
   "cell_type": "code",
   "execution_count": 21,
   "metadata": {},
   "outputs": [
    {
     "data": {
      "text/plain": [
       "'1,u,1,\"WeeklyClock({\\'time\\': datetime.datetime(2019, 7, 21, 21, 45), \\'weekdays\\': \\'1234567\\', \\'msg\\': \\'日常：寄养 捐赠 地域 活动\\', \\'expired\\': False, \\'remindAhead\\': datetime.timedelta(0), \\'remindTime\\': datetime.datetime(2019, 7, 21, 21, 45), \\'on\\': True, \\'sound\\': \\'\\'})\"\\n'"
      ]
     },
     "execution_count": 21,
     "metadata": {},
     "output_type": "execute_result"
    }
   ],
   "source": [
    "f.readline()"
   ]
  },
  {
   "cell_type": "code",
   "execution_count": 19,
   "metadata": {},
   "outputs": [],
   "source": [
    "f.close()"
   ]
  },
  {
   "cell_type": "code",
   "execution_count": null,
   "metadata": {},
   "outputs": [],
   "source": [
    "import inspect"
   ]
  },
  {
   "cell_type": "code",
   "execution_count": null,
   "metadata": {},
   "outputs": [],
   "source": [
    "def f(a, b, *argss, **kwargss):\n",
    "    pass"
   ]
  },
  {
   "cell_type": "code",
   "execution_count": null,
   "metadata": {},
   "outputs": [],
   "source": [
    "def f2(a, b, *argss):\n",
    "    pass"
   ]
  },
  {
   "cell_type": "code",
   "execution_count": null,
   "metadata": {},
   "outputs": [],
   "source": [
    "s=inspect.signature(f)"
   ]
  },
  {
   "cell_type": "code",
   "execution_count": null,
   "metadata": {},
   "outputs": [],
   "source": [
    "s.parameters"
   ]
  },
  {
   "cell_type": "code",
   "execution_count": null,
   "metadata": {},
   "outputs": [],
   "source": [
    "class call:\n",
    "    def __call__(self, a):\n",
    "        pass"
   ]
  },
  {
   "cell_type": "code",
   "execution_count": null,
   "metadata": {},
   "outputs": [],
   "source": [
    "lambda *arg:2"
   ]
  },
  {
   "cell_type": "code",
   "execution_count": null,
   "metadata": {},
   "outputs": [],
   "source": [
    "ss=inspect.getfullargspec(call())"
   ]
  },
  {
   "cell_type": "code",
   "execution_count": null,
   "metadata": {},
   "outputs": [],
   "source": [
    "ss.args"
   ]
  },
  {
   "cell_type": "code",
   "execution_count": null,
   "metadata": {},
   "outputs": [],
   "source": [
    "ss.varkw"
   ]
  },
  {
   "cell_type": "code",
   "execution_count": null,
   "metadata": {},
   "outputs": [],
   "source": [
    "import csv\n",
    "import random\n",
    "import uuid\n",
    "import os"
   ]
  },
  {
   "cell_type": "code",
   "execution_count": null,
   "metadata": {},
   "outputs": [],
   "source": [
    "import threading"
   ]
  },
  {
   "cell_type": "code",
   "execution_count": null,
   "metadata": {},
   "outputs": [],
   "source": [
    "import logging"
   ]
  },
  {
   "cell_type": "code",
   "execution_count": null,
   "metadata": {},
   "outputs": [],
   "source": [
    "import re"
   ]
  },
  {
   "cell_type": "code",
   "execution_count": null,
   "metadata": {},
   "outputs": [],
   "source": [
    "r=re.compile('\\x00')"
   ]
  },
  {
   "cell_type": "code",
   "execution_count": null,
   "metadata": {},
   "outputs": [],
   "source": [
    "hasNext"
   ]
  },
  {
   "cell_type": "code",
   "execution_count": null,
   "metadata": {},
   "outputs": [],
   "source": [
    "def write(file, stringss):\n",
    "    writer = csv.writer(file)\n",
    "    for i in range(len(stringss)):\n",
    "        print(i)\n",
    "        writer.writerow(stringss[i])\n",
    "    return"
   ]
  },
  {
   "cell_type": "code",
   "execution_count": null,
   "metadata": {},
   "outputs": [],
   "source": [
    "class FilterReader:\n",
    "    def __init__(self, iterable):\n",
    "        if hasattr(iterable, '__next__'):\n",
    "            self.iterator = iterable\n",
    "        else:\n",
    "            self.iterator = iter(iterable)\n",
    "            \n",
    "    def __iter__(self):\n",
    "        return self\n",
    "\n",
    "    def __next__(self):\n",
    "        val = next(self.iterator)\n",
    "        if isinstance(val, str):\n",
    "            val = val.replace('\\x00', '')\n",
    "        return val"
   ]
  },
  {
   "cell_type": "code",
   "execution_count": null,
   "metadata": {},
   "outputs": [],
   "source": [
    "f=open(name, 'a+', newline='', encoding='gbk')"
   ]
  },
  {
   "cell_type": "code",
   "execution_count": null,
   "metadata": {},
   "outputs": [],
   "source": [
    "f.seek(0)"
   ]
  },
  {
   "cell_type": "code",
   "execution_count": null,
   "metadata": {},
   "outputs": [],
   "source": [
    "from collections import Iterable"
   ]
  },
  {
   "cell_type": "code",
   "execution_count": null,
   "metadata": {},
   "outputs": [],
   "source": [
    "import sys"
   ]
  },
  {
   "cell_type": "code",
   "execution_count": null,
   "metadata": {},
   "outputs": [],
   "source": [
    "d={}"
   ]
  },
  {
   "cell_type": "code",
   "execution_count": null,
   "metadata": {},
   "outputs": [],
   "source": [
    "setattr(d,'a',2)"
   ]
  },
  {
   "cell_type": "code",
   "execution_count": null,
   "metadata": {},
   "outputs": [],
   "source": [
    "sys.stdin.encoding"
   ]
  },
  {
   "cell_type": "code",
   "execution_count": null,
   "metadata": {},
   "outputs": [],
   "source": [
    "f.write('a')"
   ]
  },
  {
   "cell_type": "code",
   "execution_count": null,
   "metadata": {},
   "outputs": [],
   "source": [
    "f.close()"
   ]
  },
  {
   "cell_type": "code",
   "execution_count": null,
   "metadata": {},
   "outputs": [],
   "source": [
    "data=[\n",
    "    ['\\n\"', '123'],\n",
    "    ['\\n\"', '123']\n",
    "]"
   ]
  },
  {
   "cell_type": "code",
   "execution_count": null,
   "metadata": {},
   "outputs": [],
   "source": [
    "name = './temp.txt'\n",
    "#os.makedirs(os.path.normpath(os.path.join(name, '..')))\n",
    "f=open(name, 'w')"
   ]
  },
  {
   "cell_type": "code",
   "execution_count": null,
   "metadata": {},
   "outputs": [],
   "source": [
    "\n",
    "f.write('\"1\",2\\n\"')\n",
    "for i in range(0,128):\n",
    "    f.write(chr(i))\n",
    "f.write('1\",2\\n')\n",
    "f.close()"
   ]
  },
  {
   "cell_type": "code",
   "execution_count": null,
   "metadata": {
    "scrolled": true
   },
   "outputs": [],
   "source": [
    "with open('./temp.txt', 'r') as file:\n",
    "    reader=csv.reader((file))\n",
    "    for line in reader:\n",
    "        print(line)"
   ]
  },
  {
   "cell_type": "code",
   "execution_count": null,
   "metadata": {},
   "outputs": [],
   "source": [
    "f=open('./temp.txt', 'a+' ,newline='')"
   ]
  },
  {
   "cell_type": "code",
   "execution_count": null,
   "metadata": {},
   "outputs": [],
   "source": [
    "f.write('aaa')"
   ]
  },
  {
   "cell_type": "code",
   "execution_count": null,
   "metadata": {},
   "outputs": [],
   "source": [
    "with open('./temp.txt', 'a+' ,newline='') as file:\n",
    "    write(file, data)"
   ]
  },
  {
   "cell_type": "code",
   "execution_count": null,
   "metadata": {},
   "outputs": [],
   "source": [
    "class Storage(object):\n",
    "    def __init__(self, filepath):\n",
    "        self._filepath = filepath\n",
    "        return\n",
    "    def reload(self):\n",
    "        data = {}\n",
    "        with open(self._filepath, 'r') as file:\n",
    "            for line in csv.reader(file):\n",
    "                if (len(line) < 1):\n",
    "                    continue\n",
    "                try:\n",
    "                    version = line[0]\n",
    "                    if (version == '1'):\n",
    "                        op = line[1]\n",
    "                        key = line[2]\n",
    "                        if (op == 'u'):\n",
    "                            data[key] = line[3]\n",
    "                        else if (op == 'd'):\n",
    "                            del data[key]\n",
    "                        else:\n",
    "                            raise Exception('unsupported operation \"%s\"' % (op))\n",
    "                    else:\n",
    "                        raise Exception('unsupported data version \"%s\"' % (version))\n",
    "                except Exception as e:\n",
    "                    pass\n",
    "        self._data = data\n",
    "        return\n",
    "    def update(self, key, item):\n",
    "        with open(self._filepath, 'a', newline='') as file:\n",
    "            writer = csv.writer(file)\n",
    "            writer.writerow(['1', 'u', key, item])\n",
    "    def delete(self, key):\n",
    "        with open(self._filepath, 'a', newline='') as file:\n",
    "            writer = csv.writer(file)\n",
    "            writer.writerow(['1', 'd', key])"
   ]
  },
  {
   "cell_type": "code",
   "execution_count": null,
   "metadata": {},
   "outputs": [],
   "source": []
  }
 ],
 "metadata": {
  "kernelspec": {
   "display_name": "Python3.7",
   "language": "python",
   "name": "python3.7"
  },
  "language_info": {
   "codemirror_mode": {
    "name": "ipython",
    "version": 3
   },
   "file_extension": ".py",
   "mimetype": "text/x-python",
   "name": "python",
   "nbconvert_exporter": "python",
   "pygments_lexer": "ipython3",
   "version": "3.7.2"
  }
 },
 "nbformat": 4,
 "nbformat_minor": 2
}

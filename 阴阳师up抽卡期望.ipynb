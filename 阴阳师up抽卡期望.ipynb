{
 "cells": [
  {
   "cell_type": "code",
   "execution_count": 4,
   "metadata": {},
   "outputs": [],
   "source": [
    "import random\n",
    "import math"
   ]
  },
  {
   "cell_type": "code",
   "execution_count": 153,
   "metadata": {},
   "outputs": [],
   "source": [
    "def pctFunc(times):\n",
    "    '''SSR未收录概率，根据已抽次数决定'''\n",
    "    if times < 400:\n",
    "        return math.floor(times / 50) * 0.05 + 0.15\n",
    "    if times < 450:\n",
    "        return 0.6\n",
    "    if times < 500:\n",
    "        return 0.8\n",
    "    return 1"
   ]
  },
  {
   "cell_type": "code",
   "execution_count": 152,
   "metadata": {},
   "outputs": [],
   "source": [
    "def pctFuncSp(times):\n",
    "    '''SP未收录概率'''\n",
    "    if times < 350:\n",
    "        return math.floor(times / 50) * 0.05 + 0.10\n",
    "    if times < 400:\n",
    "        return 0.5\n",
    "    if times < 450:\n",
    "        return 0.6\n",
    "    if times < 500:\n",
    "        return 0.8\n",
    "    return 1"
   ]
  },
  {
   "cell_type": "code",
   "execution_count": 141,
   "metadata": {},
   "outputs": [],
   "source": [
    "def calcOnce(up, pct, uppct, pctFunc):\n",
    "    times = 0\n",
    "    onUp = True\n",
    "    truePct = uppct\n",
    "    while True:\n",
    "        if onUp and up < 1:\n",
    "            onUp = False\n",
    "            truePct = pct\n",
    "        if random.random() < truePct:\n",
    "            up-=1\n",
    "            hitPct = pctFunc(times)\n",
    "            if random.random() < hitPct:\n",
    "                return times+1\n",
    "        times+=1\n",
    "def calc(up, pct, uppct, times, pctFunc):\n",
    "    '''up次数，pct概率，up概率pct，随机次数，未收录概率函数'''\n",
    "    total = 0\n",
    "    for i in range(times):\n",
    "        total += calcOnce(up, pct, uppct, pctFunc)\n",
    "    return total / times"
   ]
  },
  {
   "cell_type": "code",
   "execution_count": 154,
   "metadata": {},
   "outputs": [
    {
     "data": {
      "text/plain": [
       "196.48813"
      ]
     },
     "execution_count": 154,
     "metadata": {},
     "output_type": "execute_result"
    }
   ],
   "source": [
    "calc(3, 0.012, 0.03, 100000, pctFuncSp)"
   ]
  },
  {
   "cell_type": "code",
   "execution_count": 155,
   "metadata": {},
   "outputs": [
    {
     "data": {
      "text/plain": [
       "234.11559"
      ]
     },
     "execution_count": 155,
     "metadata": {},
     "output_type": "execute_result"
    }
   ],
   "source": [
    "calc(3, 0.012, 0.03, 100000, pctFuncSp)"
   ]
  }
 ],
 "metadata": {
  "kernelspec": {
   "display_name": "Python3.7",
   "language": "python",
   "name": "python3.7"
  },
  "language_info": {
   "codemirror_mode": {
    "name": "ipython",
    "version": 3
   },
   "file_extension": ".py",
   "mimetype": "text/x-python",
   "name": "python",
   "nbconvert_exporter": "python",
   "pygments_lexer": "ipython3",
   "version": "3.7.2"
  }
 },
 "nbformat": 4,
 "nbformat_minor": 2
}
